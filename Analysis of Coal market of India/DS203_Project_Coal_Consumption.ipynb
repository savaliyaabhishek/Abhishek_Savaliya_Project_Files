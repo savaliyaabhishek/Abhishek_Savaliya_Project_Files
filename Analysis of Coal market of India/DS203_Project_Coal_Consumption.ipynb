{
  "nbformat": 4,
  "nbformat_minor": 0,
  "metadata": {
    "colab": {
      "provenance": []
    },
    "kernelspec": {
      "name": "python3",
      "display_name": "Python 3"
    },
    "language_info": {
      "name": "python"
    }
  },
  "cells": [
    {
      "cell_type": "markdown",
      "source": [
        "# Reading the data"
      ],
      "metadata": {
        "id": "vIQSXXhXwy0t"
      }
    },
    {
      "cell_type": "code",
      "execution_count": 2,
      "metadata": {
        "colab": {
          "base_uri": "https://localhost:8080/",
          "height": 74
        },
        "id": "jWvqh66Lrm-K",
        "outputId": "374eb700-54b4-4df5-ae0f-39d2881ea2ee"
      },
      "outputs": [
        {
          "output_type": "display_data",
          "data": {
            "text/plain": [
              "<IPython.core.display.HTML object>"
            ],
            "text/html": [
              "\n",
              "     <input type=\"file\" id=\"files-fdfc8419-94f6-4a02-a2e7-7a0cf1076b18\" name=\"files[]\" multiple disabled\n",
              "        style=\"border:none\" />\n",
              "     <output id=\"result-fdfc8419-94f6-4a02-a2e7-7a0cf1076b18\">\n",
              "      Upload widget is only available when the cell has been executed in the\n",
              "      current browser session. Please rerun this cell to enable.\n",
              "      </output>\n",
              "      <script>// Copyright 2017 Google LLC\n",
              "//\n",
              "// Licensed under the Apache License, Version 2.0 (the \"License\");\n",
              "// you may not use this file except in compliance with the License.\n",
              "// You may obtain a copy of the License at\n",
              "//\n",
              "//      http://www.apache.org/licenses/LICENSE-2.0\n",
              "//\n",
              "// Unless required by applicable law or agreed to in writing, software\n",
              "// distributed under the License is distributed on an \"AS IS\" BASIS,\n",
              "// WITHOUT WARRANTIES OR CONDITIONS OF ANY KIND, either express or implied.\n",
              "// See the License for the specific language governing permissions and\n",
              "// limitations under the License.\n",
              "\n",
              "/**\n",
              " * @fileoverview Helpers for google.colab Python module.\n",
              " */\n",
              "(function(scope) {\n",
              "function span(text, styleAttributes = {}) {\n",
              "  const element = document.createElement('span');\n",
              "  element.textContent = text;\n",
              "  for (const key of Object.keys(styleAttributes)) {\n",
              "    element.style[key] = styleAttributes[key];\n",
              "  }\n",
              "  return element;\n",
              "}\n",
              "\n",
              "// Max number of bytes which will be uploaded at a time.\n",
              "const MAX_PAYLOAD_SIZE = 100 * 1024;\n",
              "\n",
              "function _uploadFiles(inputId, outputId) {\n",
              "  const steps = uploadFilesStep(inputId, outputId);\n",
              "  const outputElement = document.getElementById(outputId);\n",
              "  // Cache steps on the outputElement to make it available for the next call\n",
              "  // to uploadFilesContinue from Python.\n",
              "  outputElement.steps = steps;\n",
              "\n",
              "  return _uploadFilesContinue(outputId);\n",
              "}\n",
              "\n",
              "// This is roughly an async generator (not supported in the browser yet),\n",
              "// where there are multiple asynchronous steps and the Python side is going\n",
              "// to poll for completion of each step.\n",
              "// This uses a Promise to block the python side on completion of each step,\n",
              "// then passes the result of the previous step as the input to the next step.\n",
              "function _uploadFilesContinue(outputId) {\n",
              "  const outputElement = document.getElementById(outputId);\n",
              "  const steps = outputElement.steps;\n",
              "\n",
              "  const next = steps.next(outputElement.lastPromiseValue);\n",
              "  return Promise.resolve(next.value.promise).then((value) => {\n",
              "    // Cache the last promise value to make it available to the next\n",
              "    // step of the generator.\n",
              "    outputElement.lastPromiseValue = value;\n",
              "    return next.value.response;\n",
              "  });\n",
              "}\n",
              "\n",
              "/**\n",
              " * Generator function which is called between each async step of the upload\n",
              " * process.\n",
              " * @param {string} inputId Element ID of the input file picker element.\n",
              " * @param {string} outputId Element ID of the output display.\n",
              " * @return {!Iterable<!Object>} Iterable of next steps.\n",
              " */\n",
              "function* uploadFilesStep(inputId, outputId) {\n",
              "  const inputElement = document.getElementById(inputId);\n",
              "  inputElement.disabled = false;\n",
              "\n",
              "  const outputElement = document.getElementById(outputId);\n",
              "  outputElement.innerHTML = '';\n",
              "\n",
              "  const pickedPromise = new Promise((resolve) => {\n",
              "    inputElement.addEventListener('change', (e) => {\n",
              "      resolve(e.target.files);\n",
              "    });\n",
              "  });\n",
              "\n",
              "  const cancel = document.createElement('button');\n",
              "  inputElement.parentElement.appendChild(cancel);\n",
              "  cancel.textContent = 'Cancel upload';\n",
              "  const cancelPromise = new Promise((resolve) => {\n",
              "    cancel.onclick = () => {\n",
              "      resolve(null);\n",
              "    };\n",
              "  });\n",
              "\n",
              "  // Wait for the user to pick the files.\n",
              "  const files = yield {\n",
              "    promise: Promise.race([pickedPromise, cancelPromise]),\n",
              "    response: {\n",
              "      action: 'starting',\n",
              "    }\n",
              "  };\n",
              "\n",
              "  cancel.remove();\n",
              "\n",
              "  // Disable the input element since further picks are not allowed.\n",
              "  inputElement.disabled = true;\n",
              "\n",
              "  if (!files) {\n",
              "    return {\n",
              "      response: {\n",
              "        action: 'complete',\n",
              "      }\n",
              "    };\n",
              "  }\n",
              "\n",
              "  for (const file of files) {\n",
              "    const li = document.createElement('li');\n",
              "    li.append(span(file.name, {fontWeight: 'bold'}));\n",
              "    li.append(span(\n",
              "        `(${file.type || 'n/a'}) - ${file.size} bytes, ` +\n",
              "        `last modified: ${\n",
              "            file.lastModifiedDate ? file.lastModifiedDate.toLocaleDateString() :\n",
              "                                    'n/a'} - `));\n",
              "    const percent = span('0% done');\n",
              "    li.appendChild(percent);\n",
              "\n",
              "    outputElement.appendChild(li);\n",
              "\n",
              "    const fileDataPromise = new Promise((resolve) => {\n",
              "      const reader = new FileReader();\n",
              "      reader.onload = (e) => {\n",
              "        resolve(e.target.result);\n",
              "      };\n",
              "      reader.readAsArrayBuffer(file);\n",
              "    });\n",
              "    // Wait for the data to be ready.\n",
              "    let fileData = yield {\n",
              "      promise: fileDataPromise,\n",
              "      response: {\n",
              "        action: 'continue',\n",
              "      }\n",
              "    };\n",
              "\n",
              "    // Use a chunked sending to avoid message size limits. See b/62115660.\n",
              "    let position = 0;\n",
              "    do {\n",
              "      const length = Math.min(fileData.byteLength - position, MAX_PAYLOAD_SIZE);\n",
              "      const chunk = new Uint8Array(fileData, position, length);\n",
              "      position += length;\n",
              "\n",
              "      const base64 = btoa(String.fromCharCode.apply(null, chunk));\n",
              "      yield {\n",
              "        response: {\n",
              "          action: 'append',\n",
              "          file: file.name,\n",
              "          data: base64,\n",
              "        },\n",
              "      };\n",
              "\n",
              "      let percentDone = fileData.byteLength === 0 ?\n",
              "          100 :\n",
              "          Math.round((position / fileData.byteLength) * 100);\n",
              "      percent.textContent = `${percentDone}% done`;\n",
              "\n",
              "    } while (position < fileData.byteLength);\n",
              "  }\n",
              "\n",
              "  // All done.\n",
              "  yield {\n",
              "    response: {\n",
              "      action: 'complete',\n",
              "    }\n",
              "  };\n",
              "}\n",
              "\n",
              "scope.google = scope.google || {};\n",
              "scope.google.colab = scope.google.colab || {};\n",
              "scope.google.colab._files = {\n",
              "  _uploadFiles,\n",
              "  _uploadFilesContinue,\n",
              "};\n",
              "})(self);\n",
              "</script> "
            ]
          },
          "metadata": {}
        },
        {
          "output_type": "stream",
          "name": "stdout",
          "text": [
            "Saving Coal Consumption.csv to Coal Consumption (1).csv\n"
          ]
        }
      ],
      "source": [
        "# UPLOADING DATA FILE\n",
        "\n",
        "from google.colab import files\n",
        "\n",
        "upload = files.upload()"
      ]
    },
    {
      "cell_type": "code",
      "source": [
        "pip install geopandas"
      ],
      "metadata": {
        "colab": {
          "base_uri": "https://localhost:8080/"
        },
        "id": "-UQ2q1Eq_PQ8",
        "outputId": "36c67361-8068-4e0c-8f59-21d587ebe87d"
      },
      "execution_count": 3,
      "outputs": [
        {
          "output_type": "stream",
          "name": "stdout",
          "text": [
            "Looking in indexes: https://pypi.org/simple, https://us-python.pkg.dev/colab-wheels/public/simple/\n",
            "Requirement already satisfied: geopandas in /usr/local/lib/python3.7/dist-packages (0.10.2)\n",
            "Requirement already satisfied: fiona>=1.8 in /usr/local/lib/python3.7/dist-packages (from geopandas) (1.8.22)\n",
            "Requirement already satisfied: pyproj>=2.2.0 in /usr/local/lib/python3.7/dist-packages (from geopandas) (3.2.1)\n",
            "Requirement already satisfied: shapely>=1.6 in /usr/local/lib/python3.7/dist-packages (from geopandas) (1.8.5.post1)\n",
            "Requirement already satisfied: pandas>=0.25.0 in /usr/local/lib/python3.7/dist-packages (from geopandas) (1.3.5)\n",
            "Requirement already satisfied: cligj>=0.5 in /usr/local/lib/python3.7/dist-packages (from fiona>=1.8->geopandas) (0.7.2)\n",
            "Requirement already satisfied: attrs>=17 in /usr/local/lib/python3.7/dist-packages (from fiona>=1.8->geopandas) (22.1.0)\n",
            "Requirement already satisfied: munch in /usr/local/lib/python3.7/dist-packages (from fiona>=1.8->geopandas) (2.5.0)\n",
            "Requirement already satisfied: six>=1.7 in /usr/local/lib/python3.7/dist-packages (from fiona>=1.8->geopandas) (1.15.0)\n",
            "Requirement already satisfied: click-plugins>=1.0 in /usr/local/lib/python3.7/dist-packages (from fiona>=1.8->geopandas) (1.1.1)\n",
            "Requirement already satisfied: certifi in /usr/local/lib/python3.7/dist-packages (from fiona>=1.8->geopandas) (2022.9.24)\n",
            "Requirement already satisfied: setuptools in /usr/local/lib/python3.7/dist-packages (from fiona>=1.8->geopandas) (57.4.0)\n",
            "Requirement already satisfied: click>=4.0 in /usr/local/lib/python3.7/dist-packages (from fiona>=1.8->geopandas) (7.1.2)\n",
            "Requirement already satisfied: pytz>=2017.3 in /usr/local/lib/python3.7/dist-packages (from pandas>=0.25.0->geopandas) (2022.6)\n",
            "Requirement already satisfied: python-dateutil>=2.7.3 in /usr/local/lib/python3.7/dist-packages (from pandas>=0.25.0->geopandas) (2.8.2)\n",
            "Requirement already satisfied: numpy>=1.17.3 in /usr/local/lib/python3.7/dist-packages (from pandas>=0.25.0->geopandas) (1.21.6)\n"
          ]
        }
      ]
    },
    {
      "cell_type": "code",
      "source": [
        "import pandas as pd\n",
        "import seaborn as sb\n",
        "import matplotlib.pyplot as plt\n",
        "import numpy as np\n",
        "import seaborn as sns\n",
        "import geopandas as gpd\n",
        "from shapely.geometry import Point\n",
        "sns.set_style('whitegrid')"
      ],
      "metadata": {
        "id": "DhBhBAg7t62a"
      },
      "execution_count": 4,
      "outputs": []
    },
    {
      "cell_type": "code",
      "source": [
        "df = pd.read_csv('Coal Consumption.csv')\n",
        "display(df)"
      ],
      "metadata": {
        "colab": {
          "base_uri": "https://localhost:8080/",
          "height": 424
        },
        "id": "HFWQVUL-uEom",
        "outputId": "6cd1b504-9004-4a12-b8d6-c77056efcf57"
      },
      "execution_count": 5,
      "outputs": [
        {
          "output_type": "display_data",
          "data": {
            "text/plain": [
              "      Rowid Country  State lgd code              State  Year Types of coal  \\\n",
              "0         1   India               1  Jammu And Kashmir  2011      RAW COAL   \n",
              "1         2   India               1  Jammu And Kashmir  2011      RAW COAL   \n",
              "2         3   India               1  Jammu And Kashmir  2012      RAW COAL   \n",
              "3         4   India               1  Jammu And Kashmir  2012      RAW COAL   \n",
              "4         5   India               1  Jammu And Kashmir  2012      RAW COAL   \n",
              "...     ...     ...             ...                ...   ...           ...   \n",
              "1979   1980   India              37             Ladakh  2018      RAW COAL   \n",
              "1980   1981   India              37             Ladakh  2019      RAW COAL   \n",
              "1981   1982   India              37             Ladakh  2019      RAW COAL   \n",
              "1982   1983   India              37             Ladakh  2020      RAW COAL   \n",
              "1983   1984   India              37             Ladakh  2020      RAW COAL   \n",
              "\n",
              "     Coal consuming sectors  Coal consumed  \n",
              "0                    CEMENT       0.051000  \n",
              "1                     OTHER       0.108000  \n",
              "2                    BRICKS       0.017000  \n",
              "3                    CEMENT       0.030000  \n",
              "4                     OTHER       0.044000  \n",
              "...                     ...            ...  \n",
              "1979                  OTHER       0.000740  \n",
              "1980                 CEMENT       0.000000  \n",
              "1981                  OTHER       0.000000  \n",
              "1982                 CEMENT       0.000152  \n",
              "1983                  OTHER       0.000190  \n",
              "\n",
              "[1984 rows x 8 columns]"
            ],
            "text/html": [
              "\n",
              "  <div id=\"df-d7d7ecd4-db1e-442e-8fb7-7a21a8ddd6d8\">\n",
              "    <div class=\"colab-df-container\">\n",
              "      <div>\n",
              "<style scoped>\n",
              "    .dataframe tbody tr th:only-of-type {\n",
              "        vertical-align: middle;\n",
              "    }\n",
              "\n",
              "    .dataframe tbody tr th {\n",
              "        vertical-align: top;\n",
              "    }\n",
              "\n",
              "    .dataframe thead th {\n",
              "        text-align: right;\n",
              "    }\n",
              "</style>\n",
              "<table border=\"1\" class=\"dataframe\">\n",
              "  <thead>\n",
              "    <tr style=\"text-align: right;\">\n",
              "      <th></th>\n",
              "      <th>Rowid</th>\n",
              "      <th>Country</th>\n",
              "      <th>State lgd code</th>\n",
              "      <th>State</th>\n",
              "      <th>Year</th>\n",
              "      <th>Types of coal</th>\n",
              "      <th>Coal consuming sectors</th>\n",
              "      <th>Coal consumed</th>\n",
              "    </tr>\n",
              "  </thead>\n",
              "  <tbody>\n",
              "    <tr>\n",
              "      <th>0</th>\n",
              "      <td>1</td>\n",
              "      <td>India</td>\n",
              "      <td>1</td>\n",
              "      <td>Jammu And Kashmir</td>\n",
              "      <td>2011</td>\n",
              "      <td>RAW COAL</td>\n",
              "      <td>CEMENT</td>\n",
              "      <td>0.051000</td>\n",
              "    </tr>\n",
              "    <tr>\n",
              "      <th>1</th>\n",
              "      <td>2</td>\n",
              "      <td>India</td>\n",
              "      <td>1</td>\n",
              "      <td>Jammu And Kashmir</td>\n",
              "      <td>2011</td>\n",
              "      <td>RAW COAL</td>\n",
              "      <td>OTHER</td>\n",
              "      <td>0.108000</td>\n",
              "    </tr>\n",
              "    <tr>\n",
              "      <th>2</th>\n",
              "      <td>3</td>\n",
              "      <td>India</td>\n",
              "      <td>1</td>\n",
              "      <td>Jammu And Kashmir</td>\n",
              "      <td>2012</td>\n",
              "      <td>RAW COAL</td>\n",
              "      <td>BRICKS</td>\n",
              "      <td>0.017000</td>\n",
              "    </tr>\n",
              "    <tr>\n",
              "      <th>3</th>\n",
              "      <td>4</td>\n",
              "      <td>India</td>\n",
              "      <td>1</td>\n",
              "      <td>Jammu And Kashmir</td>\n",
              "      <td>2012</td>\n",
              "      <td>RAW COAL</td>\n",
              "      <td>CEMENT</td>\n",
              "      <td>0.030000</td>\n",
              "    </tr>\n",
              "    <tr>\n",
              "      <th>4</th>\n",
              "      <td>5</td>\n",
              "      <td>India</td>\n",
              "      <td>1</td>\n",
              "      <td>Jammu And Kashmir</td>\n",
              "      <td>2012</td>\n",
              "      <td>RAW COAL</td>\n",
              "      <td>OTHER</td>\n",
              "      <td>0.044000</td>\n",
              "    </tr>\n",
              "    <tr>\n",
              "      <th>...</th>\n",
              "      <td>...</td>\n",
              "      <td>...</td>\n",
              "      <td>...</td>\n",
              "      <td>...</td>\n",
              "      <td>...</td>\n",
              "      <td>...</td>\n",
              "      <td>...</td>\n",
              "      <td>...</td>\n",
              "    </tr>\n",
              "    <tr>\n",
              "      <th>1979</th>\n",
              "      <td>1980</td>\n",
              "      <td>India</td>\n",
              "      <td>37</td>\n",
              "      <td>Ladakh</td>\n",
              "      <td>2018</td>\n",
              "      <td>RAW COAL</td>\n",
              "      <td>OTHER</td>\n",
              "      <td>0.000740</td>\n",
              "    </tr>\n",
              "    <tr>\n",
              "      <th>1980</th>\n",
              "      <td>1981</td>\n",
              "      <td>India</td>\n",
              "      <td>37</td>\n",
              "      <td>Ladakh</td>\n",
              "      <td>2019</td>\n",
              "      <td>RAW COAL</td>\n",
              "      <td>CEMENT</td>\n",
              "      <td>0.000000</td>\n",
              "    </tr>\n",
              "    <tr>\n",
              "      <th>1981</th>\n",
              "      <td>1982</td>\n",
              "      <td>India</td>\n",
              "      <td>37</td>\n",
              "      <td>Ladakh</td>\n",
              "      <td>2019</td>\n",
              "      <td>RAW COAL</td>\n",
              "      <td>OTHER</td>\n",
              "      <td>0.000000</td>\n",
              "    </tr>\n",
              "    <tr>\n",
              "      <th>1982</th>\n",
              "      <td>1983</td>\n",
              "      <td>India</td>\n",
              "      <td>37</td>\n",
              "      <td>Ladakh</td>\n",
              "      <td>2020</td>\n",
              "      <td>RAW COAL</td>\n",
              "      <td>CEMENT</td>\n",
              "      <td>0.000152</td>\n",
              "    </tr>\n",
              "    <tr>\n",
              "      <th>1983</th>\n",
              "      <td>1984</td>\n",
              "      <td>India</td>\n",
              "      <td>37</td>\n",
              "      <td>Ladakh</td>\n",
              "      <td>2020</td>\n",
              "      <td>RAW COAL</td>\n",
              "      <td>OTHER</td>\n",
              "      <td>0.000190</td>\n",
              "    </tr>\n",
              "  </tbody>\n",
              "</table>\n",
              "<p>1984 rows × 8 columns</p>\n",
              "</div>\n",
              "      <button class=\"colab-df-convert\" onclick=\"convertToInteractive('df-d7d7ecd4-db1e-442e-8fb7-7a21a8ddd6d8')\"\n",
              "              title=\"Convert this dataframe to an interactive table.\"\n",
              "              style=\"display:none;\">\n",
              "        \n",
              "  <svg xmlns=\"http://www.w3.org/2000/svg\" height=\"24px\"viewBox=\"0 0 24 24\"\n",
              "       width=\"24px\">\n",
              "    <path d=\"M0 0h24v24H0V0z\" fill=\"none\"/>\n",
              "    <path d=\"M18.56 5.44l.94 2.06.94-2.06 2.06-.94-2.06-.94-.94-2.06-.94 2.06-2.06.94zm-11 1L8.5 8.5l.94-2.06 2.06-.94-2.06-.94L8.5 2.5l-.94 2.06-2.06.94zm10 10l.94 2.06.94-2.06 2.06-.94-2.06-.94-.94-2.06-.94 2.06-2.06.94z\"/><path d=\"M17.41 7.96l-1.37-1.37c-.4-.4-.92-.59-1.43-.59-.52 0-1.04.2-1.43.59L10.3 9.45l-7.72 7.72c-.78.78-.78 2.05 0 2.83L4 21.41c.39.39.9.59 1.41.59.51 0 1.02-.2 1.41-.59l7.78-7.78 2.81-2.81c.8-.78.8-2.07 0-2.86zM5.41 20L4 18.59l7.72-7.72 1.47 1.35L5.41 20z\"/>\n",
              "  </svg>\n",
              "      </button>\n",
              "      \n",
              "  <style>\n",
              "    .colab-df-container {\n",
              "      display:flex;\n",
              "      flex-wrap:wrap;\n",
              "      gap: 12px;\n",
              "    }\n",
              "\n",
              "    .colab-df-convert {\n",
              "      background-color: #E8F0FE;\n",
              "      border: none;\n",
              "      border-radius: 50%;\n",
              "      cursor: pointer;\n",
              "      display: none;\n",
              "      fill: #1967D2;\n",
              "      height: 32px;\n",
              "      padding: 0 0 0 0;\n",
              "      width: 32px;\n",
              "    }\n",
              "\n",
              "    .colab-df-convert:hover {\n",
              "      background-color: #E2EBFA;\n",
              "      box-shadow: 0px 1px 2px rgba(60, 64, 67, 0.3), 0px 1px 3px 1px rgba(60, 64, 67, 0.15);\n",
              "      fill: #174EA6;\n",
              "    }\n",
              "\n",
              "    [theme=dark] .colab-df-convert {\n",
              "      background-color: #3B4455;\n",
              "      fill: #D2E3FC;\n",
              "    }\n",
              "\n",
              "    [theme=dark] .colab-df-convert:hover {\n",
              "      background-color: #434B5C;\n",
              "      box-shadow: 0px 1px 3px 1px rgba(0, 0, 0, 0.15);\n",
              "      filter: drop-shadow(0px 1px 2px rgba(0, 0, 0, 0.3));\n",
              "      fill: #FFFFFF;\n",
              "    }\n",
              "  </style>\n",
              "\n",
              "      <script>\n",
              "        const buttonEl =\n",
              "          document.querySelector('#df-d7d7ecd4-db1e-442e-8fb7-7a21a8ddd6d8 button.colab-df-convert');\n",
              "        buttonEl.style.display =\n",
              "          google.colab.kernel.accessAllowed ? 'block' : 'none';\n",
              "\n",
              "        async function convertToInteractive(key) {\n",
              "          const element = document.querySelector('#df-d7d7ecd4-db1e-442e-8fb7-7a21a8ddd6d8');\n",
              "          const dataTable =\n",
              "            await google.colab.kernel.invokeFunction('convertToInteractive',\n",
              "                                                     [key], {});\n",
              "          if (!dataTable) return;\n",
              "\n",
              "          const docLinkHtml = 'Like what you see? Visit the ' +\n",
              "            '<a target=\"_blank\" href=https://colab.research.google.com/notebooks/data_table.ipynb>data table notebook</a>'\n",
              "            + ' to learn more about interactive tables.';\n",
              "          element.innerHTML = '';\n",
              "          dataTable['output_type'] = 'display_data';\n",
              "          await google.colab.output.renderOutput(dataTable, element);\n",
              "          const docLink = document.createElement('div');\n",
              "          docLink.innerHTML = docLinkHtml;\n",
              "          element.appendChild(docLink);\n",
              "        }\n",
              "      </script>\n",
              "    </div>\n",
              "  </div>\n",
              "  "
            ]
          },
          "metadata": {}
        }
      ]
    },
    {
      "cell_type": "markdown",
      "source": [
        "# Some basic insights into data"
      ],
      "metadata": {
        "id": "CLxhrzbkwuMt"
      }
    },
    {
      "cell_type": "code",
      "source": [
        "df.describe()"
      ],
      "metadata": {
        "colab": {
          "base_uri": "https://localhost:8080/",
          "height": 300
        },
        "id": "zgAPlbWPuXIn",
        "outputId": "ba235fff-583c-4846-ef8d-ce985114a7b0"
      },
      "execution_count": 6,
      "outputs": [
        {
          "output_type": "execute_result",
          "data": {
            "text/plain": [
              "             Rowid  State lgd code         Year  Coal consumed\n",
              "count  1984.000000     1984.000000  1984.000000    1984.000000\n",
              "mean    992.500000       20.504536  2015.294355       3.294219\n",
              "std     572.875786        9.303965     2.836448       9.316642\n",
              "min       1.000000        1.000000  2011.000000       0.000000\n",
              "25%     496.750000       17.000000  2013.000000       0.034000\n",
              "50%     992.500000       21.000000  2015.000000       0.206000\n",
              "75%    1488.250000       27.000000  2018.000000       1.316500\n",
              "max    1984.000000       37.000000  2020.000000      79.342000"
            ],
            "text/html": [
              "\n",
              "  <div id=\"df-84457bb1-6746-45e7-9d2f-c1c99358364f\">\n",
              "    <div class=\"colab-df-container\">\n",
              "      <div>\n",
              "<style scoped>\n",
              "    .dataframe tbody tr th:only-of-type {\n",
              "        vertical-align: middle;\n",
              "    }\n",
              "\n",
              "    .dataframe tbody tr th {\n",
              "        vertical-align: top;\n",
              "    }\n",
              "\n",
              "    .dataframe thead th {\n",
              "        text-align: right;\n",
              "    }\n",
              "</style>\n",
              "<table border=\"1\" class=\"dataframe\">\n",
              "  <thead>\n",
              "    <tr style=\"text-align: right;\">\n",
              "      <th></th>\n",
              "      <th>Rowid</th>\n",
              "      <th>State lgd code</th>\n",
              "      <th>Year</th>\n",
              "      <th>Coal consumed</th>\n",
              "    </tr>\n",
              "  </thead>\n",
              "  <tbody>\n",
              "    <tr>\n",
              "      <th>count</th>\n",
              "      <td>1984.000000</td>\n",
              "      <td>1984.000000</td>\n",
              "      <td>1984.000000</td>\n",
              "      <td>1984.000000</td>\n",
              "    </tr>\n",
              "    <tr>\n",
              "      <th>mean</th>\n",
              "      <td>992.500000</td>\n",
              "      <td>20.504536</td>\n",
              "      <td>2015.294355</td>\n",
              "      <td>3.294219</td>\n",
              "    </tr>\n",
              "    <tr>\n",
              "      <th>std</th>\n",
              "      <td>572.875786</td>\n",
              "      <td>9.303965</td>\n",
              "      <td>2.836448</td>\n",
              "      <td>9.316642</td>\n",
              "    </tr>\n",
              "    <tr>\n",
              "      <th>min</th>\n",
              "      <td>1.000000</td>\n",
              "      <td>1.000000</td>\n",
              "      <td>2011.000000</td>\n",
              "      <td>0.000000</td>\n",
              "    </tr>\n",
              "    <tr>\n",
              "      <th>25%</th>\n",
              "      <td>496.750000</td>\n",
              "      <td>17.000000</td>\n",
              "      <td>2013.000000</td>\n",
              "      <td>0.034000</td>\n",
              "    </tr>\n",
              "    <tr>\n",
              "      <th>50%</th>\n",
              "      <td>992.500000</td>\n",
              "      <td>21.000000</td>\n",
              "      <td>2015.000000</td>\n",
              "      <td>0.206000</td>\n",
              "    </tr>\n",
              "    <tr>\n",
              "      <th>75%</th>\n",
              "      <td>1488.250000</td>\n",
              "      <td>27.000000</td>\n",
              "      <td>2018.000000</td>\n",
              "      <td>1.316500</td>\n",
              "    </tr>\n",
              "    <tr>\n",
              "      <th>max</th>\n",
              "      <td>1984.000000</td>\n",
              "      <td>37.000000</td>\n",
              "      <td>2020.000000</td>\n",
              "      <td>79.342000</td>\n",
              "    </tr>\n",
              "  </tbody>\n",
              "</table>\n",
              "</div>\n",
              "      <button class=\"colab-df-convert\" onclick=\"convertToInteractive('df-84457bb1-6746-45e7-9d2f-c1c99358364f')\"\n",
              "              title=\"Convert this dataframe to an interactive table.\"\n",
              "              style=\"display:none;\">\n",
              "        \n",
              "  <svg xmlns=\"http://www.w3.org/2000/svg\" height=\"24px\"viewBox=\"0 0 24 24\"\n",
              "       width=\"24px\">\n",
              "    <path d=\"M0 0h24v24H0V0z\" fill=\"none\"/>\n",
              "    <path d=\"M18.56 5.44l.94 2.06.94-2.06 2.06-.94-2.06-.94-.94-2.06-.94 2.06-2.06.94zm-11 1L8.5 8.5l.94-2.06 2.06-.94-2.06-.94L8.5 2.5l-.94 2.06-2.06.94zm10 10l.94 2.06.94-2.06 2.06-.94-2.06-.94-.94-2.06-.94 2.06-2.06.94z\"/><path d=\"M17.41 7.96l-1.37-1.37c-.4-.4-.92-.59-1.43-.59-.52 0-1.04.2-1.43.59L10.3 9.45l-7.72 7.72c-.78.78-.78 2.05 0 2.83L4 21.41c.39.39.9.59 1.41.59.51 0 1.02-.2 1.41-.59l7.78-7.78 2.81-2.81c.8-.78.8-2.07 0-2.86zM5.41 20L4 18.59l7.72-7.72 1.47 1.35L5.41 20z\"/>\n",
              "  </svg>\n",
              "      </button>\n",
              "      \n",
              "  <style>\n",
              "    .colab-df-container {\n",
              "      display:flex;\n",
              "      flex-wrap:wrap;\n",
              "      gap: 12px;\n",
              "    }\n",
              "\n",
              "    .colab-df-convert {\n",
              "      background-color: #E8F0FE;\n",
              "      border: none;\n",
              "      border-radius: 50%;\n",
              "      cursor: pointer;\n",
              "      display: none;\n",
              "      fill: #1967D2;\n",
              "      height: 32px;\n",
              "      padding: 0 0 0 0;\n",
              "      width: 32px;\n",
              "    }\n",
              "\n",
              "    .colab-df-convert:hover {\n",
              "      background-color: #E2EBFA;\n",
              "      box-shadow: 0px 1px 2px rgba(60, 64, 67, 0.3), 0px 1px 3px 1px rgba(60, 64, 67, 0.15);\n",
              "      fill: #174EA6;\n",
              "    }\n",
              "\n",
              "    [theme=dark] .colab-df-convert {\n",
              "      background-color: #3B4455;\n",
              "      fill: #D2E3FC;\n",
              "    }\n",
              "\n",
              "    [theme=dark] .colab-df-convert:hover {\n",
              "      background-color: #434B5C;\n",
              "      box-shadow: 0px 1px 3px 1px rgba(0, 0, 0, 0.15);\n",
              "      filter: drop-shadow(0px 1px 2px rgba(0, 0, 0, 0.3));\n",
              "      fill: #FFFFFF;\n",
              "    }\n",
              "  </style>\n",
              "\n",
              "      <script>\n",
              "        const buttonEl =\n",
              "          document.querySelector('#df-84457bb1-6746-45e7-9d2f-c1c99358364f button.colab-df-convert');\n",
              "        buttonEl.style.display =\n",
              "          google.colab.kernel.accessAllowed ? 'block' : 'none';\n",
              "\n",
              "        async function convertToInteractive(key) {\n",
              "          const element = document.querySelector('#df-84457bb1-6746-45e7-9d2f-c1c99358364f');\n",
              "          const dataTable =\n",
              "            await google.colab.kernel.invokeFunction('convertToInteractive',\n",
              "                                                     [key], {});\n",
              "          if (!dataTable) return;\n",
              "\n",
              "          const docLinkHtml = 'Like what you see? Visit the ' +\n",
              "            '<a target=\"_blank\" href=https://colab.research.google.com/notebooks/data_table.ipynb>data table notebook</a>'\n",
              "            + ' to learn more about interactive tables.';\n",
              "          element.innerHTML = '';\n",
              "          dataTable['output_type'] = 'display_data';\n",
              "          await google.colab.output.renderOutput(dataTable, element);\n",
              "          const docLink = document.createElement('div');\n",
              "          docLink.innerHTML = docLinkHtml;\n",
              "          element.appendChild(docLink);\n",
              "        }\n",
              "      </script>\n",
              "    </div>\n",
              "  </div>\n",
              "  "
            ]
          },
          "metadata": {},
          "execution_count": 6
        }
      ]
    },
    {
      "cell_type": "code",
      "source": [
        "df.info()"
      ],
      "metadata": {
        "colab": {
          "base_uri": "https://localhost:8080/"
        },
        "id": "-RQ5UHniubun",
        "outputId": "456304c0-94c0-4bfb-def4-cba64def1f4f"
      },
      "execution_count": 7,
      "outputs": [
        {
          "output_type": "stream",
          "name": "stdout",
          "text": [
            "<class 'pandas.core.frame.DataFrame'>\n",
            "RangeIndex: 1984 entries, 0 to 1983\n",
            "Data columns (total 8 columns):\n",
            " #   Column                  Non-Null Count  Dtype  \n",
            "---  ------                  --------------  -----  \n",
            " 0   Rowid                   1984 non-null   int64  \n",
            " 1   Country                 1984 non-null   object \n",
            " 2   State lgd code          1984 non-null   int64  \n",
            " 3   State                   1984 non-null   object \n",
            " 4   Year                    1984 non-null   int64  \n",
            " 5   Types of coal           1984 non-null   object \n",
            " 6   Coal consuming sectors  1984 non-null   object \n",
            " 7   Coal consumed           1984 non-null   float64\n",
            "dtypes: float64(1), int64(3), object(4)\n",
            "memory usage: 124.1+ KB\n"
          ]
        }
      ]
    },
    {
      "cell_type": "code",
      "source": [
        "x=df.isna().sum()   #df. isna(). sum() returns the number of missing values in each column.\n",
        "print(x)"
      ],
      "metadata": {
        "colab": {
          "base_uri": "https://localhost:8080/"
        },
        "id": "fMh3HHG7ulhn",
        "outputId": "5c4b8459-0a9d-42b7-cd69-0aeda87b926d"
      },
      "execution_count": 8,
      "outputs": [
        {
          "output_type": "stream",
          "name": "stdout",
          "text": [
            "Rowid                     0\n",
            "Country                   0\n",
            "State lgd code            0\n",
            "State                     0\n",
            "Year                      0\n",
            "Types of coal             0\n",
            "Coal consuming sectors    0\n",
            "Coal consumed             0\n",
            "dtype: int64\n"
          ]
        }
      ]
    },
    {
      "cell_type": "markdown",
      "source": [
        "So there are no null entries in our data. "
      ],
      "metadata": {
        "id": "uu7wM872upSF"
      }
    },
    {
      "cell_type": "code",
      "source": [
        "for col in df.columns.values:\n",
        "  unique_val = pd.unique(df[col])\n",
        "  print('Column ' + '\"'+ col+'\"'  + ' has ' + str(len(unique_val)) + ' unique values')"
      ],
      "metadata": {
        "colab": {
          "base_uri": "https://localhost:8080/"
        },
        "id": "mAsMqGVmuo9V",
        "outputId": "489a2bb3-2086-4fb7-b4bf-801173c71dd1"
      },
      "execution_count": 9,
      "outputs": [
        {
          "output_type": "stream",
          "name": "stdout",
          "text": [
            "Column \"Rowid\" has 1984 unique values\n",
            "Column \"Country\" has 1 unique values\n",
            "Column \"State lgd code\" has 26 unique values\n",
            "Column \"State\" has 26 unique values\n",
            "Column \"Year\" has 10 unique values\n",
            "Column \"Types of coal\" has 4 unique values\n",
            "Column \"Coal consuming sectors\" has 17 unique values\n",
            "Column \"Coal consumed\" has 1112 unique values\n"
          ]
        }
      ]
    },
    {
      "cell_type": "markdown",
      "source": [
        "# Statewise Consumption"
      ],
      "metadata": {
        "id": "q3rkH0tmw4z2"
      }
    },
    {
      "cell_type": "code",
      "source": [
        "states=df['State'].unique()\n",
        "print(states)"
      ],
      "metadata": {
        "colab": {
          "base_uri": "https://localhost:8080/"
        },
        "id": "rCDeprmBweMf",
        "outputId": "9a3aa080-61a9-4a85-cfa1-55c8c5363daf"
      },
      "execution_count": 10,
      "outputs": [
        {
          "output_type": "stream",
          "name": "stdout",
          "text": [
            "['Jammu And Kashmir' 'Himachal Pradesh' 'Punjab' 'Uttarakhand' 'Haryana'\n",
            " 'Delhi' 'Rajasthan' 'Uttar Pradesh' 'Bihar' 'Arunachal Pradesh'\n",
            " 'Meghalaya' 'Assam' 'West Bengal' 'Jharkhand' 'Odisha' 'Chhattisgarh'\n",
            " 'Madhya Pradesh' 'Gujarat' 'Maharashtra' 'Andhra Pradesh' 'Karnataka'\n",
            " 'Goa' 'Kerala' 'Tamil Nadu' 'Telangana' 'Ladakh']\n"
          ]
        }
      ]
    },
    {
      "cell_type": "code",
      "source": [
        "state_consumption=np.zeros(26)\n",
        "print(state_consumption)"
      ],
      "metadata": {
        "colab": {
          "base_uri": "https://localhost:8080/"
        },
        "id": "1uo-58iKzx_w",
        "outputId": "b6214595-1db7-43b1-b5af-d31802f92d6c"
      },
      "execution_count": 11,
      "outputs": [
        {
          "output_type": "stream",
          "name": "stdout",
          "text": [
            "[0. 0. 0. 0. 0. 0. 0. 0. 0. 0. 0. 0. 0. 0. 0. 0. 0. 0. 0. 0. 0. 0. 0. 0.\n",
            " 0. 0.]\n"
          ]
        }
      ]
    },
    {
      "cell_type": "code",
      "source": [
        "df2 = df.groupby('State').apply(lambda x: x['Coal consumed'].unique().sum())\n",
        "print(df2)"
      ],
      "metadata": {
        "colab": {
          "base_uri": "https://localhost:8080/"
        },
        "id": "PYbggObc1N5Q",
        "outputId": "a571a15d-4e1d-4c4a-f769-ee56d24b1113"
      },
      "execution_count": 12,
      "outputs": [
        {
          "output_type": "stream",
          "name": "stdout",
          "text": [
            "State\n",
            "Andhra Pradesh       338.627627\n",
            "Arunachal Pradesh      0.647000\n",
            "Assam                  6.532000\n",
            "Bihar                124.998000\n",
            "Chhattisgarh         733.621000\n",
            "Delhi                 28.926000\n",
            "Goa                    0.100000\n",
            "Gujarat              308.731000\n",
            "Haryana              148.562000\n",
            "Himachal Pradesh       2.399000\n",
            "Jammu And Kashmir      0.476215\n",
            "Jharkhand            399.740000\n",
            "Karnataka            133.601000\n",
            "Kerala                 0.873000\n",
            "Ladakh                 0.001785\n",
            "Madhya Pradesh       581.180000\n",
            "Maharashtra          523.023000\n",
            "Meghalaya             36.059000\n",
            "Odisha               681.643000\n",
            "Punjab               142.116000\n",
            "Rajasthan            274.694000\n",
            "Tamil Nadu           429.820000\n",
            "Telangana            300.964373\n",
            "Uttar Pradesh        773.388000\n",
            "Uttarakhand            8.216000\n",
            "West Bengal          511.018000\n",
            "dtype: float64\n"
          ]
        }
      ]
    },
    {
      "cell_type": "code",
      "source": [
        "df1=df2.sort_values()\n",
        "print(df1)"
      ],
      "metadata": {
        "colab": {
          "base_uri": "https://localhost:8080/"
        },
        "id": "qu_rGk_u8z7w",
        "outputId": "0f3c0f94-786a-464c-d3ed-161de5bb3025"
      },
      "execution_count": 13,
      "outputs": [
        {
          "output_type": "stream",
          "name": "stdout",
          "text": [
            "State\n",
            "Ladakh                 0.001785\n",
            "Goa                    0.100000\n",
            "Jammu And Kashmir      0.476215\n",
            "Arunachal Pradesh      0.647000\n",
            "Kerala                 0.873000\n",
            "Himachal Pradesh       2.399000\n",
            "Assam                  6.532000\n",
            "Uttarakhand            8.216000\n",
            "Delhi                 28.926000\n",
            "Meghalaya             36.059000\n",
            "Bihar                124.998000\n",
            "Karnataka            133.601000\n",
            "Punjab               142.116000\n",
            "Haryana              148.562000\n",
            "Rajasthan            274.694000\n",
            "Telangana            300.964373\n",
            "Gujarat              308.731000\n",
            "Andhra Pradesh       338.627627\n",
            "Jharkhand            399.740000\n",
            "Tamil Nadu           429.820000\n",
            "West Bengal          511.018000\n",
            "Maharashtra          523.023000\n",
            "Madhya Pradesh       581.180000\n",
            "Odisha               681.643000\n",
            "Chhattisgarh         733.621000\n",
            "Uttar Pradesh        773.388000\n",
            "dtype: float64\n"
          ]
        }
      ]
    },
    {
      "cell_type": "code",
      "source": [
        "df1.plot(kind='bar', y='Coal consumed',figsize=(15,8),ylabel='Coal consumed(in million tonnes)',color='green')"
      ],
      "metadata": {
        "colab": {
          "base_uri": "https://localhost:8080/",
          "height": 605
        },
        "id": "ArVby2UUCRh0",
        "outputId": "e6aa772b-398b-43ef-9543-b33e6eeb3369"
      },
      "execution_count": 14,
      "outputs": [
        {
          "output_type": "execute_result",
          "data": {
            "text/plain": [
              "<matplotlib.axes._subplots.AxesSubplot at 0x7f3ee280cad0>"
            ]
          },
          "metadata": {},
          "execution_count": 14
        },
        {
          "output_type": "display_data",
          "data": {
            "text/plain": [
              "<Figure size 1080x576 with 1 Axes>"
            ],
            "image/png": "[encoded data removed]"
          },
          "metadata": {}
        }
      ]
    },
    {
      "cell_type": "markdown",
      "source": [
        "# Year Wise Consumption"
      ],
      "metadata": {
        "id": "aFGwcTnQzyn1"
      }
    },
    {
      "cell_type": "code",
      "source": [
        "dfy = df.groupby('Year').apply(lambda x: x['Coal consumed'].unique().sum())\n",
        "print(dfy)"
      ],
      "metadata": {
        "colab": {
          "base_uri": "https://localhost:8080/"
        },
        "id": "2o69o7BMz1k9",
        "outputId": "c91b1ea2-8528-435d-96d0-95a9d3733e28"
      },
      "execution_count": 17,
      "outputs": [
        {
          "output_type": "stream",
          "name": "stdout",
          "text": [
            "Year\n",
            "2011    553.435\n",
            "2012    571.674\n",
            "2013    609.056\n",
            "2014    592.021\n",
            "2015    633.744\n",
            "2016    650.638\n",
            "2017    669.337\n",
            "2018    714.387\n",
            "2019    777.172\n",
            "2020    750.019\n",
            "dtype: float64\n"
          ]
        }
      ]
    },
    {
      "cell_type": "code",
      "source": [
        "plt.plot(dfy,'red')\n",
        "plt.xlabel(\"Year\")\n",
        "plt.ylabel(\"Coal Consumption (in million tonnes)\")"
      ],
      "metadata": {
        "colab": {
          "base_uri": "https://localhost:8080/",
          "height": 296
        },
        "id": "L01QwvOM0ayl",
        "outputId": "706c5616-3f06-4795-d3db-d26ece2a21b8"
      },
      "execution_count": 18,
      "outputs": [
        {
          "output_type": "execute_result",
          "data": {
            "text/plain": [
              "Text(0, 0.5, 'Coal Consumption (in million tonnes)')"
            ]
          },
          "metadata": {},
          "execution_count": 18
        },
        {
          "output_type": "display_data",
          "data": {
            "text/plain": [
              "<Figure size 432x288 with 1 Axes>"
            ],
            "image/png": "[encoded data removed]"
          },
          "metadata": {}
        }
      ]
    },
    {
      "cell_type": "markdown",
      "source": [
        "# Sector wise consumption"
      ],
      "metadata": {
        "id": "OJLmZqdh4JZs"
      }
    },
    {
      "cell_type": "code",
      "source": [
        "dfs = df.groupby('Coal consuming sectors').apply(lambda x: x['Coal consumed'].unique().sum())\n",
        "print(dfs)"
      ],
      "metadata": {
        "colab": {
          "base_uri": "https://localhost:8080/"
        },
        "id": "a_w4ibVe4I6d",
        "outputId": "5c1b5dd3-5c7e-481b-9dc5-b4e71a359f9b"
      },
      "execution_count": 31,
      "outputs": [
        {
          "output_type": "stream",
          "name": "stdout",
          "text": [
            "Coal consuming sectors\n",
            "BRICKS                                 13.288\n",
            "CEMENT                                106.341\n",
            "CHEMICAL                                7.063\n",
            "COKERIES                                3.149\n",
            "COLLIERY OWN - CONSUMPTION              1.571\n",
            "COLLIERY STAFF                          0.002\n",
            "FERTILISERS                            22.104\n",
            "METALLURGICAL USE- COKERIES            47.792\n",
            "METALLURGICAL USE- DIRECT FEED         14.926\n",
            "OTHER                                 582.021\n",
            "OTHER BASIC-METAL (ALUMINIUM ETC)       7.539\n",
            "POWER (CAPTIVE)                      1268.831\n",
            "POWER (UTILITY)                      4228.379\n",
            "PULP & PAPER                           24.322\n",
            "SPONGE IRON                           127.813\n",
            "STEEL (BOILERS)                         7.721\n",
            "TEXTILES & RAYONS                      22.367\n",
            "dtype: float64\n"
          ]
        }
      ]
    },
    {
      "cell_type": "code",
      "source": [
        "df.groupby(['Coal consuming sectors']).sum().plot(kind='bar', y='Coal consumed',figsize=(20,10))"
      ],
      "metadata": {
        "colab": {
          "base_uri": "https://localhost:8080/",
          "height": 774
        },
        "id": "zZjfJKhv4xNX",
        "outputId": "c22ee5b7-aea6-4417-db1e-2f30c4c68d05"
      },
      "execution_count": 49,
      "outputs": [
        {
          "output_type": "execute_result",
          "data": {
            "text/plain": [
              "<matplotlib.axes._subplots.AxesSubplot at 0x7ff1c1f39b90>"
            ]
          },
          "metadata": {},
          "execution_count": 49
        },
        {
          "output_type": "display_data",
          "data": {
            "text/plain": [
              "<Figure size 1440x720 with 1 Axes>"
            ],
            "image/png": "[encoded data removed]"
          },
          "metadata": {
            "needs_background": "light"
          }
        }
      ]
    },
    {
      "cell_type": "code",
      "source": [
        "dfs.sort_values(ascending=False).plot(kind='bar', y='Coal consumed',figsize=(15,8),ylabel='Coal consumed(in million tonnes)')"
      ],
      "metadata": {
        "colab": {
          "base_uri": "https://localhost:8080/",
          "height": 697
        },
        "id": "7oAtJe066rRF",
        "outputId": "d1d85672-cbea-4d35-9e7f-e7c95c6b457f"
      },
      "execution_count": 58,
      "outputs": [
        {
          "output_type": "execute_result",
          "data": {
            "text/plain": [
              "<matplotlib.axes._subplots.AxesSubplot at 0x7ff1c156df10>"
            ]
          },
          "metadata": {},
          "execution_count": 58
        },
        {
          "output_type": "display_data",
          "data": {
            "text/plain": [
              "<Figure size 1080x576 with 1 Axes>"
            ],
            "image/png": "[encoded data removed]"
          },
          "metadata": {
            "needs_background": "light"
          }
        }
      ]
    },
    {
      "cell_type": "markdown",
      "source": [
        "# Typewise Consumption"
      ],
      "metadata": {
        "id": "mk02xtFm6sR9"
      }
    },
    {
      "cell_type": "code",
      "source": [
        "dft = df.groupby('Types of coal').apply(lambda x: x['Coal consumed'].unique().sum())\n",
        "print(dft)"
      ],
      "metadata": {
        "colab": {
          "base_uri": "https://localhost:8080/"
        },
        "id": "RwtPZSXG6yQ0",
        "outputId": "dd44b415-0ee2-469a-839c-868047f8c4e2"
      },
      "execution_count": 37,
      "outputs": [
        {
          "output_type": "stream",
          "name": "stdout",
          "text": [
            "Types of coal\n",
            "LIGNITE         435.184\n",
            "MIDDLINGS        65.078\n",
            "RAW COAL       5732.408\n",
            "WASHED COAL     210.366\n",
            "dtype: float64\n"
          ]
        }
      ]
    },
    {
      "cell_type": "code",
      "source": [
        "df.groupby(['Types of coal']).sum().plot(kind='pie', y='Coal consumed',autopct='%1.0f%%',figsize=(10,10),ylabel=\" \")"
      ],
      "metadata": {
        "colab": {
          "base_uri": "https://localhost:8080/",
          "height": 592
        },
        "id": "Sf4nIyEN7IuG",
        "outputId": "5120783a-1012-43d2-8ff6-0ddd452caf7e"
      },
      "execution_count": 44,
      "outputs": [
        {
          "output_type": "execute_result",
          "data": {
            "text/plain": [
              "<matplotlib.axes._subplots.AxesSubplot at 0x7ff1c1c1b550>"
            ]
          },
          "metadata": {},
          "execution_count": 44
        },
        {
          "output_type": "display_data",
          "data": {
            "text/plain": [
              "<Figure size 720x720 with 1 Axes>"
            ],
            "image/png": "[encoded data removed]"
          },
          "metadata": {}
        }
      ]
    }
  ]
}