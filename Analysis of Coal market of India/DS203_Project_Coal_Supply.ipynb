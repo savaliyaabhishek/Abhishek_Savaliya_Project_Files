{
  "nbformat": 4,
  "nbformat_minor": 0,
  "metadata": {
    "colab": {
      "provenance": []
    },
    "kernelspec": {
      "name": "python3",
      "display_name": "Python 3"
    },
    "language_info": {
      "name": "python"
    }
  },
  "cells": [
    {
      "cell_type": "markdown",
      "source": [
        "# Reading the data"
      ],
      "metadata": {
        "id": "vIQSXXhXwy0t"
      }
    },
    {
      "cell_type": "code",
      "execution_count": 3,
      "metadata": {
        "colab": {
          "base_uri": "https://localhost:8080/",
          "height": 74
        },
        "id": "jWvqh66Lrm-K",
        "outputId": "feade617-0d22-4efe-b794-80137c5a508a"
      },
      "outputs": [
        {
          "output_type": "display_data",
          "data": {
            "text/plain": [
              "<IPython.core.display.HTML object>"
            ],
            "text/html": [
              "\n",
              "     <input type=\"file\" id=\"files-c26d3f86-563f-4b0d-a280-a35e70090a41\" name=\"files[]\" multiple disabled\n",
              "        style=\"border:none\" />\n",
              "     <output id=\"result-c26d3f86-563f-4b0d-a280-a35e70090a41\">\n",
              "      Upload widget is only available when the cell has been executed in the\n",
              "      current browser session. Please rerun this cell to enable.\n",
              "      </output>\n",
              "      <script>// Copyright 2017 Google LLC\n",
              "//\n",
              "// Licensed under the Apache License, Version 2.0 (the \"License\");\n",
              "// you may not use this file except in compliance with the License.\n",
              "// You may obtain a copy of the License at\n",
              "//\n",
              "//      http://www.apache.org/licenses/LICENSE-2.0\n",
              "//\n",
              "// Unless required by applicable law or agreed to in writing, software\n",
              "// distributed under the License is distributed on an \"AS IS\" BASIS,\n",
              "// WITHOUT WARRANTIES OR CONDITIONS OF ANY KIND, either express or implied.\n",
              "// See the License for the specific language governing permissions and\n",
              "// limitations under the License.\n",
              "\n",
              "/**\n",
              " * @fileoverview Helpers for google.colab Python module.\n",
              " */\n",
              "(function(scope) {\n",
              "function span(text, styleAttributes = {}) {\n",
              "  const element = document.createElement('span');\n",
              "  element.textContent = text;\n",
              "  for (const key of Object.keys(styleAttributes)) {\n",
              "    element.style[key] = styleAttributes[key];\n",
              "  }\n",
              "  return element;\n",
              "}\n",
              "\n",
              "// Max number of bytes which will be uploaded at a time.\n",
              "const MAX_PAYLOAD_SIZE = 100 * 1024;\n",
              "\n",
              "function _uploadFiles(inputId, outputId) {\n",
              "  const steps = uploadFilesStep(inputId, outputId);\n",
              "  const outputElement = document.getElementById(outputId);\n",
              "  // Cache steps on the outputElement to make it available for the next call\n",
              "  // to uploadFilesContinue from Python.\n",
              "  outputElement.steps = steps;\n",
              "\n",
              "  return _uploadFilesContinue(outputId);\n",
              "}\n",
              "\n",
              "// This is roughly an async generator (not supported in the browser yet),\n",
              "// where there are multiple asynchronous steps and the Python side is going\n",
              "// to poll for completion of each step.\n",
              "// This uses a Promise to block the python side on completion of each step,\n",
              "// then passes the result of the previous step as the input to the next step.\n",
              "function _uploadFilesContinue(outputId) {\n",
              "  const outputElement = document.getElementById(outputId);\n",
              "  const steps = outputElement.steps;\n",
              "\n",
              "  const next = steps.next(outputElement.lastPromiseValue);\n",
              "  return Promise.resolve(next.value.promise).then((value) => {\n",
              "    // Cache the last promise value to make it available to the next\n",
              "    // step of the generator.\n",
              "    outputElement.lastPromiseValue = value;\n",
              "    return next.value.response;\n",
              "  });\n",
              "}\n",
              "\n",
              "/**\n",
              " * Generator function which is called between each async step of the upload\n",
              " * process.\n",
              " * @param {string} inputId Element ID of the input file picker element.\n",
              " * @param {string} outputId Element ID of the output display.\n",
              " * @return {!Iterable<!Object>} Iterable of next steps.\n",
              " */\n",
              "function* uploadFilesStep(inputId, outputId) {\n",
              "  const inputElement = document.getElementById(inputId);\n",
              "  inputElement.disabled = false;\n",
              "\n",
              "  const outputElement = document.getElementById(outputId);\n",
              "  outputElement.innerHTML = '';\n",
              "\n",
              "  const pickedPromise = new Promise((resolve) => {\n",
              "    inputElement.addEventListener('change', (e) => {\n",
              "      resolve(e.target.files);\n",
              "    });\n",
              "  });\n",
              "\n",
              "  const cancel = document.createElement('button');\n",
              "  inputElement.parentElement.appendChild(cancel);\n",
              "  cancel.textContent = 'Cancel upload';\n",
              "  const cancelPromise = new Promise((resolve) => {\n",
              "    cancel.onclick = () => {\n",
              "      resolve(null);\n",
              "    };\n",
              "  });\n",
              "\n",
              "  // Wait for the user to pick the files.\n",
              "  const files = yield {\n",
              "    promise: Promise.race([pickedPromise, cancelPromise]),\n",
              "    response: {\n",
              "      action: 'starting',\n",
              "    }\n",
              "  };\n",
              "\n",
              "  cancel.remove();\n",
              "\n",
              "  // Disable the input element since further picks are not allowed.\n",
              "  inputElement.disabled = true;\n",
              "\n",
              "  if (!files) {\n",
              "    return {\n",
              "      response: {\n",
              "        action: 'complete',\n",
              "      }\n",
              "    };\n",
              "  }\n",
              "\n",
              "  for (const file of files) {\n",
              "    const li = document.createElement('li');\n",
              "    li.append(span(file.name, {fontWeight: 'bold'}));\n",
              "    li.append(span(\n",
              "        `(${file.type || 'n/a'}) - ${file.size} bytes, ` +\n",
              "        `last modified: ${\n",
              "            file.lastModifiedDate ? file.lastModifiedDate.toLocaleDateString() :\n",
              "                                    'n/a'} - `));\n",
              "    const percent = span('0% done');\n",
              "    li.appendChild(percent);\n",
              "\n",
              "    outputElement.appendChild(li);\n",
              "\n",
              "    const fileDataPromise = new Promise((resolve) => {\n",
              "      const reader = new FileReader();\n",
              "      reader.onload = (e) => {\n",
              "        resolve(e.target.result);\n",
              "      };\n",
              "      reader.readAsArrayBuffer(file);\n",
              "    });\n",
              "    // Wait for the data to be ready.\n",
              "    let fileData = yield {\n",
              "      promise: fileDataPromise,\n",
              "      response: {\n",
              "        action: 'continue',\n",
              "      }\n",
              "    };\n",
              "\n",
              "    // Use a chunked sending to avoid message size limits. See b/62115660.\n",
              "    let position = 0;\n",
              "    do {\n",
              "      const length = Math.min(fileData.byteLength - position, MAX_PAYLOAD_SIZE);\n",
              "      const chunk = new Uint8Array(fileData, position, length);\n",
              "      position += length;\n",
              "\n",
              "      const base64 = btoa(String.fromCharCode.apply(null, chunk));\n",
              "      yield {\n",
              "        response: {\n",
              "          action: 'append',\n",
              "          file: file.name,\n",
              "          data: base64,\n",
              "        },\n",
              "      };\n",
              "\n",
              "      let percentDone = fileData.byteLength === 0 ?\n",
              "          100 :\n",
              "          Math.round((position / fileData.byteLength) * 100);\n",
              "      percent.textContent = `${percentDone}% done`;\n",
              "\n",
              "    } while (position < fileData.byteLength);\n",
              "  }\n",
              "\n",
              "  // All done.\n",
              "  yield {\n",
              "    response: {\n",
              "      action: 'complete',\n",
              "    }\n",
              "  };\n",
              "}\n",
              "\n",
              "scope.google = scope.google || {};\n",
              "scope.google.colab = scope.google.colab || {};\n",
              "scope.google.colab._files = {\n",
              "  _uploadFiles,\n",
              "  _uploadFilesContinue,\n",
              "};\n",
              "})(self);\n",
              "</script> "
            ]
          },
          "metadata": {}
        },
        {
          "output_type": "stream",
          "name": "stdout",
          "text": [
            "Saving Coal Supply Production by State.csv to Coal Supply Production by State (1).csv\n"
          ]
        }
      ],
      "source": [
        "# UPLOADING DATA FILE\n",
        "\n",
        "from google.colab import files\n",
        "\n",
        "upload = files.upload()"
      ]
    },
    {
      "cell_type": "code",
      "source": [
        "import pandas as pd\n",
        "import seaborn as sb\n",
        "import matplotlib.pyplot as plt\n",
        "import numpy as np"
      ],
      "metadata": {
        "id": "DhBhBAg7t62a"
      },
      "execution_count": 4,
      "outputs": []
    },
    {
      "cell_type": "code",
      "source": [
        "df = pd.read_csv('Coal Supply Production by State.csv')\n",
        "display(df)"
      ],
      "metadata": {
        "colab": {
          "base_uri": "https://localhost:8080/",
          "height": 424
        },
        "id": "HFWQVUL-uEom",
        "outputId": "757182a0-a2d7-4691-d1f1-2d1f64099a2d"
      },
      "execution_count": 5,
      "outputs": [
        {
          "output_type": "display_data",
          "data": {
            "text/plain": [
              "     Rowid Country  State lgd code              State  Year Coal category  \\\n",
              "0        1   India               1  Jammu And Kashmir  2011          COAL   \n",
              "1        2   India               1  Jammu And Kashmir  2012          COAL   \n",
              "2        3   India               1  Jammu And Kashmir  2013          COAL   \n",
              "3        4   India               1  Jammu And Kashmir  2014          COAL   \n",
              "4        5   India               1  Jammu And Kashmir  2015          COAL   \n",
              "..     ...     ...             ...                ...   ...           ...   \n",
              "580    581   India              37             Ladakh  2017          COAL   \n",
              "581    582   India              37             Ladakh  2018          COAL   \n",
              "582    583   India              37             Ladakh  2019          COAL   \n",
              "583    584   India              37             Ladakh  2020          COAL   \n",
              "584    585   India              37             Ladakh  2020          COAL   \n",
              "\n",
              "    Coal supplying company name Coal supplyling sector    Coal type  \\\n",
              "0                          JKML           OTHER PUBLIC  NON-COOKING   \n",
              "1                          JKML           OTHER PUBLIC  NON-COOKING   \n",
              "2                          JKML           OTHER PUBLIC  NON-COOKING   \n",
              "3                          JKML           OTHER PUBLIC  NON-COOKING   \n",
              "4                          JKML           OTHER PUBLIC  NON-COOKING   \n",
              "..                          ...                    ...          ...   \n",
              "580                        JKML           OTHER PUBLIC  NON-COOKING   \n",
              "581                        JKML           OTHER PUBLIC  NON-COOKING   \n",
              "582                        JKML           OTHER PUBLIC  NON-COOKING   \n",
              "583                        JKML           OTHER PUBLIC      COOKING   \n",
              "584                        JKML           OTHER PUBLIC  NON-COOKING   \n",
              "\n",
              "     Coal supplied  \n",
              "0         0.023475  \n",
              "1         0.019563  \n",
              "2         0.018584  \n",
              "3         0.018584  \n",
              "4         0.012716  \n",
              "..             ...  \n",
              "580       0.000219  \n",
              "581       0.000306  \n",
              "582       0.000284  \n",
              "583       0.000000  \n",
              "584       0.000306  \n",
              "\n",
              "[585 rows x 10 columns]"
            ],
            "text/html": [
              "\n",
              "  <div id=\"df-efff345a-994c-4eaa-a75c-86cd6e156ae7\">\n",
              "    <div class=\"colab-df-container\">\n",
              "      <div>\n",
              "<style scoped>\n",
              "    .dataframe tbody tr th:only-of-type {\n",
              "        vertical-align: middle;\n",
              "    }\n",
              "\n",
              "    .dataframe tbody tr th {\n",
              "        vertical-align: top;\n",
              "    }\n",
              "\n",
              "    .dataframe thead th {\n",
              "        text-align: right;\n",
              "    }\n",
              "</style>\n",
              "<table border=\"1\" class=\"dataframe\">\n",
              "  <thead>\n",
              "    <tr style=\"text-align: right;\">\n",
              "      <th></th>\n",
              "      <th>Rowid</th>\n",
              "      <th>Country</th>\n",
              "      <th>State lgd code</th>\n",
              "      <th>State</th>\n",
              "      <th>Year</th>\n",
              "      <th>Coal category</th>\n",
              "      <th>Coal supplying company name</th>\n",
              "      <th>Coal supplyling sector</th>\n",
              "      <th>Coal type</th>\n",
              "      <th>Coal supplied</th>\n",
              "    </tr>\n",
              "  </thead>\n",
              "  <tbody>\n",
              "    <tr>\n",
              "      <th>0</th>\n",
              "      <td>1</td>\n",
              "      <td>India</td>\n",
              "      <td>1</td>\n",
              "      <td>Jammu And Kashmir</td>\n",
              "      <td>2011</td>\n",
              "      <td>COAL</td>\n",
              "      <td>JKML</td>\n",
              "      <td>OTHER PUBLIC</td>\n",
              "      <td>NON-COOKING</td>\n",
              "      <td>0.023475</td>\n",
              "    </tr>\n",
              "    <tr>\n",
              "      <th>1</th>\n",
              "      <td>2</td>\n",
              "      <td>India</td>\n",
              "      <td>1</td>\n",
              "      <td>Jammu And Kashmir</td>\n",
              "      <td>2012</td>\n",
              "      <td>COAL</td>\n",
              "      <td>JKML</td>\n",
              "      <td>OTHER PUBLIC</td>\n",
              "      <td>NON-COOKING</td>\n",
              "      <td>0.019563</td>\n",
              "    </tr>\n",
              "    <tr>\n",
              "      <th>2</th>\n",
              "      <td>3</td>\n",
              "      <td>India</td>\n",
              "      <td>1</td>\n",
              "      <td>Jammu And Kashmir</td>\n",
              "      <td>2013</td>\n",
              "      <td>COAL</td>\n",
              "      <td>JKML</td>\n",
              "      <td>OTHER PUBLIC</td>\n",
              "      <td>NON-COOKING</td>\n",
              "      <td>0.018584</td>\n",
              "    </tr>\n",
              "    <tr>\n",
              "      <th>3</th>\n",
              "      <td>4</td>\n",
              "      <td>India</td>\n",
              "      <td>1</td>\n",
              "      <td>Jammu And Kashmir</td>\n",
              "      <td>2014</td>\n",
              "      <td>COAL</td>\n",
              "      <td>JKML</td>\n",
              "      <td>OTHER PUBLIC</td>\n",
              "      <td>NON-COOKING</td>\n",
              "      <td>0.018584</td>\n",
              "    </tr>\n",
              "    <tr>\n",
              "      <th>4</th>\n",
              "      <td>5</td>\n",
              "      <td>India</td>\n",
              "      <td>1</td>\n",
              "      <td>Jammu And Kashmir</td>\n",
              "      <td>2015</td>\n",
              "      <td>COAL</td>\n",
              "      <td>JKML</td>\n",
              "      <td>OTHER PUBLIC</td>\n",
              "      <td>NON-COOKING</td>\n",
              "      <td>0.012716</td>\n",
              "    </tr>\n",
              "    <tr>\n",
              "      <th>...</th>\n",
              "      <td>...</td>\n",
              "      <td>...</td>\n",
              "      <td>...</td>\n",
              "      <td>...</td>\n",
              "      <td>...</td>\n",
              "      <td>...</td>\n",
              "      <td>...</td>\n",
              "      <td>...</td>\n",
              "      <td>...</td>\n",
              "      <td>...</td>\n",
              "    </tr>\n",
              "    <tr>\n",
              "      <th>580</th>\n",
              "      <td>581</td>\n",
              "      <td>India</td>\n",
              "      <td>37</td>\n",
              "      <td>Ladakh</td>\n",
              "      <td>2017</td>\n",
              "      <td>COAL</td>\n",
              "      <td>JKML</td>\n",
              "      <td>OTHER PUBLIC</td>\n",
              "      <td>NON-COOKING</td>\n",
              "      <td>0.000219</td>\n",
              "    </tr>\n",
              "    <tr>\n",
              "      <th>581</th>\n",
              "      <td>582</td>\n",
              "      <td>India</td>\n",
              "      <td>37</td>\n",
              "      <td>Ladakh</td>\n",
              "      <td>2018</td>\n",
              "      <td>COAL</td>\n",
              "      <td>JKML</td>\n",
              "      <td>OTHER PUBLIC</td>\n",
              "      <td>NON-COOKING</td>\n",
              "      <td>0.000306</td>\n",
              "    </tr>\n",
              "    <tr>\n",
              "      <th>582</th>\n",
              "      <td>583</td>\n",
              "      <td>India</td>\n",
              "      <td>37</td>\n",
              "      <td>Ladakh</td>\n",
              "      <td>2019</td>\n",
              "      <td>COAL</td>\n",
              "      <td>JKML</td>\n",
              "      <td>OTHER PUBLIC</td>\n",
              "      <td>NON-COOKING</td>\n",
              "      <td>0.000284</td>\n",
              "    </tr>\n",
              "    <tr>\n",
              "      <th>583</th>\n",
              "      <td>584</td>\n",
              "      <td>India</td>\n",
              "      <td>37</td>\n",
              "      <td>Ladakh</td>\n",
              "      <td>2020</td>\n",
              "      <td>COAL</td>\n",
              "      <td>JKML</td>\n",
              "      <td>OTHER PUBLIC</td>\n",
              "      <td>COOKING</td>\n",
              "      <td>0.000000</td>\n",
              "    </tr>\n",
              "    <tr>\n",
              "      <th>584</th>\n",
              "      <td>585</td>\n",
              "      <td>India</td>\n",
              "      <td>37</td>\n",
              "      <td>Ladakh</td>\n",
              "      <td>2020</td>\n",
              "      <td>COAL</td>\n",
              "      <td>JKML</td>\n",
              "      <td>OTHER PUBLIC</td>\n",
              "      <td>NON-COOKING</td>\n",
              "      <td>0.000306</td>\n",
              "    </tr>\n",
              "  </tbody>\n",
              "</table>\n",
              "<p>585 rows × 10 columns</p>\n",
              "</div>\n",
              "      <button class=\"colab-df-convert\" onclick=\"convertToInteractive('df-efff345a-994c-4eaa-a75c-86cd6e156ae7')\"\n",
              "              title=\"Convert this dataframe to an interactive table.\"\n",
              "              style=\"display:none;\">\n",
              "        \n",
              "  <svg xmlns=\"http://www.w3.org/2000/svg\" height=\"24px\"viewBox=\"0 0 24 24\"\n",
              "       width=\"24px\">\n",
              "    <path d=\"M0 0h24v24H0V0z\" fill=\"none\"/>\n",
              "    <path d=\"M18.56 5.44l.94 2.06.94-2.06 2.06-.94-2.06-.94-.94-2.06-.94 2.06-2.06.94zm-11 1L8.5 8.5l.94-2.06 2.06-.94-2.06-.94L8.5 2.5l-.94 2.06-2.06.94zm10 10l.94 2.06.94-2.06 2.06-.94-2.06-.94-.94-2.06-.94 2.06-2.06.94z\"/><path d=\"M17.41 7.96l-1.37-1.37c-.4-.4-.92-.59-1.43-.59-.52 0-1.04.2-1.43.59L10.3 9.45l-7.72 7.72c-.78.78-.78 2.05 0 2.83L4 21.41c.39.39.9.59 1.41.59.51 0 1.02-.2 1.41-.59l7.78-7.78 2.81-2.81c.8-.78.8-2.07 0-2.86zM5.41 20L4 18.59l7.72-7.72 1.47 1.35L5.41 20z\"/>\n",
              "  </svg>\n",
              "      </button>\n",
              "      \n",
              "  <style>\n",
              "    .colab-df-container {\n",
              "      display:flex;\n",
              "      flex-wrap:wrap;\n",
              "      gap: 12px;\n",
              "    }\n",
              "\n",
              "    .colab-df-convert {\n",
              "      background-color: #E8F0FE;\n",
              "      border: none;\n",
              "      border-radius: 50%;\n",
              "      cursor: pointer;\n",
              "      display: none;\n",
              "      fill: #1967D2;\n",
              "      height: 32px;\n",
              "      padding: 0 0 0 0;\n",
              "      width: 32px;\n",
              "    }\n",
              "\n",
              "    .colab-df-convert:hover {\n",
              "      background-color: #E2EBFA;\n",
              "      box-shadow: 0px 1px 2px rgba(60, 64, 67, 0.3), 0px 1px 3px 1px rgba(60, 64, 67, 0.15);\n",
              "      fill: #174EA6;\n",
              "    }\n",
              "\n",
              "    [theme=dark] .colab-df-convert {\n",
              "      background-color: #3B4455;\n",
              "      fill: #D2E3FC;\n",
              "    }\n",
              "\n",
              "    [theme=dark] .colab-df-convert:hover {\n",
              "      background-color: #434B5C;\n",
              "      box-shadow: 0px 1px 3px 1px rgba(0, 0, 0, 0.15);\n",
              "      filter: drop-shadow(0px 1px 2px rgba(0, 0, 0, 0.3));\n",
              "      fill: #FFFFFF;\n",
              "    }\n",
              "  </style>\n",
              "\n",
              "      <script>\n",
              "        const buttonEl =\n",
              "          document.querySelector('#df-efff345a-994c-4eaa-a75c-86cd6e156ae7 button.colab-df-convert');\n",
              "        buttonEl.style.display =\n",
              "          google.colab.kernel.accessAllowed ? 'block' : 'none';\n",
              "\n",
              "        async function convertToInteractive(key) {\n",
              "          const element = document.querySelector('#df-efff345a-994c-4eaa-a75c-86cd6e156ae7');\n",
              "          const dataTable =\n",
              "            await google.colab.kernel.invokeFunction('convertToInteractive',\n",
              "                                                     [key], {});\n",
              "          if (!dataTable) return;\n",
              "\n",
              "          const docLinkHtml = 'Like what you see? Visit the ' +\n",
              "            '<a target=\"_blank\" href=https://colab.research.google.com/notebooks/data_table.ipynb>data table notebook</a>'\n",
              "            + ' to learn more about interactive tables.';\n",
              "          element.innerHTML = '';\n",
              "          dataTable['output_type'] = 'display_data';\n",
              "          await google.colab.output.renderOutput(dataTable, element);\n",
              "          const docLink = document.createElement('div');\n",
              "          docLink.innerHTML = docLinkHtml;\n",
              "          element.appendChild(docLink);\n",
              "        }\n",
              "      </script>\n",
              "    </div>\n",
              "  </div>\n",
              "  "
            ]
          },
          "metadata": {}
        }
      ]
    },
    {
      "cell_type": "markdown",
      "source": [
        "# Some basic insights into data"
      ],
      "metadata": {
        "id": "CLxhrzbkwuMt"
      }
    },
    {
      "cell_type": "code",
      "source": [
        "df.describe()"
      ],
      "metadata": {
        "colab": {
          "base_uri": "https://localhost:8080/",
          "height": 300
        },
        "id": "zgAPlbWPuXIn",
        "outputId": "90cab3a4-0cdd-400b-bac7-b4c65fe04f1f"
      },
      "execution_count": 6,
      "outputs": [
        {
          "output_type": "execute_result",
          "data": {
            "text/plain": [
              "           Rowid  State lgd code         Year  Coal supplied\n",
              "count  585.00000      585.000000   585.000000     585.000000\n",
              "mean   293.00000       20.815385  2015.613675      11.435398\n",
              "std    169.01923        6.179404     3.018973      25.153012\n",
              "min      1.00000        1.000000  2011.000000       0.000000\n",
              "25%    147.00000       19.000000  2013.000000       0.155000\n",
              "50%    293.00000       20.000000  2015.000000       1.005000\n",
              "75%    439.00000       23.000000  2018.000000       9.340000\n",
              "max    585.00000       37.000000  2020.000000     144.504000"
            ],
            "text/html": [
              "\n",
              "  <div id=\"df-440c1a99-b8aa-450e-b511-eb030608054c\">\n",
              "    <div class=\"colab-df-container\">\n",
              "      <div>\n",
              "<style scoped>\n",
              "    .dataframe tbody tr th:only-of-type {\n",
              "        vertical-align: middle;\n",
              "    }\n",
              "\n",
              "    .dataframe tbody tr th {\n",
              "        vertical-align: top;\n",
              "    }\n",
              "\n",
              "    .dataframe thead th {\n",
              "        text-align: right;\n",
              "    }\n",
              "</style>\n",
              "<table border=\"1\" class=\"dataframe\">\n",
              "  <thead>\n",
              "    <tr style=\"text-align: right;\">\n",
              "      <th></th>\n",
              "      <th>Rowid</th>\n",
              "      <th>State lgd code</th>\n",
              "      <th>Year</th>\n",
              "      <th>Coal supplied</th>\n",
              "    </tr>\n",
              "  </thead>\n",
              "  <tbody>\n",
              "    <tr>\n",
              "      <th>count</th>\n",
              "      <td>585.00000</td>\n",
              "      <td>585.000000</td>\n",
              "      <td>585.000000</td>\n",
              "      <td>585.000000</td>\n",
              "    </tr>\n",
              "    <tr>\n",
              "      <th>mean</th>\n",
              "      <td>293.00000</td>\n",
              "      <td>20.815385</td>\n",
              "      <td>2015.613675</td>\n",
              "      <td>11.435398</td>\n",
              "    </tr>\n",
              "    <tr>\n",
              "      <th>std</th>\n",
              "      <td>169.01923</td>\n",
              "      <td>6.179404</td>\n",
              "      <td>3.018973</td>\n",
              "      <td>25.153012</td>\n",
              "    </tr>\n",
              "    <tr>\n",
              "      <th>min</th>\n",
              "      <td>1.00000</td>\n",
              "      <td>1.000000</td>\n",
              "      <td>2011.000000</td>\n",
              "      <td>0.000000</td>\n",
              "    </tr>\n",
              "    <tr>\n",
              "      <th>25%</th>\n",
              "      <td>147.00000</td>\n",
              "      <td>19.000000</td>\n",
              "      <td>2013.000000</td>\n",
              "      <td>0.155000</td>\n",
              "    </tr>\n",
              "    <tr>\n",
              "      <th>50%</th>\n",
              "      <td>293.00000</td>\n",
              "      <td>20.000000</td>\n",
              "      <td>2015.000000</td>\n",
              "      <td>1.005000</td>\n",
              "    </tr>\n",
              "    <tr>\n",
              "      <th>75%</th>\n",
              "      <td>439.00000</td>\n",
              "      <td>23.000000</td>\n",
              "      <td>2018.000000</td>\n",
              "      <td>9.340000</td>\n",
              "    </tr>\n",
              "    <tr>\n",
              "      <th>max</th>\n",
              "      <td>585.00000</td>\n",
              "      <td>37.000000</td>\n",
              "      <td>2020.000000</td>\n",
              "      <td>144.504000</td>\n",
              "    </tr>\n",
              "  </tbody>\n",
              "</table>\n",
              "</div>\n",
              "      <button class=\"colab-df-convert\" onclick=\"convertToInteractive('df-440c1a99-b8aa-450e-b511-eb030608054c')\"\n",
              "              title=\"Convert this dataframe to an interactive table.\"\n",
              "              style=\"display:none;\">\n",
              "        \n",
              "  <svg xmlns=\"http://www.w3.org/2000/svg\" height=\"24px\"viewBox=\"0 0 24 24\"\n",
              "       width=\"24px\">\n",
              "    <path d=\"M0 0h24v24H0V0z\" fill=\"none\"/>\n",
              "    <path d=\"M18.56 5.44l.94 2.06.94-2.06 2.06-.94-2.06-.94-.94-2.06-.94 2.06-2.06.94zm-11 1L8.5 8.5l.94-2.06 2.06-.94-2.06-.94L8.5 2.5l-.94 2.06-2.06.94zm10 10l.94 2.06.94-2.06 2.06-.94-2.06-.94-.94-2.06-.94 2.06-2.06.94z\"/><path d=\"M17.41 7.96l-1.37-1.37c-.4-.4-.92-.59-1.43-.59-.52 0-1.04.2-1.43.59L10.3 9.45l-7.72 7.72c-.78.78-.78 2.05 0 2.83L4 21.41c.39.39.9.59 1.41.59.51 0 1.02-.2 1.41-.59l7.78-7.78 2.81-2.81c.8-.78.8-2.07 0-2.86zM5.41 20L4 18.59l7.72-7.72 1.47 1.35L5.41 20z\"/>\n",
              "  </svg>\n",
              "      </button>\n",
              "      \n",
              "  <style>\n",
              "    .colab-df-container {\n",
              "      display:flex;\n",
              "      flex-wrap:wrap;\n",
              "      gap: 12px;\n",
              "    }\n",
              "\n",
              "    .colab-df-convert {\n",
              "      background-color: #E8F0FE;\n",
              "      border: none;\n",
              "      border-radius: 50%;\n",
              "      cursor: pointer;\n",
              "      display: none;\n",
              "      fill: #1967D2;\n",
              "      height: 32px;\n",
              "      padding: 0 0 0 0;\n",
              "      width: 32px;\n",
              "    }\n",
              "\n",
              "    .colab-df-convert:hover {\n",
              "      background-color: #E2EBFA;\n",
              "      box-shadow: 0px 1px 2px rgba(60, 64, 67, 0.3), 0px 1px 3px 1px rgba(60, 64, 67, 0.15);\n",
              "      fill: #174EA6;\n",
              "    }\n",
              "\n",
              "    [theme=dark] .colab-df-convert {\n",
              "      background-color: #3B4455;\n",
              "      fill: #D2E3FC;\n",
              "    }\n",
              "\n",
              "    [theme=dark] .colab-df-convert:hover {\n",
              "      background-color: #434B5C;\n",
              "      box-shadow: 0px 1px 3px 1px rgba(0, 0, 0, 0.15);\n",
              "      filter: drop-shadow(0px 1px 2px rgba(0, 0, 0, 0.3));\n",
              "      fill: #FFFFFF;\n",
              "    }\n",
              "  </style>\n",
              "\n",
              "      <script>\n",
              "        const buttonEl =\n",
              "          document.querySelector('#df-440c1a99-b8aa-450e-b511-eb030608054c button.colab-df-convert');\n",
              "        buttonEl.style.display =\n",
              "          google.colab.kernel.accessAllowed ? 'block' : 'none';\n",
              "\n",
              "        async function convertToInteractive(key) {\n",
              "          const element = document.querySelector('#df-440c1a99-b8aa-450e-b511-eb030608054c');\n",
              "          const dataTable =\n",
              "            await google.colab.kernel.invokeFunction('convertToInteractive',\n",
              "                                                     [key], {});\n",
              "          if (!dataTable) return;\n",
              "\n",
              "          const docLinkHtml = 'Like what you see? Visit the ' +\n",
              "            '<a target=\"_blank\" href=https://colab.research.google.com/notebooks/data_table.ipynb>data table notebook</a>'\n",
              "            + ' to learn more about interactive tables.';\n",
              "          element.innerHTML = '';\n",
              "          dataTable['output_type'] = 'display_data';\n",
              "          await google.colab.output.renderOutput(dataTable, element);\n",
              "          const docLink = document.createElement('div');\n",
              "          docLink.innerHTML = docLinkHtml;\n",
              "          element.appendChild(docLink);\n",
              "        }\n",
              "      </script>\n",
              "    </div>\n",
              "  </div>\n",
              "  "
            ]
          },
          "metadata": {},
          "execution_count": 6
        }
      ]
    },
    {
      "cell_type": "code",
      "source": [
        "df.info()"
      ],
      "metadata": {
        "colab": {
          "base_uri": "https://localhost:8080/"
        },
        "id": "-RQ5UHniubun",
        "outputId": "83bf5fb4-ec20-4a27-a7db-c0bf46652d2e"
      },
      "execution_count": 7,
      "outputs": [
        {
          "output_type": "stream",
          "name": "stdout",
          "text": [
            "<class 'pandas.core.frame.DataFrame'>\n",
            "RangeIndex: 585 entries, 0 to 584\n",
            "Data columns (total 10 columns):\n",
            " #   Column                       Non-Null Count  Dtype  \n",
            "---  ------                       --------------  -----  \n",
            " 0   Rowid                        585 non-null    int64  \n",
            " 1   Country                      585 non-null    object \n",
            " 2   State lgd code               585 non-null    int64  \n",
            " 3   State                        585 non-null    object \n",
            " 4   Year                         585 non-null    int64  \n",
            " 5   Coal category                585 non-null    object \n",
            " 6   Coal supplying company name  585 non-null    object \n",
            " 7   Coal supplyling sector       585 non-null    object \n",
            " 8   Coal type                    585 non-null    object \n",
            " 9   Coal supplied                585 non-null    float64\n",
            "dtypes: float64(1), int64(3), object(6)\n",
            "memory usage: 45.8+ KB\n"
          ]
        }
      ]
    },
    {
      "cell_type": "code",
      "source": [
        "x=df.isna().sum()   #df. isna(). sum() returns the number of missing values in each column.\n",
        "print(x)"
      ],
      "metadata": {
        "colab": {
          "base_uri": "https://localhost:8080/"
        },
        "id": "fMh3HHG7ulhn",
        "outputId": "5a27fe3f-1f69-43e9-f6be-c8ff0262edef"
      },
      "execution_count": 8,
      "outputs": [
        {
          "output_type": "stream",
          "name": "stdout",
          "text": [
            "Rowid                          0\n",
            "Country                        0\n",
            "State lgd code                 0\n",
            "State                          0\n",
            "Year                           0\n",
            "Coal category                  0\n",
            "Coal supplying company name    0\n",
            "Coal supplyling sector         0\n",
            "Coal type                      0\n",
            "Coal supplied                  0\n",
            "dtype: int64\n"
          ]
        }
      ]
    },
    {
      "cell_type": "markdown",
      "source": [
        "So there are no null entries in our data. "
      ],
      "metadata": {
        "id": "uu7wM872upSF"
      }
    },
    {
      "cell_type": "code",
      "source": [
        "for col in df.columns.values:\n",
        "  unique_val = pd.unique(df[col])\n",
        "  print('Column ' + '\"'+ col+'\"'  + ' has ' + str(len(unique_val)) + ' unique values')"
      ],
      "metadata": {
        "colab": {
          "base_uri": "https://localhost:8080/"
        },
        "id": "mAsMqGVmuo9V",
        "outputId": "8407cc7c-b283-47f0-968b-4fb26a03f84e"
      },
      "execution_count": 9,
      "outputs": [
        {
          "output_type": "stream",
          "name": "stdout",
          "text": [
            "Column \"Rowid\" has 585 unique values\n",
            "Column \"Country\" has 1 unique values\n",
            "Column \"State lgd code\" has 17 unique values\n",
            "Column \"State\" has 17 unique values\n",
            "Column \"Year\" has 10 unique values\n",
            "Column \"Coal category\" has 2 unique values\n",
            "Column \"Coal supplying company name\" has 59 unique values\n",
            "Column \"Coal supplyling sector\" has 3 unique values\n",
            "Column \"Coal type\" has 3 unique values\n",
            "Column \"Coal supplied\" has 472 unique values\n"
          ]
        }
      ]
    },
    {
      "cell_type": "markdown",
      "source": [
        "# Statewise supply"
      ],
      "metadata": {
        "id": "q3rkH0tmw4z2"
      }
    },
    {
      "cell_type": "code",
      "source": [
        "states=df['State'].unique()\n",
        "print(states)"
      ],
      "metadata": {
        "colab": {
          "base_uri": "https://localhost:8080/"
        },
        "id": "rCDeprmBweMf",
        "outputId": "5c46f820-ee34-4de6-d4bd-7d5cc66fc33f"
      },
      "execution_count": 10,
      "outputs": [
        {
          "output_type": "stream",
          "name": "stdout",
          "text": [
            "['Jammu And Kashmir' 'Rajasthan' 'Uttar Pradesh' 'Arunachal Pradesh'\n",
            " 'Meghalaya' 'Assam' 'West Bengal' 'Jharkhand' 'Odisha' 'Chhattisgarh'\n",
            " 'Madhya Pradesh' 'Gujarat' 'Maharashtra' 'Andhra Pradesh' 'Tamil Nadu'\n",
            " 'Telangana' 'Ladakh']\n"
          ]
        }
      ]
    },
    {
      "cell_type": "code",
      "source": [
        "df2 = df.groupby('State').apply(lambda x: x['Coal supplied'].unique().sum())\n",
        "print(df2)"
      ],
      "metadata": {
        "colab": {
          "base_uri": "https://localhost:8080/"
        },
        "id": "PYbggObc1N5Q",
        "outputId": "ec70368f-204d-4344-d9d0-3eb1c2f71140"
      },
      "execution_count": 11,
      "outputs": [
        {
          "output_type": "stream",
          "name": "stdout",
          "text": [
            "State\n",
            "Andhra Pradesh        121.452236\n",
            "Arunachal Pradesh       0.593000\n",
            "Assam                   6.919000\n",
            "Chhattisgarh         1300.051000\n",
            "Gujarat               123.341000\n",
            "Jammu And Kashmir       0.112485\n",
            "Jharkhand            1201.903000\n",
            "Ladakh                  0.002515\n",
            "Madhya Pradesh        938.832000\n",
            "Maharashtra           418.263000\n",
            "Meghalaya              33.106000\n",
            "Odisha               1263.194000\n",
            "Rajasthan              68.609000\n",
            "Tamil Nadu            248.768000\n",
            "Telangana             462.879764\n",
            "Uttar Pradesh         162.835000\n",
            "West Bengal           279.450000\n",
            "dtype: float64\n"
          ]
        }
      ]
    },
    {
      "cell_type": "code",
      "source": [
        "df1=df2.sort_values()\n",
        "print(df1)"
      ],
      "metadata": {
        "colab": {
          "base_uri": "https://localhost:8080/"
        },
        "id": "qu_rGk_u8z7w",
        "outputId": "33aa6e43-7958-4e1f-86f5-e01d4490c32b"
      },
      "execution_count": 12,
      "outputs": [
        {
          "output_type": "stream",
          "name": "stdout",
          "text": [
            "State\n",
            "Ladakh                  0.002515\n",
            "Jammu And Kashmir       0.112485\n",
            "Arunachal Pradesh       0.593000\n",
            "Assam                   6.919000\n",
            "Meghalaya              33.106000\n",
            "Rajasthan              68.609000\n",
            "Andhra Pradesh        121.452236\n",
            "Gujarat               123.341000\n",
            "Uttar Pradesh         162.835000\n",
            "Tamil Nadu            248.768000\n",
            "West Bengal           279.450000\n",
            "Maharashtra           418.263000\n",
            "Telangana             462.879764\n",
            "Madhya Pradesh        938.832000\n",
            "Jharkhand            1201.903000\n",
            "Odisha               1263.194000\n",
            "Chhattisgarh         1300.051000\n",
            "dtype: float64\n"
          ]
        }
      ]
    },
    {
      "cell_type": "code",
      "source": [
        "df1.plot(kind='bar', y='Coal supplied',figsize=(15,8),ylabel='Coal supplied(in million tonnes)',color='red')"
      ],
      "metadata": {
        "colab": {
          "base_uri": "https://localhost:8080/",
          "height": 605
        },
        "id": "ArVby2UUCRh0",
        "outputId": "384297da-d3d6-48ea-9f53-8b4e61c68898"
      },
      "execution_count": 13,
      "outputs": [
        {
          "output_type": "execute_result",
          "data": {
            "text/plain": [
              "<matplotlib.axes._subplots.AxesSubplot at 0x7fbdaf2aa610>"
            ]
          },
          "metadata": {},
          "execution_count": 13
        },
        {
          "output_type": "display_data",
          "data": {
            "text/plain": [
              "<Figure size 1080x576 with 1 Axes>"
            ],
            "image/png": "[encoded data removed]"
          },
          "metadata": {
            "needs_background": "light"
          }
        }
      ]
    },
    {
      "cell_type": "markdown",
      "source": [
        "# Year Wise supply"
      ],
      "metadata": {
        "id": "aFGwcTnQzyn1"
      }
    },
    {
      "cell_type": "code",
      "source": [
        "dfy = df.groupby('Year').apply(lambda x: x['Coal supplied'].unique().sum())\n",
        "print(dfy)"
      ],
      "metadata": {
        "colab": {
          "base_uri": "https://localhost:8080/"
        },
        "id": "2o69o7BMz1k9",
        "outputId": "79a03994-2d3a-4207-cc7c-c314a4805e63"
      },
      "execution_count": 14,
      "outputs": [
        {
          "output_type": "stream",
          "name": "stdout",
          "text": [
            "Year\n",
            "2011    570.116\n",
            "2012    581.833\n",
            "2013    602.262\n",
            "2014    609.955\n",
            "2015    659.277\n",
            "2016    693.077\n",
            "2017    702.970\n",
            "2018    721.774\n",
            "2019    773.001\n",
            "2020    772.994\n",
            "dtype: float64\n"
          ]
        }
      ]
    },
    {
      "cell_type": "code",
      "source": [
        "plt.plot(dfy,'red')\n",
        "plt.xlabel(\"Year\")\n",
        "plt.ylabel(\"Coal reserved quantity (in million tonnes)\")"
      ],
      "metadata": {
        "colab": {
          "base_uri": "https://localhost:8080/",
          "height": 296
        },
        "id": "L01QwvOM0ayl",
        "outputId": "b1ec14a2-1cd7-463b-dc46-ce1a1b0acbb8"
      },
      "execution_count": 15,
      "outputs": [
        {
          "output_type": "execute_result",
          "data": {
            "text/plain": [
              "Text(0, 0.5, 'Coal reserved quantity (in million tonnes)')"
            ]
          },
          "metadata": {},
          "execution_count": 15
        },
        {
          "output_type": "display_data",
          "data": {
            "text/plain": [
              "<Figure size 432x288 with 1 Axes>"
            ],
            "image/png": "[encoded data removed]"
          },
          "metadata": {
            "needs_background": "light"
          }
        }
      ]
    },
    {
      "cell_type": "markdown",
      "source": [
        "# Typewise supply"
      ],
      "metadata": {
        "id": "mk02xtFm6sR9"
      }
    },
    {
      "cell_type": "code",
      "source": [
        "dft = df.groupby('Coal category').apply(lambda x: x['Coal supplied'].unique().sum())\n",
        "print(dft)"
      ],
      "metadata": {
        "colab": {
          "base_uri": "https://localhost:8080/"
        },
        "id": "RwtPZSXG6yQ0",
        "outputId": "0d16b3d2-4a8d-45b4-d9a5-b16df29d4f46"
      },
      "execution_count": 17,
      "outputs": [
        {
          "output_type": "stream",
          "name": "stdout",
          "text": [
            "Coal category\n",
            "COAL       6175.481\n",
            "LIGNITE     440.718\n",
            "dtype: float64\n"
          ]
        }
      ]
    },
    {
      "cell_type": "code",
      "source": [
        "df.groupby(['Coal category']).sum().plot(kind='pie', y='Coal supplied',autopct='%1.0f%%',figsize=(10,10),xlabel=\"Type of coal \",startangle=15)"
      ],
      "metadata": {
        "colab": {
          "base_uri": "https://localhost:8080/",
          "height": 592
        },
        "id": "Sf4nIyEN7IuG",
        "outputId": "c527ed32-cdf8-44aa-e1b9-c9e168b3595b"
      },
      "execution_count": 18,
      "outputs": [
        {
          "output_type": "execute_result",
          "data": {
            "text/plain": [
              "<matplotlib.axes._subplots.AxesSubplot at 0x7fbdaeb7d710>"
            ]
          },
          "metadata": {},
          "execution_count": 18
        },
        {
          "output_type": "display_data",
          "data": {
            "text/plain": [
              "<Figure size 720x720 with 1 Axes>"
            ],
            "image/png": "[encoded data removed]"
          },
          "metadata": {}
        }
      ]
    },
    {
      "cell_type": "code",
      "source": [
        "df.groupby(['Coal supplyling sector']).sum().plot(kind='pie', y='Coal supplied',autopct='%1.0f%%',figsize=(10,10),xlabel=\"Depth of reserve (in meters) \")"
      ],
      "metadata": {
        "colab": {
          "base_uri": "https://localhost:8080/",
          "height": 592
        },
        "id": "9ynjvOnHUuD4",
        "outputId": "50476712-6135-49b7-8748-f9d360bf213e"
      },
      "execution_count": 19,
      "outputs": [
        {
          "output_type": "execute_result",
          "data": {
            "text/plain": [
              "<matplotlib.axes._subplots.AxesSubplot at 0x7fbdaea46dd0>"
            ]
          },
          "metadata": {},
          "execution_count": 19
        },
        {
          "output_type": "display_data",
          "data": {
            "text/plain": [
              "<Figure size 720x720 with 1 Axes>"
            ],
            "image/png": "[encoded data removed]"
          },
          "metadata": {}
        }
      ]
    },
    {
      "cell_type": "code",
      "source": [
        "df.groupby(['Coal type']).sum().plot(kind='pie', y='Coal supplied',autopct='%1.0f%%',figsize=(10,10),ylabel=\"Type of reserves \",startangle=40)"
      ],
      "metadata": {
        "colab": {
          "base_uri": "https://localhost:8080/",
          "height": 592
        },
        "id": "lCBphnj4U7W3",
        "outputId": "9d8b16d8-00e3-4f19-8896-da512004e563"
      },
      "execution_count": 23,
      "outputs": [
        {
          "output_type": "execute_result",
          "data": {
            "text/plain": [
              "<matplotlib.axes._subplots.AxesSubplot at 0x7fbdae8e0b90>"
            ]
          },
          "metadata": {},
          "execution_count": 23
        },
        {
          "output_type": "display_data",
          "data": {
            "text/plain": [
              "<Figure size 720x720 with 1 Axes>"
            ],
            "image/png": "[encoded data removed]"
          },
          "metadata": {}
        }
      ]
    },
    {
      "cell_type": "markdown",
      "source": [
        "# Top 5 coal supplying companies in india"
      ],
      "metadata": {
        "id": "Pr6x3htlyGML"
      }
    },
    {
      "cell_type": "code",
      "source": [
        "df5 = df.groupby('Coal supplying company name').apply(lambda x: x['Coal supplied'].unique().sum()).sort_values(ascending=False)\n",
        "print(df5)"
      ],
      "metadata": {
        "colab": {
          "base_uri": "https://localhost:8080/"
        },
        "id": "4ojP1SpYyLa7",
        "outputId": "162a3db0-a9ef-4e05-8379-b7b27b5cb06a"
      },
      "execution_count": 24,
      "outputs": [
        {
          "output_type": "stream",
          "name": "stdout",
          "text": [
            "Coal supplying company name\n",
            "SECL           1327.835\n",
            "MCL            1247.790\n",
            "NCL             810.696\n",
            "SCCL            581.914\n",
            "CCL             576.649\n",
            "WCL             457.418\n",
            "ECL             396.112\n",
            "BCCL            321.832\n",
            "NLC             254.319\n",
            "SPL             100.051\n",
            "GMDCL            90.915\n",
            "TISCO/TSL        66.259\n",
            "BLMCL            45.104\n",
            "RRVUNL           42.742\n",
            "MEG              33.106\n",
            "PANEM/PSEB       32.570\n",
            "GIPCL            30.634\n",
            "JPL              23.412\n",
            "NTPC             21.141\n",
            "HIL              18.990\n",
            "JSPL             17.986\n",
            "ICML             16.003\n",
            "WBPDCL           15.078\n",
            "KECML/KEMTA      11.950\n",
            "RSMML            11.871\n",
            "CESC              9.309\n",
            "IISCO/SAIL        7.185\n",
            "NEC               6.919\n",
            "VSLPPL            6.083\n",
            "DVC EMTA          5.542\n",
            "BECML             5.474\n",
            "SEML              4.536\n",
            "MIL/MIEL          4.517\n",
            "JPVL              2.800\n",
            "UML               2.763\n",
            "TSPGCL            2.418\n",
            "WBMDTCL           2.116\n",
            "JNL               2.035\n",
            "BALCO             1.967\n",
            "GHCL              1.792\n",
            "TUML              1.683\n",
            "MPSMCL            1.505\n",
            "SIL               1.451\n",
            "DVC               1.412\n",
            "JSMDCL            1.354\n",
            "ESCL              1.136\n",
            "OCPL              1.003\n",
            "PIL               1.000\n",
            "GMR               0.980\n",
            "BLA               0.896\n",
            "SOVA              0.765\n",
            "APMDTCL           0.593\n",
            "CSPGCL            0.509\n",
            "AMBUJA            0.500\n",
            "SAIL              0.435\n",
            "RCCPL             0.378\n",
            "OCL               0.276\n",
            "BSIL              0.192\n",
            "JKML              0.115\n",
            "dtype: float64\n"
          ]
        }
      ]
    },
    {
      "cell_type": "code",
      "source": [
        "df5.plot(kind='bar', y='Coal supplied',figsize=(15,8),ylabel='Coal supplied(in million tonnes)',color='black')"
      ],
      "metadata": {
        "id": "HU3Fvc0MymZc",
        "colab": {
          "base_uri": "https://localhost:8080/",
          "height": 574
        },
        "outputId": "9615d8d9-6077-4f68-8355-dcca205dcd60"
      },
      "execution_count": 25,
      "outputs": [
        {
          "output_type": "execute_result",
          "data": {
            "text/plain": [
              "<matplotlib.axes._subplots.AxesSubplot at 0x7fbdae84cc90>"
            ]
          },
          "metadata": {},
          "execution_count": 25
        },
        {
          "output_type": "display_data",
          "data": {
            "text/plain": [
              "<Figure size 1080x576 with 1 Axes>"
            ],
            "image/png": "[encoded data removed]"
          },
          "metadata": {
            "needs_background": "light"
          }
        }
      ]
    },
    {
      "cell_type": "markdown",
      "source": [
        "SECL, MCL, NCL, SCCL and CCL are top 5 coal supply companies in india over past 10 years."
      ],
      "metadata": {
        "id": "mSI4uusFzLYp"
      }
    }
  ]
}