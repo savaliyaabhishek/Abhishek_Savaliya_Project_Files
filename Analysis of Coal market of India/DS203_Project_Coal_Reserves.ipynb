{
  "nbformat": 4,
  "nbformat_minor": 0,
  "metadata": {
    "colab": {
      "provenance": []
    },
    "kernelspec": {
      "name": "python3",
      "display_name": "Python 3"
    },
    "language_info": {
      "name": "python"
    }
  },
  "cells": [
    {
      "cell_type": "markdown",
      "source": [
        "# Reading the data"
      ],
      "metadata": {
        "id": "vIQSXXhXwy0t"
      }
    },
    {
      "cell_type": "code",
      "execution_count": 3,
      "metadata": {
        "colab": {
          "base_uri": "https://localhost:8080/",
          "height": 74
        },
        "id": "jWvqh66Lrm-K",
        "outputId": "5cfd7f55-0118-4248-9ddd-fe751ff79b76"
      },
      "outputs": [
        {
          "output_type": "display_data",
          "data": {
            "text/plain": [
              "<IPython.core.display.HTML object>"
            ],
            "text/html": [
              "\n",
              "     <input type=\"file\" id=\"files-eecce037-30df-41f9-b309-efbb7ca51002\" name=\"files[]\" multiple disabled\n",
              "        style=\"border:none\" />\n",
              "     <output id=\"result-eecce037-30df-41f9-b309-efbb7ca51002\">\n",
              "      Upload widget is only available when the cell has been executed in the\n",
              "      current browser session. Please rerun this cell to enable.\n",
              "      </output>\n",
              "      <script>// Copyright 2017 Google LLC\n",
              "//\n",
              "// Licensed under the Apache License, Version 2.0 (the \"License\");\n",
              "// you may not use this file except in compliance with the License.\n",
              "// You may obtain a copy of the License at\n",
              "//\n",
              "//      http://www.apache.org/licenses/LICENSE-2.0\n",
              "//\n",
              "// Unless required by applicable law or agreed to in writing, software\n",
              "// distributed under the License is distributed on an \"AS IS\" BASIS,\n",
              "// WITHOUT WARRANTIES OR CONDITIONS OF ANY KIND, either express or implied.\n",
              "// See the License for the specific language governing permissions and\n",
              "// limitations under the License.\n",
              "\n",
              "/**\n",
              " * @fileoverview Helpers for google.colab Python module.\n",
              " */\n",
              "(function(scope) {\n",
              "function span(text, styleAttributes = {}) {\n",
              "  const element = document.createElement('span');\n",
              "  element.textContent = text;\n",
              "  for (const key of Object.keys(styleAttributes)) {\n",
              "    element.style[key] = styleAttributes[key];\n",
              "  }\n",
              "  return element;\n",
              "}\n",
              "\n",
              "// Max number of bytes which will be uploaded at a time.\n",
              "const MAX_PAYLOAD_SIZE = 100 * 1024;\n",
              "\n",
              "function _uploadFiles(inputId, outputId) {\n",
              "  const steps = uploadFilesStep(inputId, outputId);\n",
              "  const outputElement = document.getElementById(outputId);\n",
              "  // Cache steps on the outputElement to make it available for the next call\n",
              "  // to uploadFilesContinue from Python.\n",
              "  outputElement.steps = steps;\n",
              "\n",
              "  return _uploadFilesContinue(outputId);\n",
              "}\n",
              "\n",
              "// This is roughly an async generator (not supported in the browser yet),\n",
              "// where there are multiple asynchronous steps and the Python side is going\n",
              "// to poll for completion of each step.\n",
              "// This uses a Promise to block the python side on completion of each step,\n",
              "// then passes the result of the previous step as the input to the next step.\n",
              "function _uploadFilesContinue(outputId) {\n",
              "  const outputElement = document.getElementById(outputId);\n",
              "  const steps = outputElement.steps;\n",
              "\n",
              "  const next = steps.next(outputElement.lastPromiseValue);\n",
              "  return Promise.resolve(next.value.promise).then((value) => {\n",
              "    // Cache the last promise value to make it available to the next\n",
              "    // step of the generator.\n",
              "    outputElement.lastPromiseValue = value;\n",
              "    return next.value.response;\n",
              "  });\n",
              "}\n",
              "\n",
              "/**\n",
              " * Generator function which is called between each async step of the upload\n",
              " * process.\n",
              " * @param {string} inputId Element ID of the input file picker element.\n",
              " * @param {string} outputId Element ID of the output display.\n",
              " * @return {!Iterable<!Object>} Iterable of next steps.\n",
              " */\n",
              "function* uploadFilesStep(inputId, outputId) {\n",
              "  const inputElement = document.getElementById(inputId);\n",
              "  inputElement.disabled = false;\n",
              "\n",
              "  const outputElement = document.getElementById(outputId);\n",
              "  outputElement.innerHTML = '';\n",
              "\n",
              "  const pickedPromise = new Promise((resolve) => {\n",
              "    inputElement.addEventListener('change', (e) => {\n",
              "      resolve(e.target.files);\n",
              "    });\n",
              "  });\n",
              "\n",
              "  const cancel = document.createElement('button');\n",
              "  inputElement.parentElement.appendChild(cancel);\n",
              "  cancel.textContent = 'Cancel upload';\n",
              "  const cancelPromise = new Promise((resolve) => {\n",
              "    cancel.onclick = () => {\n",
              "      resolve(null);\n",
              "    };\n",
              "  });\n",
              "\n",
              "  // Wait for the user to pick the files.\n",
              "  const files = yield {\n",
              "    promise: Promise.race([pickedPromise, cancelPromise]),\n",
              "    response: {\n",
              "      action: 'starting',\n",
              "    }\n",
              "  };\n",
              "\n",
              "  cancel.remove();\n",
              "\n",
              "  // Disable the input element since further picks are not allowed.\n",
              "  inputElement.disabled = true;\n",
              "\n",
              "  if (!files) {\n",
              "    return {\n",
              "      response: {\n",
              "        action: 'complete',\n",
              "      }\n",
              "    };\n",
              "  }\n",
              "\n",
              "  for (const file of files) {\n",
              "    const li = document.createElement('li');\n",
              "    li.append(span(file.name, {fontWeight: 'bold'}));\n",
              "    li.append(span(\n",
              "        `(${file.type || 'n/a'}) - ${file.size} bytes, ` +\n",
              "        `last modified: ${\n",
              "            file.lastModifiedDate ? file.lastModifiedDate.toLocaleDateString() :\n",
              "                                    'n/a'} - `));\n",
              "    const percent = span('0% done');\n",
              "    li.appendChild(percent);\n",
              "\n",
              "    outputElement.appendChild(li);\n",
              "\n",
              "    const fileDataPromise = new Promise((resolve) => {\n",
              "      const reader = new FileReader();\n",
              "      reader.onload = (e) => {\n",
              "        resolve(e.target.result);\n",
              "      };\n",
              "      reader.readAsArrayBuffer(file);\n",
              "    });\n",
              "    // Wait for the data to be ready.\n",
              "    let fileData = yield {\n",
              "      promise: fileDataPromise,\n",
              "      response: {\n",
              "        action: 'continue',\n",
              "      }\n",
              "    };\n",
              "\n",
              "    // Use a chunked sending to avoid message size limits. See b/62115660.\n",
              "    let position = 0;\n",
              "    do {\n",
              "      const length = Math.min(fileData.byteLength - position, MAX_PAYLOAD_SIZE);\n",
              "      const chunk = new Uint8Array(fileData, position, length);\n",
              "      position += length;\n",
              "\n",
              "      const base64 = btoa(String.fromCharCode.apply(null, chunk));\n",
              "      yield {\n",
              "        response: {\n",
              "          action: 'append',\n",
              "          file: file.name,\n",
              "          data: base64,\n",
              "        },\n",
              "      };\n",
              "\n",
              "      let percentDone = fileData.byteLength === 0 ?\n",
              "          100 :\n",
              "          Math.round((position / fileData.byteLength) * 100);\n",
              "      percent.textContent = `${percentDone}% done`;\n",
              "\n",
              "    } while (position < fileData.byteLength);\n",
              "  }\n",
              "\n",
              "  // All done.\n",
              "  yield {\n",
              "    response: {\n",
              "      action: 'complete',\n",
              "    }\n",
              "  };\n",
              "}\n",
              "\n",
              "scope.google = scope.google || {};\n",
              "scope.google.colab = scope.google.colab || {};\n",
              "scope.google.colab._files = {\n",
              "  _uploadFiles,\n",
              "  _uploadFilesContinue,\n",
              "};\n",
              "})(self);\n",
              "</script> "
            ]
          },
          "metadata": {}
        },
        {
          "output_type": "stream",
          "name": "stdout",
          "text": [
            "Saving Coal Reserves Production by State.csv to Coal Reserves Production by State.csv\n"
          ]
        }
      ],
      "source": [
        "# UPLOADING DATA FILE\n",
        "\n",
        "from google.colab import files\n",
        "\n",
        "upload = files.upload()"
      ]
    },
    {
      "cell_type": "code",
      "source": [
        "import pandas as pd\n",
        "import seaborn as sb\n",
        "import matplotlib.pyplot as plt\n",
        "import numpy as np"
      ],
      "metadata": {
        "id": "DhBhBAg7t62a"
      },
      "execution_count": 1,
      "outputs": []
    },
    {
      "cell_type": "code",
      "source": [
        "df = pd.read_csv('Coal Reserves Production by State.csv')\n",
        "display(df)"
      ],
      "metadata": {
        "colab": {
          "base_uri": "https://localhost:8080/",
          "height": 424
        },
        "id": "HFWQVUL-uEom",
        "outputId": "e78fdbc8-b533-48be-ea95-783af8bdc5be"
      },
      "execution_count": 4,
      "outputs": [
        {
          "output_type": "display_data",
          "data": {
            "text/plain": [
              "      Rowid Country  State lgd code          State  Year  \\\n",
              "0         1   India               9  Uttar Pradesh  2011   \n",
              "1         2   India               9  Uttar Pradesh  2011   \n",
              "2         3   India               9  Uttar Pradesh  2012   \n",
              "3         4   India               9  Uttar Pradesh  2012   \n",
              "4         5   India               9  Uttar Pradesh  2013   \n",
              "...     ...     ...             ...            ...   ...   \n",
              "3364   3365   India              36      Telangana  2020   \n",
              "3365   3366   India              36      Telangana  2020   \n",
              "3366   3367   India              36      Telangana  2020   \n",
              "3367   3368   India              36      Telangana  2020   \n",
              "3368   3369   India              36      Telangana  2020   \n",
              "\n",
              "     Name of the coal field Type of coal Depth of the reserve Type of reserve  \\\n",
              "0                 SINGRAULI   NON-COKING                0-300       INDICATED   \n",
              "1                 SINGRAULI   NON-COKING                0-300          PROVED   \n",
              "2                 SINGRAULI   NON-COKING                0-300       INDICATED   \n",
              "3                 SINGRAULI   NON-COKING                0-300          PROVED   \n",
              "4                 SINGRAULI   NON-COKING                0-300       INDICATED   \n",
              "...                     ...          ...                  ...             ...   \n",
              "3364               GODAVARI   NON-COKING              300-600        INFERRED   \n",
              "3365               GODAVARI   NON-COKING              300-600          PROVED   \n",
              "3366               GODAVARI   NON-COKING             600-1200       INDICATED   \n",
              "3367               GODAVARI   NON-COKING             600-1200        INFERRED   \n",
              "3368               GODAVARI   NON-COKING             600-1200          PROVED   \n",
              "\n",
              "      Coal reserved quantity  \n",
              "0                     195.75  \n",
              "1                     866.05  \n",
              "2                     177.76  \n",
              "3                     884.04  \n",
              "4                     177.76  \n",
              "...                      ...  \n",
              "3364                  518.08  \n",
              "3365                 4096.55  \n",
              "3366                 1416.81  \n",
              "3367                 2122.48  \n",
              "3368                  261.64  \n",
              "\n",
              "[3369 rows x 10 columns]"
            ],
            "text/html": [
              "\n",
              "  <div id=\"df-c5528793-6baf-4bcf-a5a6-949ae8e7e861\">\n",
              "    <div class=\"colab-df-container\">\n",
              "      <div>\n",
              "<style scoped>\n",
              "    .dataframe tbody tr th:only-of-type {\n",
              "        vertical-align: middle;\n",
              "    }\n",
              "\n",
              "    .dataframe tbody tr th {\n",
              "        vertical-align: top;\n",
              "    }\n",
              "\n",
              "    .dataframe thead th {\n",
              "        text-align: right;\n",
              "    }\n",
              "</style>\n",
              "<table border=\"1\" class=\"dataframe\">\n",
              "  <thead>\n",
              "    <tr style=\"text-align: right;\">\n",
              "      <th></th>\n",
              "      <th>Rowid</th>\n",
              "      <th>Country</th>\n",
              "      <th>State lgd code</th>\n",
              "      <th>State</th>\n",
              "      <th>Year</th>\n",
              "      <th>Name of the coal field</th>\n",
              "      <th>Type of coal</th>\n",
              "      <th>Depth of the reserve</th>\n",
              "      <th>Type of reserve</th>\n",
              "      <th>Coal reserved quantity</th>\n",
              "    </tr>\n",
              "  </thead>\n",
              "  <tbody>\n",
              "    <tr>\n",
              "      <th>0</th>\n",
              "      <td>1</td>\n",
              "      <td>India</td>\n",
              "      <td>9</td>\n",
              "      <td>Uttar Pradesh</td>\n",
              "      <td>2011</td>\n",
              "      <td>SINGRAULI</td>\n",
              "      <td>NON-COKING</td>\n",
              "      <td>0-300</td>\n",
              "      <td>INDICATED</td>\n",
              "      <td>195.75</td>\n",
              "    </tr>\n",
              "    <tr>\n",
              "      <th>1</th>\n",
              "      <td>2</td>\n",
              "      <td>India</td>\n",
              "      <td>9</td>\n",
              "      <td>Uttar Pradesh</td>\n",
              "      <td>2011</td>\n",
              "      <td>SINGRAULI</td>\n",
              "      <td>NON-COKING</td>\n",
              "      <td>0-300</td>\n",
              "      <td>PROVED</td>\n",
              "      <td>866.05</td>\n",
              "    </tr>\n",
              "    <tr>\n",
              "      <th>2</th>\n",
              "      <td>3</td>\n",
              "      <td>India</td>\n",
              "      <td>9</td>\n",
              "      <td>Uttar Pradesh</td>\n",
              "      <td>2012</td>\n",
              "      <td>SINGRAULI</td>\n",
              "      <td>NON-COKING</td>\n",
              "      <td>0-300</td>\n",
              "      <td>INDICATED</td>\n",
              "      <td>177.76</td>\n",
              "    </tr>\n",
              "    <tr>\n",
              "      <th>3</th>\n",
              "      <td>4</td>\n",
              "      <td>India</td>\n",
              "      <td>9</td>\n",
              "      <td>Uttar Pradesh</td>\n",
              "      <td>2012</td>\n",
              "      <td>SINGRAULI</td>\n",
              "      <td>NON-COKING</td>\n",
              "      <td>0-300</td>\n",
              "      <td>PROVED</td>\n",
              "      <td>884.04</td>\n",
              "    </tr>\n",
              "    <tr>\n",
              "      <th>4</th>\n",
              "      <td>5</td>\n",
              "      <td>India</td>\n",
              "      <td>9</td>\n",
              "      <td>Uttar Pradesh</td>\n",
              "      <td>2013</td>\n",
              "      <td>SINGRAULI</td>\n",
              "      <td>NON-COKING</td>\n",
              "      <td>0-300</td>\n",
              "      <td>INDICATED</td>\n",
              "      <td>177.76</td>\n",
              "    </tr>\n",
              "    <tr>\n",
              "      <th>...</th>\n",
              "      <td>...</td>\n",
              "      <td>...</td>\n",
              "      <td>...</td>\n",
              "      <td>...</td>\n",
              "      <td>...</td>\n",
              "      <td>...</td>\n",
              "      <td>...</td>\n",
              "      <td>...</td>\n",
              "      <td>...</td>\n",
              "      <td>...</td>\n",
              "    </tr>\n",
              "    <tr>\n",
              "      <th>3364</th>\n",
              "      <td>3365</td>\n",
              "      <td>India</td>\n",
              "      <td>36</td>\n",
              "      <td>Telangana</td>\n",
              "      <td>2020</td>\n",
              "      <td>GODAVARI</td>\n",
              "      <td>NON-COKING</td>\n",
              "      <td>300-600</td>\n",
              "      <td>INFERRED</td>\n",
              "      <td>518.08</td>\n",
              "    </tr>\n",
              "    <tr>\n",
              "      <th>3365</th>\n",
              "      <td>3366</td>\n",
              "      <td>India</td>\n",
              "      <td>36</td>\n",
              "      <td>Telangana</td>\n",
              "      <td>2020</td>\n",
              "      <td>GODAVARI</td>\n",
              "      <td>NON-COKING</td>\n",
              "      <td>300-600</td>\n",
              "      <td>PROVED</td>\n",
              "      <td>4096.55</td>\n",
              "    </tr>\n",
              "    <tr>\n",
              "      <th>3366</th>\n",
              "      <td>3367</td>\n",
              "      <td>India</td>\n",
              "      <td>36</td>\n",
              "      <td>Telangana</td>\n",
              "      <td>2020</td>\n",
              "      <td>GODAVARI</td>\n",
              "      <td>NON-COKING</td>\n",
              "      <td>600-1200</td>\n",
              "      <td>INDICATED</td>\n",
              "      <td>1416.81</td>\n",
              "    </tr>\n",
              "    <tr>\n",
              "      <th>3367</th>\n",
              "      <td>3368</td>\n",
              "      <td>India</td>\n",
              "      <td>36</td>\n",
              "      <td>Telangana</td>\n",
              "      <td>2020</td>\n",
              "      <td>GODAVARI</td>\n",
              "      <td>NON-COKING</td>\n",
              "      <td>600-1200</td>\n",
              "      <td>INFERRED</td>\n",
              "      <td>2122.48</td>\n",
              "    </tr>\n",
              "    <tr>\n",
              "      <th>3368</th>\n",
              "      <td>3369</td>\n",
              "      <td>India</td>\n",
              "      <td>36</td>\n",
              "      <td>Telangana</td>\n",
              "      <td>2020</td>\n",
              "      <td>GODAVARI</td>\n",
              "      <td>NON-COKING</td>\n",
              "      <td>600-1200</td>\n",
              "      <td>PROVED</td>\n",
              "      <td>261.64</td>\n",
              "    </tr>\n",
              "  </tbody>\n",
              "</table>\n",
              "<p>3369 rows × 10 columns</p>\n",
              "</div>\n",
              "      <button class=\"colab-df-convert\" onclick=\"convertToInteractive('df-c5528793-6baf-4bcf-a5a6-949ae8e7e861')\"\n",
              "              title=\"Convert this dataframe to an interactive table.\"\n",
              "              style=\"display:none;\">\n",
              "        \n",
              "  <svg xmlns=\"http://www.w3.org/2000/svg\" height=\"24px\"viewBox=\"0 0 24 24\"\n",
              "       width=\"24px\">\n",
              "    <path d=\"M0 0h24v24H0V0z\" fill=\"none\"/>\n",
              "    <path d=\"M18.56 5.44l.94 2.06.94-2.06 2.06-.94-2.06-.94-.94-2.06-.94 2.06-2.06.94zm-11 1L8.5 8.5l.94-2.06 2.06-.94-2.06-.94L8.5 2.5l-.94 2.06-2.06.94zm10 10l.94 2.06.94-2.06 2.06-.94-2.06-.94-.94-2.06-.94 2.06-2.06.94z\"/><path d=\"M17.41 7.96l-1.37-1.37c-.4-.4-.92-.59-1.43-.59-.52 0-1.04.2-1.43.59L10.3 9.45l-7.72 7.72c-.78.78-.78 2.05 0 2.83L4 21.41c.39.39.9.59 1.41.59.51 0 1.02-.2 1.41-.59l7.78-7.78 2.81-2.81c.8-.78.8-2.07 0-2.86zM5.41 20L4 18.59l7.72-7.72 1.47 1.35L5.41 20z\"/>\n",
              "  </svg>\n",
              "      </button>\n",
              "      \n",
              "  <style>\n",
              "    .colab-df-container {\n",
              "      display:flex;\n",
              "      flex-wrap:wrap;\n",
              "      gap: 12px;\n",
              "    }\n",
              "\n",
              "    .colab-df-convert {\n",
              "      background-color: #E8F0FE;\n",
              "      border: none;\n",
              "      border-radius: 50%;\n",
              "      cursor: pointer;\n",
              "      display: none;\n",
              "      fill: #1967D2;\n",
              "      height: 32px;\n",
              "      padding: 0 0 0 0;\n",
              "      width: 32px;\n",
              "    }\n",
              "\n",
              "    .colab-df-convert:hover {\n",
              "      background-color: #E2EBFA;\n",
              "      box-shadow: 0px 1px 2px rgba(60, 64, 67, 0.3), 0px 1px 3px 1px rgba(60, 64, 67, 0.15);\n",
              "      fill: #174EA6;\n",
              "    }\n",
              "\n",
              "    [theme=dark] .colab-df-convert {\n",
              "      background-color: #3B4455;\n",
              "      fill: #D2E3FC;\n",
              "    }\n",
              "\n",
              "    [theme=dark] .colab-df-convert:hover {\n",
              "      background-color: #434B5C;\n",
              "      box-shadow: 0px 1px 3px 1px rgba(0, 0, 0, 0.15);\n",
              "      filter: drop-shadow(0px 1px 2px rgba(0, 0, 0, 0.3));\n",
              "      fill: #FFFFFF;\n",
              "    }\n",
              "  </style>\n",
              "\n",
              "      <script>\n",
              "        const buttonEl =\n",
              "          document.querySelector('#df-c5528793-6baf-4bcf-a5a6-949ae8e7e861 button.colab-df-convert');\n",
              "        buttonEl.style.display =\n",
              "          google.colab.kernel.accessAllowed ? 'block' : 'none';\n",
              "\n",
              "        async function convertToInteractive(key) {\n",
              "          const element = document.querySelector('#df-c5528793-6baf-4bcf-a5a6-949ae8e7e861');\n",
              "          const dataTable =\n",
              "            await google.colab.kernel.invokeFunction('convertToInteractive',\n",
              "                                                     [key], {});\n",
              "          if (!dataTable) return;\n",
              "\n",
              "          const docLinkHtml = 'Like what you see? Visit the ' +\n",
              "            '<a target=\"_blank\" href=https://colab.research.google.com/notebooks/data_table.ipynb>data table notebook</a>'\n",
              "            + ' to learn more about interactive tables.';\n",
              "          element.innerHTML = '';\n",
              "          dataTable['output_type'] = 'display_data';\n",
              "          await google.colab.output.renderOutput(dataTable, element);\n",
              "          const docLink = document.createElement('div');\n",
              "          docLink.innerHTML = docLinkHtml;\n",
              "          element.appendChild(docLink);\n",
              "        }\n",
              "      </script>\n",
              "    </div>\n",
              "  </div>\n",
              "  "
            ]
          },
          "metadata": {}
        }
      ]
    },
    {
      "cell_type": "markdown",
      "source": [
        "# Some basic insights into data"
      ],
      "metadata": {
        "id": "CLxhrzbkwuMt"
      }
    },
    {
      "cell_type": "code",
      "source": [
        "df.describe()"
      ],
      "metadata": {
        "colab": {
          "base_uri": "https://localhost:8080/",
          "height": 300
        },
        "id": "zgAPlbWPuXIn",
        "outputId": "d2c3e519-fb23-4a0a-8751-7d1d799dea60"
      },
      "execution_count": 5,
      "outputs": [
        {
          "output_type": "execute_result",
          "data": {
            "text/plain": [
              "             Rowid  State lgd code         Year  Coal reserved quantity\n",
              "count  3369.000000     3369.000000  3369.000000             3369.000000\n",
              "mean   1685.000000       21.246067  2015.582072              920.182408\n",
              "std     972.690855        4.142754     2.875668             2070.395265\n",
              "min       1.000000        9.000000  2011.000000                0.030000\n",
              "25%     843.000000       20.000000  2013.000000               31.230000\n",
              "50%    1685.000000       20.000000  2016.000000              177.700000\n",
              "75%    2527.000000       23.000000  2018.000000              818.420000\n",
              "max    3369.000000       36.000000  2020.000000            21531.120000"
            ],
            "text/html": [
              "\n",
              "  <div id=\"df-b3ef9cba-c8b4-46fa-b833-25d2d02ed4c0\">\n",
              "    <div class=\"colab-df-container\">\n",
              "      <div>\n",
              "<style scoped>\n",
              "    .dataframe tbody tr th:only-of-type {\n",
              "        vertical-align: middle;\n",
              "    }\n",
              "\n",
              "    .dataframe tbody tr th {\n",
              "        vertical-align: top;\n",
              "    }\n",
              "\n",
              "    .dataframe thead th {\n",
              "        text-align: right;\n",
              "    }\n",
              "</style>\n",
              "<table border=\"1\" class=\"dataframe\">\n",
              "  <thead>\n",
              "    <tr style=\"text-align: right;\">\n",
              "      <th></th>\n",
              "      <th>Rowid</th>\n",
              "      <th>State lgd code</th>\n",
              "      <th>Year</th>\n",
              "      <th>Coal reserved quantity</th>\n",
              "    </tr>\n",
              "  </thead>\n",
              "  <tbody>\n",
              "    <tr>\n",
              "      <th>count</th>\n",
              "      <td>3369.000000</td>\n",
              "      <td>3369.000000</td>\n",
              "      <td>3369.000000</td>\n",
              "      <td>3369.000000</td>\n",
              "    </tr>\n",
              "    <tr>\n",
              "      <th>mean</th>\n",
              "      <td>1685.000000</td>\n",
              "      <td>21.246067</td>\n",
              "      <td>2015.582072</td>\n",
              "      <td>920.182408</td>\n",
              "    </tr>\n",
              "    <tr>\n",
              "      <th>std</th>\n",
              "      <td>972.690855</td>\n",
              "      <td>4.142754</td>\n",
              "      <td>2.875668</td>\n",
              "      <td>2070.395265</td>\n",
              "    </tr>\n",
              "    <tr>\n",
              "      <th>min</th>\n",
              "      <td>1.000000</td>\n",
              "      <td>9.000000</td>\n",
              "      <td>2011.000000</td>\n",
              "      <td>0.030000</td>\n",
              "    </tr>\n",
              "    <tr>\n",
              "      <th>25%</th>\n",
              "      <td>843.000000</td>\n",
              "      <td>20.000000</td>\n",
              "      <td>2013.000000</td>\n",
              "      <td>31.230000</td>\n",
              "    </tr>\n",
              "    <tr>\n",
              "      <th>50%</th>\n",
              "      <td>1685.000000</td>\n",
              "      <td>20.000000</td>\n",
              "      <td>2016.000000</td>\n",
              "      <td>177.700000</td>\n",
              "    </tr>\n",
              "    <tr>\n",
              "      <th>75%</th>\n",
              "      <td>2527.000000</td>\n",
              "      <td>23.000000</td>\n",
              "      <td>2018.000000</td>\n",
              "      <td>818.420000</td>\n",
              "    </tr>\n",
              "    <tr>\n",
              "      <th>max</th>\n",
              "      <td>3369.000000</td>\n",
              "      <td>36.000000</td>\n",
              "      <td>2020.000000</td>\n",
              "      <td>21531.120000</td>\n",
              "    </tr>\n",
              "  </tbody>\n",
              "</table>\n",
              "</div>\n",
              "      <button class=\"colab-df-convert\" onclick=\"convertToInteractive('df-b3ef9cba-c8b4-46fa-b833-25d2d02ed4c0')\"\n",
              "              title=\"Convert this dataframe to an interactive table.\"\n",
              "              style=\"display:none;\">\n",
              "        \n",
              "  <svg xmlns=\"http://www.w3.org/2000/svg\" height=\"24px\"viewBox=\"0 0 24 24\"\n",
              "       width=\"24px\">\n",
              "    <path d=\"M0 0h24v24H0V0z\" fill=\"none\"/>\n",
              "    <path d=\"M18.56 5.44l.94 2.06.94-2.06 2.06-.94-2.06-.94-.94-2.06-.94 2.06-2.06.94zm-11 1L8.5 8.5l.94-2.06 2.06-.94-2.06-.94L8.5 2.5l-.94 2.06-2.06.94zm10 10l.94 2.06.94-2.06 2.06-.94-2.06-.94-.94-2.06-.94 2.06-2.06.94z\"/><path d=\"M17.41 7.96l-1.37-1.37c-.4-.4-.92-.59-1.43-.59-.52 0-1.04.2-1.43.59L10.3 9.45l-7.72 7.72c-.78.78-.78 2.05 0 2.83L4 21.41c.39.39.9.59 1.41.59.51 0 1.02-.2 1.41-.59l7.78-7.78 2.81-2.81c.8-.78.8-2.07 0-2.86zM5.41 20L4 18.59l7.72-7.72 1.47 1.35L5.41 20z\"/>\n",
              "  </svg>\n",
              "      </button>\n",
              "      \n",
              "  <style>\n",
              "    .colab-df-container {\n",
              "      display:flex;\n",
              "      flex-wrap:wrap;\n",
              "      gap: 12px;\n",
              "    }\n",
              "\n",
              "    .colab-df-convert {\n",
              "      background-color: #E8F0FE;\n",
              "      border: none;\n",
              "      border-radius: 50%;\n",
              "      cursor: pointer;\n",
              "      display: none;\n",
              "      fill: #1967D2;\n",
              "      height: 32px;\n",
              "      padding: 0 0 0 0;\n",
              "      width: 32px;\n",
              "    }\n",
              "\n",
              "    .colab-df-convert:hover {\n",
              "      background-color: #E2EBFA;\n",
              "      box-shadow: 0px 1px 2px rgba(60, 64, 67, 0.3), 0px 1px 3px 1px rgba(60, 64, 67, 0.15);\n",
              "      fill: #174EA6;\n",
              "    }\n",
              "\n",
              "    [theme=dark] .colab-df-convert {\n",
              "      background-color: #3B4455;\n",
              "      fill: #D2E3FC;\n",
              "    }\n",
              "\n",
              "    [theme=dark] .colab-df-convert:hover {\n",
              "      background-color: #434B5C;\n",
              "      box-shadow: 0px 1px 3px 1px rgba(0, 0, 0, 0.15);\n",
              "      filter: drop-shadow(0px 1px 2px rgba(0, 0, 0, 0.3));\n",
              "      fill: #FFFFFF;\n",
              "    }\n",
              "  </style>\n",
              "\n",
              "      <script>\n",
              "        const buttonEl =\n",
              "          document.querySelector('#df-b3ef9cba-c8b4-46fa-b833-25d2d02ed4c0 button.colab-df-convert');\n",
              "        buttonEl.style.display =\n",
              "          google.colab.kernel.accessAllowed ? 'block' : 'none';\n",
              "\n",
              "        async function convertToInteractive(key) {\n",
              "          const element = document.querySelector('#df-b3ef9cba-c8b4-46fa-b833-25d2d02ed4c0');\n",
              "          const dataTable =\n",
              "            await google.colab.kernel.invokeFunction('convertToInteractive',\n",
              "                                                     [key], {});\n",
              "          if (!dataTable) return;\n",
              "\n",
              "          const docLinkHtml = 'Like what you see? Visit the ' +\n",
              "            '<a target=\"_blank\" href=https://colab.research.google.com/notebooks/data_table.ipynb>data table notebook</a>'\n",
              "            + ' to learn more about interactive tables.';\n",
              "          element.innerHTML = '';\n",
              "          dataTable['output_type'] = 'display_data';\n",
              "          await google.colab.output.renderOutput(dataTable, element);\n",
              "          const docLink = document.createElement('div');\n",
              "          docLink.innerHTML = docLinkHtml;\n",
              "          element.appendChild(docLink);\n",
              "        }\n",
              "      </script>\n",
              "    </div>\n",
              "  </div>\n",
              "  "
            ]
          },
          "metadata": {},
          "execution_count": 5
        }
      ]
    },
    {
      "cell_type": "code",
      "source": [
        "df.info()"
      ],
      "metadata": {
        "colab": {
          "base_uri": "https://localhost:8080/"
        },
        "id": "-RQ5UHniubun",
        "outputId": "8e8bc58b-a63c-4ac3-c858-abf79979cf4f"
      },
      "execution_count": 6,
      "outputs": [
        {
          "output_type": "stream",
          "name": "stdout",
          "text": [
            "<class 'pandas.core.frame.DataFrame'>\n",
            "RangeIndex: 3369 entries, 0 to 3368\n",
            "Data columns (total 10 columns):\n",
            " #   Column                  Non-Null Count  Dtype  \n",
            "---  ------                  --------------  -----  \n",
            " 0   Rowid                   3369 non-null   int64  \n",
            " 1   Country                 3369 non-null   object \n",
            " 2   State lgd code          3369 non-null   int64  \n",
            " 3   State                   3369 non-null   object \n",
            " 4   Year                    3369 non-null   int64  \n",
            " 5   Name of the coal field  3369 non-null   object \n",
            " 6   Type of coal            3369 non-null   object \n",
            " 7   Depth of the reserve    3369 non-null   object \n",
            " 8   Type of reserve         3369 non-null   object \n",
            " 9   Coal reserved quantity  3369 non-null   float64\n",
            "dtypes: float64(1), int64(3), object(6)\n",
            "memory usage: 263.3+ KB\n"
          ]
        }
      ]
    },
    {
      "cell_type": "code",
      "source": [
        "x=df.isna().sum()   #df. isna(). sum() returns the number of missing values in each column.\n",
        "print(x)"
      ],
      "metadata": {
        "colab": {
          "base_uri": "https://localhost:8080/"
        },
        "id": "fMh3HHG7ulhn",
        "outputId": "396640dd-6d80-48f7-fc37-ae4f9ccc7ae2"
      },
      "execution_count": 7,
      "outputs": [
        {
          "output_type": "stream",
          "name": "stdout",
          "text": [
            "Rowid                     0\n",
            "Country                   0\n",
            "State lgd code            0\n",
            "State                     0\n",
            "Year                      0\n",
            "Name of the coal field    0\n",
            "Type of coal              0\n",
            "Depth of the reserve      0\n",
            "Type of reserve           0\n",
            "Coal reserved quantity    0\n",
            "dtype: int64\n"
          ]
        }
      ]
    },
    {
      "cell_type": "markdown",
      "source": [
        "So there are no null entries in our data. "
      ],
      "metadata": {
        "id": "uu7wM872upSF"
      }
    },
    {
      "cell_type": "code",
      "source": [
        "for col in df.columns.values:\n",
        "  unique_val = pd.unique(df[col])\n",
        "  print('Column ' + '\"'+ col+'\"'  + ' has ' + str(len(unique_val)) + ' unique values')"
      ],
      "metadata": {
        "colab": {
          "base_uri": "https://localhost:8080/"
        },
        "id": "mAsMqGVmuo9V",
        "outputId": "ff0e0571-2a91-45b8-b6ce-8a40c639425e"
      },
      "execution_count": 8,
      "outputs": [
        {
          "output_type": "stream",
          "name": "stdout",
          "text": [
            "Column \"Rowid\" has 3369 unique values\n",
            "Column \"Country\" has 1 unique values\n",
            "Column \"State lgd code\" has 15 unique values\n",
            "Column \"State\" has 15 unique values\n",
            "Column \"Year\" has 10 unique values\n",
            "Column \"Name of the coal field\" has 65 unique values\n",
            "Column \"Type of coal\" has 5 unique values\n",
            "Column \"Depth of the reserve\" has 4 unique values\n",
            "Column \"Type of reserve\" has 3 unique values\n",
            "Column \"Coal reserved quantity\" has 1040 unique values\n"
          ]
        }
      ]
    },
    {
      "cell_type": "markdown",
      "source": [
        "# Statewise reserves"
      ],
      "metadata": {
        "id": "q3rkH0tmw4z2"
      }
    },
    {
      "cell_type": "code",
      "source": [
        "states=df['State'].unique()\n",
        "print(states)"
      ],
      "metadata": {
        "colab": {
          "base_uri": "https://localhost:8080/"
        },
        "id": "rCDeprmBweMf",
        "outputId": "8e649e26-b81a-43b4-81e3-562bfe23a117"
      },
      "execution_count": 9,
      "outputs": [
        {
          "output_type": "stream",
          "name": "stdout",
          "text": [
            "['Uttar Pradesh' 'Bihar' 'Sikkim' 'Arunachal Pradesh' 'Nagaland'\n",
            " 'Meghalaya' 'Assam' 'West Bengal' 'Jharkhand' 'Odisha' 'Chhattisgarh'\n",
            " 'Maharashtra' 'Madhya Pradesh' 'Andhra Pradesh' 'Telangana']\n"
          ]
        }
      ]
    },
    {
      "cell_type": "code",
      "source": [
        "df2 = df.groupby('State').apply(lambda x: x['Coal reserved quantity'].unique().sum())\n",
        "print(df2)"
      ],
      "metadata": {
        "colab": {
          "base_uri": "https://localhost:8080/"
        },
        "id": "PYbggObc1N5Q",
        "outputId": "20447a5a-79dc-4e5d-b113-63c8e4e91be0"
      },
      "execution_count": 11,
      "outputs": [
        {
          "output_type": "stream",
          "name": "stdout",
          "text": [
            "State\n",
            "Andhra Pradesh        42751.136675\n",
            "Arunachal Pradesh        90.230000\n",
            "Assam                   553.432000\n",
            "Bihar                  7144.670000\n",
            "Chhattisgarh         374470.040000\n",
            "Jharkhand            272946.270000\n",
            "Madhya Pradesh       194805.750000\n",
            "Maharashtra           58994.240000\n",
            "Meghalaya               596.880000\n",
            "Nagaland                546.850000\n",
            "Odisha               623544.150000\n",
            "Sikkim                  101.230000\n",
            "Telangana            152498.443325\n",
            "Uttar Pradesh          2123.600000\n",
            "West Bengal          234593.350000\n",
            "dtype: float64\n"
          ]
        }
      ]
    },
    {
      "cell_type": "code",
      "source": [
        "df1=df2.sort_values()\n",
        "print(df1)"
      ],
      "metadata": {
        "colab": {
          "base_uri": "https://localhost:8080/"
        },
        "id": "qu_rGk_u8z7w",
        "outputId": "d6366d6b-a6ea-4da7-f19f-bb4e07547dbf"
      },
      "execution_count": 12,
      "outputs": [
        {
          "output_type": "stream",
          "name": "stdout",
          "text": [
            "State\n",
            "Arunachal Pradesh        90.230000\n",
            "Sikkim                  101.230000\n",
            "Nagaland                546.850000\n",
            "Assam                   553.432000\n",
            "Meghalaya               596.880000\n",
            "Uttar Pradesh          2123.600000\n",
            "Bihar                  7144.670000\n",
            "Andhra Pradesh        42751.136675\n",
            "Maharashtra           58994.240000\n",
            "Telangana            152498.443325\n",
            "Madhya Pradesh       194805.750000\n",
            "West Bengal          234593.350000\n",
            "Jharkhand            272946.270000\n",
            "Chhattisgarh         374470.040000\n",
            "Odisha               623544.150000\n",
            "dtype: float64\n"
          ]
        }
      ]
    },
    {
      "cell_type": "code",
      "source": [
        "df1.plot(kind='bar', y='Coal reserved quantity',figsize=(15,8),ylabel='Coal reserved quantity(in million tonnes)',color='red')"
      ],
      "metadata": {
        "colab": {
          "base_uri": "https://localhost:8080/",
          "height": 0
        },
        "id": "ArVby2UUCRh0",
        "outputId": "17858d5d-f5c2-429c-9313-242ae4c501b7"
      },
      "execution_count": 13,
      "outputs": [
        {
          "output_type": "execute_result",
          "data": {
            "text/plain": [
              "<matplotlib.axes._subplots.AxesSubplot at 0x7f2f47f5bdd0>"
            ]
          },
          "metadata": {},
          "execution_count": 13
        },
        {
          "output_type": "display_data",
          "data": {
            "text/plain": [
              "<Figure size 1080x576 with 1 Axes>"
            ],
            "image/png": "[encoded data removed]"
          },
          "metadata": {
            "needs_background": "light"
          }
        }
      ]
    },
    {
      "cell_type": "markdown",
      "source": [
        "# Year Wise reserves"
      ],
      "metadata": {
        "id": "aFGwcTnQzyn1"
      }
    },
    {
      "cell_type": "code",
      "source": [
        "dfy = df.groupby('Year').apply(lambda x: x['Coal reserved quantity'].unique().sum())\n",
        "print(dfy)"
      ],
      "metadata": {
        "colab": {
          "base_uri": "https://localhost:8080/"
        },
        "id": "2o69o7BMz1k9",
        "outputId": "47c4b8fc-a4e2-453a-9a5d-bbd9e10a2b0a"
      },
      "execution_count": 14,
      "outputs": [
        {
          "output_type": "stream",
          "name": "stdout",
          "text": [
            "Year\n",
            "2011    285825.380\n",
            "2012    293348.740\n",
            "2013    298877.230\n",
            "2014    301527.102\n",
            "2015    306555.980\n",
            "2016    308749.540\n",
            "2017    315111.980\n",
            "2018    318980.480\n",
            "2019    326458.800\n",
            "2020    343984.010\n",
            "dtype: float64\n"
          ]
        }
      ]
    },
    {
      "cell_type": "code",
      "source": [
        "plt.plot(dfy,'red')\n",
        "plt.xlabel(\"Year\")\n",
        "plt.ylabel(\"Coal reserved quantity (in million tonnes)\")"
      ],
      "metadata": {
        "colab": {
          "base_uri": "https://localhost:8080/",
          "height": 0
        },
        "id": "L01QwvOM0ayl",
        "outputId": "0e3264f8-104a-4338-cdf6-229c802970de"
      },
      "execution_count": 15,
      "outputs": [
        {
          "output_type": "execute_result",
          "data": {
            "text/plain": [
              "Text(0, 0.5, 'Coal reserved quantity (in million tonnes)')"
            ]
          },
          "metadata": {},
          "execution_count": 15
        },
        {
          "output_type": "display_data",
          "data": {
            "text/plain": [
              "<Figure size 432x288 with 1 Axes>"
            ],
            "image/png": "[encoded data removed]"
          },
          "metadata": {
            "needs_background": "light"
          }
        }
      ]
    },
    {
      "cell_type": "markdown",
      "source": [
        "# Typewise reserves"
      ],
      "metadata": {
        "id": "mk02xtFm6sR9"
      }
    },
    {
      "cell_type": "code",
      "source": [
        "dft = df.groupby('Type of coal').apply(lambda x: x['Coal reserved quantity'].unique().sum())\n",
        "print(dft)"
      ],
      "metadata": {
        "colab": {
          "base_uri": "https://localhost:8080/"
        },
        "id": "RwtPZSXG6yQ0",
        "outputId": "ef24e464-c405-4216-e9e9-08e00a712e86"
      },
      "execution_count": 21,
      "outputs": [
        {
          "output_type": "stream",
          "name": "stdout",
          "text": [
            "Type of coal\n",
            "HIGH SULPHUR        1753.272\n",
            "MEDIUM COKING      69837.560\n",
            "NON-COKING       1876041.760\n",
            "PRIME COKING       15931.160\n",
            "SEMI-COKING         2383.060\n",
            "dtype: float64\n"
          ]
        }
      ]
    },
    {
      "cell_type": "code",
      "source": [
        "df.groupby(['Type of coal']).sum().plot(kind='pie', y='Coal reserved quantity',autopct='%1.0f%%',figsize=(10,10),xlabel=\"Type of coal \",startangle=15)"
      ],
      "metadata": {
        "colab": {
          "base_uri": "https://localhost:8080/",
          "height": 592
        },
        "id": "Sf4nIyEN7IuG",
        "outputId": "33f99fa2-20e6-4bd6-cc2d-a3baa44d4a53"
      },
      "execution_count": 31,
      "outputs": [
        {
          "output_type": "execute_result",
          "data": {
            "text/plain": [
              "<matplotlib.axes._subplots.AxesSubplot at 0x7f2f478b6350>"
            ]
          },
          "metadata": {},
          "execution_count": 31
        },
        {
          "output_type": "display_data",
          "data": {
            "text/plain": [
              "<Figure size 720x720 with 1 Axes>"
            ],
            "image/png": "[encoded data removed]"
          },
          "metadata": {}
        }
      ]
    },
    {
      "cell_type": "code",
      "source": [
        "df.groupby(['Depth of the reserve']).sum().plot(kind='pie', y='Coal reserved quantity',autopct='%1.0f%%',figsize=(10,10),xlabel=\"Depth of reserve (in meters) \")"
      ],
      "metadata": {
        "colab": {
          "base_uri": "https://localhost:8080/",
          "height": 592
        },
        "id": "9ynjvOnHUuD4",
        "outputId": "6654fee5-60d9-42b1-8004-c0989ae250e0"
      },
      "execution_count": 23,
      "outputs": [
        {
          "output_type": "execute_result",
          "data": {
            "text/plain": [
              "<matplotlib.axes._subplots.AxesSubplot at 0x7f2f477049d0>"
            ]
          },
          "metadata": {},
          "execution_count": 23
        },
        {
          "output_type": "display_data",
          "data": {
            "text/plain": [
              "<Figure size 720x720 with 1 Axes>"
            ],
            "image/png": "[encoded data removed]"
          },
          "metadata": {}
        }
      ]
    },
    {
      "cell_type": "code",
      "source": [
        "df.groupby(['Type of reserve']).sum().plot(kind='pie', y='Coal reserved quantity',autopct='%1.0f%%',figsize=(10,10),ylabel=\"Type of reserves \",startangle=180)"
      ],
      "metadata": {
        "colab": {
          "base_uri": "https://localhost:8080/",
          "height": 592
        },
        "id": "lCBphnj4U7W3",
        "outputId": "01fa8e1e-6e55-4792-9c26-b6cc05cd654a"
      },
      "execution_count": 35,
      "outputs": [
        {
          "output_type": "execute_result",
          "data": {
            "text/plain": [
              "<matplotlib.axes._subplots.AxesSubplot at 0x7f2f46736910>"
            ]
          },
          "metadata": {},
          "execution_count": 35
        },
        {
          "output_type": "display_data",
          "data": {
            "text/plain": [
              "<Figure size 720x720 with 1 Axes>"
            ],
            "image/png": "[encoded data removed]"
          },
          "metadata": {}
        }
      ]
    }
  ]
}