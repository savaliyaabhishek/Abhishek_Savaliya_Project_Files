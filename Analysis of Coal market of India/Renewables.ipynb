{
  "nbformat": 4,
  "nbformat_minor": 0,
  "metadata": {
    "colab": {
      "provenance": [],
      "collapsed_sections": [
        "zmNXGKqftUq-",
        "t62IBXbdsuxA",
        "4nEH74oBsoBB",
        "aFGwcTnQzyn1",
        "mk02xtFm6sR9"
      ]
    },
    "kernelspec": {
      "name": "python3",
      "display_name": "Python 3"
    },
    "language_info": {
      "name": "python"
    }
  },
  "cells": [
    {
      "cell_type": "markdown",
      "source": [
        "# Reading the data"
      ],
      "metadata": {
        "id": "vIQSXXhXwy0t"
      }
    },
    {
      "cell_type": "code",
      "execution_count": 2,
      "metadata": {
        "colab": {
          "base_uri": "https://localhost:8080/",
          "height": 74
        },
        "id": "jWvqh66Lrm-K",
        "outputId": "028f2acd-45bf-4e1f-916c-0b43e3f77401"
      },
      "outputs": [
        {
          "output_type": "display_data",
          "data": {
            "text/plain": [
              "<IPython.core.display.HTML object>"
            ],
            "text/html": [
              "\n",
              "     <input type=\"file\" id=\"files-dcb6d7bf-c396-40eb-a8a4-80a3505f8d3c\" name=\"files[]\" multiple disabled\n",
              "        style=\"border:none\" />\n",
              "     <output id=\"result-dcb6d7bf-c396-40eb-a8a4-80a3505f8d3c\">\n",
              "      Upload widget is only available when the cell has been executed in the\n",
              "      current browser session. Please rerun this cell to enable.\n",
              "      </output>\n",
              "      <script>// Copyright 2017 Google LLC\n",
              "//\n",
              "// Licensed under the Apache License, Version 2.0 (the \"License\");\n",
              "// you may not use this file except in compliance with the License.\n",
              "// You may obtain a copy of the License at\n",
              "//\n",
              "//      http://www.apache.org/licenses/LICENSE-2.0\n",
              "//\n",
              "// Unless required by applicable law or agreed to in writing, software\n",
              "// distributed under the License is distributed on an \"AS IS\" BASIS,\n",
              "// WITHOUT WARRANTIES OR CONDITIONS OF ANY KIND, either express or implied.\n",
              "// See the License for the specific language governing permissions and\n",
              "// limitations under the License.\n",
              "\n",
              "/**\n",
              " * @fileoverview Helpers for google.colab Python module.\n",
              " */\n",
              "(function(scope) {\n",
              "function span(text, styleAttributes = {}) {\n",
              "  const element = document.createElement('span');\n",
              "  element.textContent = text;\n",
              "  for (const key of Object.keys(styleAttributes)) {\n",
              "    element.style[key] = styleAttributes[key];\n",
              "  }\n",
              "  return element;\n",
              "}\n",
              "\n",
              "// Max number of bytes which will be uploaded at a time.\n",
              "const MAX_PAYLOAD_SIZE = 100 * 1024;\n",
              "\n",
              "function _uploadFiles(inputId, outputId) {\n",
              "  const steps = uploadFilesStep(inputId, outputId);\n",
              "  const outputElement = document.getElementById(outputId);\n",
              "  // Cache steps on the outputElement to make it available for the next call\n",
              "  // to uploadFilesContinue from Python.\n",
              "  outputElement.steps = steps;\n",
              "\n",
              "  return _uploadFilesContinue(outputId);\n",
              "}\n",
              "\n",
              "// This is roughly an async generator (not supported in the browser yet),\n",
              "// where there are multiple asynchronous steps and the Python side is going\n",
              "// to poll for completion of each step.\n",
              "// This uses a Promise to block the python side on completion of each step,\n",
              "// then passes the result of the previous step as the input to the next step.\n",
              "function _uploadFilesContinue(outputId) {\n",
              "  const outputElement = document.getElementById(outputId);\n",
              "  const steps = outputElement.steps;\n",
              "\n",
              "  const next = steps.next(outputElement.lastPromiseValue);\n",
              "  return Promise.resolve(next.value.promise).then((value) => {\n",
              "    // Cache the last promise value to make it available to the next\n",
              "    // step of the generator.\n",
              "    outputElement.lastPromiseValue = value;\n",
              "    return next.value.response;\n",
              "  });\n",
              "}\n",
              "\n",
              "/**\n",
              " * Generator function which is called between each async step of the upload\n",
              " * process.\n",
              " * @param {string} inputId Element ID of the input file picker element.\n",
              " * @param {string} outputId Element ID of the output display.\n",
              " * @return {!Iterable<!Object>} Iterable of next steps.\n",
              " */\n",
              "function* uploadFilesStep(inputId, outputId) {\n",
              "  const inputElement = document.getElementById(inputId);\n",
              "  inputElement.disabled = false;\n",
              "\n",
              "  const outputElement = document.getElementById(outputId);\n",
              "  outputElement.innerHTML = '';\n",
              "\n",
              "  const pickedPromise = new Promise((resolve) => {\n",
              "    inputElement.addEventListener('change', (e) => {\n",
              "      resolve(e.target.files);\n",
              "    });\n",
              "  });\n",
              "\n",
              "  const cancel = document.createElement('button');\n",
              "  inputElement.parentElement.appendChild(cancel);\n",
              "  cancel.textContent = 'Cancel upload';\n",
              "  const cancelPromise = new Promise((resolve) => {\n",
              "    cancel.onclick = () => {\n",
              "      resolve(null);\n",
              "    };\n",
              "  });\n",
              "\n",
              "  // Wait for the user to pick the files.\n",
              "  const files = yield {\n",
              "    promise: Promise.race([pickedPromise, cancelPromise]),\n",
              "    response: {\n",
              "      action: 'starting',\n",
              "    }\n",
              "  };\n",
              "\n",
              "  cancel.remove();\n",
              "\n",
              "  // Disable the input element since further picks are not allowed.\n",
              "  inputElement.disabled = true;\n",
              "\n",
              "  if (!files) {\n",
              "    return {\n",
              "      response: {\n",
              "        action: 'complete',\n",
              "      }\n",
              "    };\n",
              "  }\n",
              "\n",
              "  for (const file of files) {\n",
              "    const li = document.createElement('li');\n",
              "    li.append(span(file.name, {fontWeight: 'bold'}));\n",
              "    li.append(span(\n",
              "        `(${file.type || 'n/a'}) - ${file.size} bytes, ` +\n",
              "        `last modified: ${\n",
              "            file.lastModifiedDate ? file.lastModifiedDate.toLocaleDateString() :\n",
              "                                    'n/a'} - `));\n",
              "    const percent = span('0% done');\n",
              "    li.appendChild(percent);\n",
              "\n",
              "    outputElement.appendChild(li);\n",
              "\n",
              "    const fileDataPromise = new Promise((resolve) => {\n",
              "      const reader = new FileReader();\n",
              "      reader.onload = (e) => {\n",
              "        resolve(e.target.result);\n",
              "      };\n",
              "      reader.readAsArrayBuffer(file);\n",
              "    });\n",
              "    // Wait for the data to be ready.\n",
              "    let fileData = yield {\n",
              "      promise: fileDataPromise,\n",
              "      response: {\n",
              "        action: 'continue',\n",
              "      }\n",
              "    };\n",
              "\n",
              "    // Use a chunked sending to avoid message size limits. See b/62115660.\n",
              "    let position = 0;\n",
              "    do {\n",
              "      const length = Math.min(fileData.byteLength - position, MAX_PAYLOAD_SIZE);\n",
              "      const chunk = new Uint8Array(fileData, position, length);\n",
              "      position += length;\n",
              "\n",
              "      const base64 = btoa(String.fromCharCode.apply(null, chunk));\n",
              "      yield {\n",
              "        response: {\n",
              "          action: 'append',\n",
              "          file: file.name,\n",
              "          data: base64,\n",
              "        },\n",
              "      };\n",
              "\n",
              "      let percentDone = fileData.byteLength === 0 ?\n",
              "          100 :\n",
              "          Math.round((position / fileData.byteLength) * 100);\n",
              "      percent.textContent = `${percentDone}% done`;\n",
              "\n",
              "    } while (position < fileData.byteLength);\n",
              "  }\n",
              "\n",
              "  // All done.\n",
              "  yield {\n",
              "    response: {\n",
              "      action: 'complete',\n",
              "    }\n",
              "  };\n",
              "}\n",
              "\n",
              "scope.google = scope.google || {};\n",
              "scope.google.colab = scope.google.colab || {};\n",
              "scope.google.colab._files = {\n",
              "  _uploadFiles,\n",
              "  _uploadFilesContinue,\n",
              "};\n",
              "})(self);\n",
              "</script> "
            ]
          },
          "metadata": {}
        },
        {
          "output_type": "stream",
          "name": "stdout",
          "text": [
            "Saving Potential, Generation, Capacity - Renewable.csv to Potential, Generation, Capacity - Renewable.csv\n"
          ]
        }
      ],
      "source": [
        "# UPLOADING DATA FILE\n",
        "\n",
        "from google.colab import files\n",
        "\n",
        "upload = files.upload()"
      ]
    },
    {
      "cell_type": "code",
      "source": [
        "import pandas as pd\n",
        "import seaborn as sb\n",
        "import matplotlib.pyplot as plt\n",
        "import numpy as np"
      ],
      "metadata": {
        "id": "DhBhBAg7t62a"
      },
      "execution_count": 3,
      "outputs": []
    },
    {
      "cell_type": "code",
      "source": [
        "df = pd.read_csv('Potential, Generation, Capacity - Renewable.csv')\n",
        "display(df)"
      ],
      "metadata": {
        "colab": {
          "base_uri": "https://localhost:8080/",
          "height": 763
        },
        "id": "HFWQVUL-uEom",
        "outputId": "a80875e9-7b23-418b-98d1-e6d939e76c0b"
      },
      "execution_count": 4,
      "outputs": [
        {
          "output_type": "display_data",
          "data": {
            "text/plain": [
              "      Rowid Country  State lgd code  \\\n",
              "0         1   India               1   \n",
              "1         2   India               1   \n",
              "2         3   India               1   \n",
              "3         4   India               1   \n",
              "4         5   India               1   \n",
              "...     ...     ...             ...   \n",
              "6325   6326   India              38   \n",
              "6326   6327   India              38   \n",
              "6327   6328   India              38   \n",
              "6328   6329   India              38   \n",
              "6329   6330   India              38   \n",
              "\n",
              "                                             State  Year  \\\n",
              "0                                Jammu And Kashmir  2011   \n",
              "1                                Jammu And Kashmir  2011   \n",
              "2                                Jammu And Kashmir  2011   \n",
              "3                                Jammu And Kashmir  2011   \n",
              "4                                Jammu And Kashmir  2011   \n",
              "...                                            ...   ...   \n",
              "6325  The Dadra And Nagar Haveli And Daman And Diu  2020   \n",
              "6326  The Dadra And Nagar Haveli And Daman And Diu  2020   \n",
              "6327  The Dadra And Nagar Haveli And Daman And Diu  2020   \n",
              "6328  The Dadra And Nagar Haveli And Daman And Diu  2020   \n",
              "6329  The Dadra And Nagar Haveli And Daman And Diu  2020   \n",
              "\n",
              "     Region-wise installation of electricity  \\\n",
              "0                                         NR   \n",
              "1                                        NaN   \n",
              "2                                        NaN   \n",
              "3                                        NaN   \n",
              "4                                        NaN   \n",
              "...                                      ...   \n",
              "6325                                     NaN   \n",
              "6326                                     NaN   \n",
              "6327                                     NaN   \n",
              "6328                                     NaN   \n",
              "6329                                     NaN   \n",
              "\n",
              "     Energy value type ( potential, capacity, generation )  \\\n",
              "0                                              Capacity      \n",
              "1                                            Generation      \n",
              "2                                            Generation      \n",
              "3                                            Generation      \n",
              "4                                            Generation      \n",
              "...                                                 ...      \n",
              "6325                                         Generation      \n",
              "6326                                         Generation      \n",
              "6327                                         Generation      \n",
              "6328                                         Generation      \n",
              "6329                                         Generation      \n",
              "\n",
              "     Types of energy sources Nature of energy sources  \\\n",
              "0                SMALL HYDRO                      NaN   \n",
              "1            BIOMASS-BAGASSE                RENEWABLE   \n",
              "2                       COAL            NON-RENEWABLE   \n",
              "3                     DIESEL            NON-RENEWABLE   \n",
              "4                      HYDRO            NON-RENEWABLE   \n",
              "...                      ...                      ...   \n",
              "6325             SMALL HYDRO                RENEWABLE   \n",
              "6326                   SOLAR                RENEWABLE   \n",
              "6327                   SOLAR                RENEWABLE   \n",
              "6328                    WIND                RENEWABLE   \n",
              "6329                    WIND                RENEWABLE   \n",
              "\n",
              "     Types of usage (utility ,captive) Type of energy sector  \\\n",
              "0                                  NaN                   NaN   \n",
              "1                              UTILITY            UTILITY-RE   \n",
              "2                              CAPTIVE               CAPTIVE   \n",
              "3                              CAPTIVE               CAPTIVE   \n",
              "4                              CAPTIVE               CAPTIVE   \n",
              "...                                ...                   ...   \n",
              "6325                           UTILITY            UTILITY-RE   \n",
              "6326                           CAPTIVE               CAPTIVE   \n",
              "6327                           UTILITY            UTILITY-RE   \n",
              "6328                           CAPTIVE               CAPTIVE   \n",
              "6329                           UTILITY            UTILITY-RE   \n",
              "\n",
              "      Values for renewable electricity  \n",
              "0                           126.501442  \n",
              "1                             0.000000  \n",
              "2                             0.000000  \n",
              "3                             3.482140  \n",
              "4                             0.000000  \n",
              "...                                ...  \n",
              "6325                          0.000000  \n",
              "6326                          0.000000  \n",
              "6327                         28.017000  \n",
              "6328                          0.000000  \n",
              "6329                          0.000000  \n",
              "\n",
              "[6330 rows x 12 columns]"
            ],
            "text/html": [
              "\n",
              "  <div id=\"df-eb05828d-af43-49d9-815f-95b928179adc\">\n",
              "    <div class=\"colab-df-container\">\n",
              "      <div>\n",
              "<style scoped>\n",
              "    .dataframe tbody tr th:only-of-type {\n",
              "        vertical-align: middle;\n",
              "    }\n",
              "\n",
              "    .dataframe tbody tr th {\n",
              "        vertical-align: top;\n",
              "    }\n",
              "\n",
              "    .dataframe thead th {\n",
              "        text-align: right;\n",
              "    }\n",
              "</style>\n",
              "<table border=\"1\" class=\"dataframe\">\n",
              "  <thead>\n",
              "    <tr style=\"text-align: right;\">\n",
              "      <th></th>\n",
              "      <th>Rowid</th>\n",
              "      <th>Country</th>\n",
              "      <th>State lgd code</th>\n",
              "      <th>State</th>\n",
              "      <th>Year</th>\n",
              "      <th>Region-wise installation of electricity</th>\n",
              "      <th>Energy value type ( potential, capacity, generation )</th>\n",
              "      <th>Types of energy sources</th>\n",
              "      <th>Nature of energy sources</th>\n",
              "      <th>Types of usage (utility ,captive)</th>\n",
              "      <th>Type of energy sector</th>\n",
              "      <th>Values for renewable electricity</th>\n",
              "    </tr>\n",
              "  </thead>\n",
              "  <tbody>\n",
              "    <tr>\n",
              "      <th>0</th>\n",
              "      <td>1</td>\n",
              "      <td>India</td>\n",
              "      <td>1</td>\n",
              "      <td>Jammu And Kashmir</td>\n",
              "      <td>2011</td>\n",
              "      <td>NR</td>\n",
              "      <td>Capacity</td>\n",
              "      <td>SMALL HYDRO</td>\n",
              "      <td>NaN</td>\n",
              "      <td>NaN</td>\n",
              "      <td>NaN</td>\n",
              "      <td>126.501442</td>\n",
              "    </tr>\n",
              "    <tr>\n",
              "      <th>1</th>\n",
              "      <td>2</td>\n",
              "      <td>India</td>\n",
              "      <td>1</td>\n",
              "      <td>Jammu And Kashmir</td>\n",
              "      <td>2011</td>\n",
              "      <td>NaN</td>\n",
              "      <td>Generation</td>\n",
              "      <td>BIOMASS-BAGASSE</td>\n",
              "      <td>RENEWABLE</td>\n",
              "      <td>UTILITY</td>\n",
              "      <td>UTILITY-RE</td>\n",
              "      <td>0.000000</td>\n",
              "    </tr>\n",
              "    <tr>\n",
              "      <th>2</th>\n",
              "      <td>3</td>\n",
              "      <td>India</td>\n",
              "      <td>1</td>\n",
              "      <td>Jammu And Kashmir</td>\n",
              "      <td>2011</td>\n",
              "      <td>NaN</td>\n",
              "      <td>Generation</td>\n",
              "      <td>COAL</td>\n",
              "      <td>NON-RENEWABLE</td>\n",
              "      <td>CAPTIVE</td>\n",
              "      <td>CAPTIVE</td>\n",
              "      <td>0.000000</td>\n",
              "    </tr>\n",
              "    <tr>\n",
              "      <th>3</th>\n",
              "      <td>4</td>\n",
              "      <td>India</td>\n",
              "      <td>1</td>\n",
              "      <td>Jammu And Kashmir</td>\n",
              "      <td>2011</td>\n",
              "      <td>NaN</td>\n",
              "      <td>Generation</td>\n",
              "      <td>DIESEL</td>\n",
              "      <td>NON-RENEWABLE</td>\n",
              "      <td>CAPTIVE</td>\n",
              "      <td>CAPTIVE</td>\n",
              "      <td>3.482140</td>\n",
              "    </tr>\n",
              "    <tr>\n",
              "      <th>4</th>\n",
              "      <td>5</td>\n",
              "      <td>India</td>\n",
              "      <td>1</td>\n",
              "      <td>Jammu And Kashmir</td>\n",
              "      <td>2011</td>\n",
              "      <td>NaN</td>\n",
              "      <td>Generation</td>\n",
              "      <td>HYDRO</td>\n",
              "      <td>NON-RENEWABLE</td>\n",
              "      <td>CAPTIVE</td>\n",
              "      <td>CAPTIVE</td>\n",
              "      <td>0.000000</td>\n",
              "    </tr>\n",
              "    <tr>\n",
              "      <th>...</th>\n",
              "      <td>...</td>\n",
              "      <td>...</td>\n",
              "      <td>...</td>\n",
              "      <td>...</td>\n",
              "      <td>...</td>\n",
              "      <td>...</td>\n",
              "      <td>...</td>\n",
              "      <td>...</td>\n",
              "      <td>...</td>\n",
              "      <td>...</td>\n",
              "      <td>...</td>\n",
              "      <td>...</td>\n",
              "    </tr>\n",
              "    <tr>\n",
              "      <th>6325</th>\n",
              "      <td>6326</td>\n",
              "      <td>India</td>\n",
              "      <td>38</td>\n",
              "      <td>The Dadra And Nagar Haveli And Daman And Diu</td>\n",
              "      <td>2020</td>\n",
              "      <td>NaN</td>\n",
              "      <td>Generation</td>\n",
              "      <td>SMALL HYDRO</td>\n",
              "      <td>RENEWABLE</td>\n",
              "      <td>UTILITY</td>\n",
              "      <td>UTILITY-RE</td>\n",
              "      <td>0.000000</td>\n",
              "    </tr>\n",
              "    <tr>\n",
              "      <th>6326</th>\n",
              "      <td>6327</td>\n",
              "      <td>India</td>\n",
              "      <td>38</td>\n",
              "      <td>The Dadra And Nagar Haveli And Daman And Diu</td>\n",
              "      <td>2020</td>\n",
              "      <td>NaN</td>\n",
              "      <td>Generation</td>\n",
              "      <td>SOLAR</td>\n",
              "      <td>RENEWABLE</td>\n",
              "      <td>CAPTIVE</td>\n",
              "      <td>CAPTIVE</td>\n",
              "      <td>0.000000</td>\n",
              "    </tr>\n",
              "    <tr>\n",
              "      <th>6327</th>\n",
              "      <td>6328</td>\n",
              "      <td>India</td>\n",
              "      <td>38</td>\n",
              "      <td>The Dadra And Nagar Haveli And Daman And Diu</td>\n",
              "      <td>2020</td>\n",
              "      <td>NaN</td>\n",
              "      <td>Generation</td>\n",
              "      <td>SOLAR</td>\n",
              "      <td>RENEWABLE</td>\n",
              "      <td>UTILITY</td>\n",
              "      <td>UTILITY-RE</td>\n",
              "      <td>28.017000</td>\n",
              "    </tr>\n",
              "    <tr>\n",
              "      <th>6328</th>\n",
              "      <td>6329</td>\n",
              "      <td>India</td>\n",
              "      <td>38</td>\n",
              "      <td>The Dadra And Nagar Haveli And Daman And Diu</td>\n",
              "      <td>2020</td>\n",
              "      <td>NaN</td>\n",
              "      <td>Generation</td>\n",
              "      <td>WIND</td>\n",
              "      <td>RENEWABLE</td>\n",
              "      <td>CAPTIVE</td>\n",
              "      <td>CAPTIVE</td>\n",
              "      <td>0.000000</td>\n",
              "    </tr>\n",
              "    <tr>\n",
              "      <th>6329</th>\n",
              "      <td>6330</td>\n",
              "      <td>India</td>\n",
              "      <td>38</td>\n",
              "      <td>The Dadra And Nagar Haveli And Daman And Diu</td>\n",
              "      <td>2020</td>\n",
              "      <td>NaN</td>\n",
              "      <td>Generation</td>\n",
              "      <td>WIND</td>\n",
              "      <td>RENEWABLE</td>\n",
              "      <td>UTILITY</td>\n",
              "      <td>UTILITY-RE</td>\n",
              "      <td>0.000000</td>\n",
              "    </tr>\n",
              "  </tbody>\n",
              "</table>\n",
              "<p>6330 rows × 12 columns</p>\n",
              "</div>\n",
              "      <button class=\"colab-df-convert\" onclick=\"convertToInteractive('df-eb05828d-af43-49d9-815f-95b928179adc')\"\n",
              "              title=\"Convert this dataframe to an interactive table.\"\n",
              "              style=\"display:none;\">\n",
              "        \n",
              "  <svg xmlns=\"http://www.w3.org/2000/svg\" height=\"24px\"viewBox=\"0 0 24 24\"\n",
              "       width=\"24px\">\n",
              "    <path d=\"M0 0h24v24H0V0z\" fill=\"none\"/>\n",
              "    <path d=\"M18.56 5.44l.94 2.06.94-2.06 2.06-.94-2.06-.94-.94-2.06-.94 2.06-2.06.94zm-11 1L8.5 8.5l.94-2.06 2.06-.94-2.06-.94L8.5 2.5l-.94 2.06-2.06.94zm10 10l.94 2.06.94-2.06 2.06-.94-2.06-.94-.94-2.06-.94 2.06-2.06.94z\"/><path d=\"M17.41 7.96l-1.37-1.37c-.4-.4-.92-.59-1.43-.59-.52 0-1.04.2-1.43.59L10.3 9.45l-7.72 7.72c-.78.78-.78 2.05 0 2.83L4 21.41c.39.39.9.59 1.41.59.51 0 1.02-.2 1.41-.59l7.78-7.78 2.81-2.81c.8-.78.8-2.07 0-2.86zM5.41 20L4 18.59l7.72-7.72 1.47 1.35L5.41 20z\"/>\n",
              "  </svg>\n",
              "      </button>\n",
              "      \n",
              "  <style>\n",
              "    .colab-df-container {\n",
              "      display:flex;\n",
              "      flex-wrap:wrap;\n",
              "      gap: 12px;\n",
              "    }\n",
              "\n",
              "    .colab-df-convert {\n",
              "      background-color: #E8F0FE;\n",
              "      border: none;\n",
              "      border-radius: 50%;\n",
              "      cursor: pointer;\n",
              "      display: none;\n",
              "      fill: #1967D2;\n",
              "      height: 32px;\n",
              "      padding: 0 0 0 0;\n",
              "      width: 32px;\n",
              "    }\n",
              "\n",
              "    .colab-df-convert:hover {\n",
              "      background-color: #E2EBFA;\n",
              "      box-shadow: 0px 1px 2px rgba(60, 64, 67, 0.3), 0px 1px 3px 1px rgba(60, 64, 67, 0.15);\n",
              "      fill: #174EA6;\n",
              "    }\n",
              "\n",
              "    [theme=dark] .colab-df-convert {\n",
              "      background-color: #3B4455;\n",
              "      fill: #D2E3FC;\n",
              "    }\n",
              "\n",
              "    [theme=dark] .colab-df-convert:hover {\n",
              "      background-color: #434B5C;\n",
              "      box-shadow: 0px 1px 3px 1px rgba(0, 0, 0, 0.15);\n",
              "      filter: drop-shadow(0px 1px 2px rgba(0, 0, 0, 0.3));\n",
              "      fill: #FFFFFF;\n",
              "    }\n",
              "  </style>\n",
              "\n",
              "      <script>\n",
              "        const buttonEl =\n",
              "          document.querySelector('#df-eb05828d-af43-49d9-815f-95b928179adc button.colab-df-convert');\n",
              "        buttonEl.style.display =\n",
              "          google.colab.kernel.accessAllowed ? 'block' : 'none';\n",
              "\n",
              "        async function convertToInteractive(key) {\n",
              "          const element = document.querySelector('#df-eb05828d-af43-49d9-815f-95b928179adc');\n",
              "          const dataTable =\n",
              "            await google.colab.kernel.invokeFunction('convertToInteractive',\n",
              "                                                     [key], {});\n",
              "          if (!dataTable) return;\n",
              "\n",
              "          const docLinkHtml = 'Like what you see? Visit the ' +\n",
              "            '<a target=\"_blank\" href=https://colab.research.google.com/notebooks/data_table.ipynb>data table notebook</a>'\n",
              "            + ' to learn more about interactive tables.';\n",
              "          element.innerHTML = '';\n",
              "          dataTable['output_type'] = 'display_data';\n",
              "          await google.colab.output.renderOutput(dataTable, element);\n",
              "          const docLink = document.createElement('div');\n",
              "          docLink.innerHTML = docLinkHtml;\n",
              "          element.appendChild(docLink);\n",
              "        }\n",
              "      </script>\n",
              "    </div>\n",
              "  </div>\n",
              "  "
            ]
          },
          "metadata": {}
        }
      ]
    },
    {
      "cell_type": "markdown",
      "source": [
        "# Some basic insights into data"
      ],
      "metadata": {
        "id": "CLxhrzbkwuMt"
      }
    },
    {
      "cell_type": "code",
      "source": [
        "df.describe()"
      ],
      "metadata": {
        "colab": {
          "base_uri": "https://localhost:8080/",
          "height": 300
        },
        "id": "zgAPlbWPuXIn",
        "outputId": "18b74d72-73b2-4f6b-c835-d3c8c77a95eb"
      },
      "execution_count": 5,
      "outputs": [
        {
          "output_type": "execute_result",
          "data": {
            "text/plain": [
              "             Rowid  State lgd code         Year  \\\n",
              "count  6330.000000     6330.000000  6330.000000   \n",
              "mean   3165.500000       18.863033  2015.934123   \n",
              "std    1827.457934       10.693523     2.799779   \n",
              "min       1.000000        1.000000  2011.000000   \n",
              "25%    1583.250000        9.000000  2014.000000   \n",
              "50%    3165.500000       19.000000  2016.000000   \n",
              "75%    4747.750000       28.000000  2018.000000   \n",
              "max    6330.000000       38.000000  2020.000000   \n",
              "\n",
              "       Values for renewable electricity  \n",
              "count                       6330.000000  \n",
              "mean                        2870.319082  \n",
              "std                         9598.545617  \n",
              "min                            0.000000  \n",
              "25%                            0.000000  \n",
              "50%                           46.991000  \n",
              "75%                         1104.060000  \n",
              "max                       142560.000000  "
            ],
            "text/html": [
              "\n",
              "  <div id=\"df-5c91af6f-b471-4d14-8df1-f7d64dfbc15d\">\n",
              "    <div class=\"colab-df-container\">\n",
              "      <div>\n",
              "<style scoped>\n",
              "    .dataframe tbody tr th:only-of-type {\n",
              "        vertical-align: middle;\n",
              "    }\n",
              "\n",
              "    .dataframe tbody tr th {\n",
              "        vertical-align: top;\n",
              "    }\n",
              "\n",
              "    .dataframe thead th {\n",
              "        text-align: right;\n",
              "    }\n",
              "</style>\n",
              "<table border=\"1\" class=\"dataframe\">\n",
              "  <thead>\n",
              "    <tr style=\"text-align: right;\">\n",
              "      <th></th>\n",
              "      <th>Rowid</th>\n",
              "      <th>State lgd code</th>\n",
              "      <th>Year</th>\n",
              "      <th>Values for renewable electricity</th>\n",
              "    </tr>\n",
              "  </thead>\n",
              "  <tbody>\n",
              "    <tr>\n",
              "      <th>count</th>\n",
              "      <td>6330.000000</td>\n",
              "      <td>6330.000000</td>\n",
              "      <td>6330.000000</td>\n",
              "      <td>6330.000000</td>\n",
              "    </tr>\n",
              "    <tr>\n",
              "      <th>mean</th>\n",
              "      <td>3165.500000</td>\n",
              "      <td>18.863033</td>\n",
              "      <td>2015.934123</td>\n",
              "      <td>2870.319082</td>\n",
              "    </tr>\n",
              "    <tr>\n",
              "      <th>std</th>\n",
              "      <td>1827.457934</td>\n",
              "      <td>10.693523</td>\n",
              "      <td>2.799779</td>\n",
              "      <td>9598.545617</td>\n",
              "    </tr>\n",
              "    <tr>\n",
              "      <th>min</th>\n",
              "      <td>1.000000</td>\n",
              "      <td>1.000000</td>\n",
              "      <td>2011.000000</td>\n",
              "      <td>0.000000</td>\n",
              "    </tr>\n",
              "    <tr>\n",
              "      <th>25%</th>\n",
              "      <td>1583.250000</td>\n",
              "      <td>9.000000</td>\n",
              "      <td>2014.000000</td>\n",
              "      <td>0.000000</td>\n",
              "    </tr>\n",
              "    <tr>\n",
              "      <th>50%</th>\n",
              "      <td>3165.500000</td>\n",
              "      <td>19.000000</td>\n",
              "      <td>2016.000000</td>\n",
              "      <td>46.991000</td>\n",
              "    </tr>\n",
              "    <tr>\n",
              "      <th>75%</th>\n",
              "      <td>4747.750000</td>\n",
              "      <td>28.000000</td>\n",
              "      <td>2018.000000</td>\n",
              "      <td>1104.060000</td>\n",
              "    </tr>\n",
              "    <tr>\n",
              "      <th>max</th>\n",
              "      <td>6330.000000</td>\n",
              "      <td>38.000000</td>\n",
              "      <td>2020.000000</td>\n",
              "      <td>142560.000000</td>\n",
              "    </tr>\n",
              "  </tbody>\n",
              "</table>\n",
              "</div>\n",
              "      <button class=\"colab-df-convert\" onclick=\"convertToInteractive('df-5c91af6f-b471-4d14-8df1-f7d64dfbc15d')\"\n",
              "              title=\"Convert this dataframe to an interactive table.\"\n",
              "              style=\"display:none;\">\n",
              "        \n",
              "  <svg xmlns=\"http://www.w3.org/2000/svg\" height=\"24px\"viewBox=\"0 0 24 24\"\n",
              "       width=\"24px\">\n",
              "    <path d=\"M0 0h24v24H0V0z\" fill=\"none\"/>\n",
              "    <path d=\"M18.56 5.44l.94 2.06.94-2.06 2.06-.94-2.06-.94-.94-2.06-.94 2.06-2.06.94zm-11 1L8.5 8.5l.94-2.06 2.06-.94-2.06-.94L8.5 2.5l-.94 2.06-2.06.94zm10 10l.94 2.06.94-2.06 2.06-.94-2.06-.94-.94-2.06-.94 2.06-2.06.94z\"/><path d=\"M17.41 7.96l-1.37-1.37c-.4-.4-.92-.59-1.43-.59-.52 0-1.04.2-1.43.59L10.3 9.45l-7.72 7.72c-.78.78-.78 2.05 0 2.83L4 21.41c.39.39.9.59 1.41.59.51 0 1.02-.2 1.41-.59l7.78-7.78 2.81-2.81c.8-.78.8-2.07 0-2.86zM5.41 20L4 18.59l7.72-7.72 1.47 1.35L5.41 20z\"/>\n",
              "  </svg>\n",
              "      </button>\n",
              "      \n",
              "  <style>\n",
              "    .colab-df-container {\n",
              "      display:flex;\n",
              "      flex-wrap:wrap;\n",
              "      gap: 12px;\n",
              "    }\n",
              "\n",
              "    .colab-df-convert {\n",
              "      background-color: #E8F0FE;\n",
              "      border: none;\n",
              "      border-radius: 50%;\n",
              "      cursor: pointer;\n",
              "      display: none;\n",
              "      fill: #1967D2;\n",
              "      height: 32px;\n",
              "      padding: 0 0 0 0;\n",
              "      width: 32px;\n",
              "    }\n",
              "\n",
              "    .colab-df-convert:hover {\n",
              "      background-color: #E2EBFA;\n",
              "      box-shadow: 0px 1px 2px rgba(60, 64, 67, 0.3), 0px 1px 3px 1px rgba(60, 64, 67, 0.15);\n",
              "      fill: #174EA6;\n",
              "    }\n",
              "\n",
              "    [theme=dark] .colab-df-convert {\n",
              "      background-color: #3B4455;\n",
              "      fill: #D2E3FC;\n",
              "    }\n",
              "\n",
              "    [theme=dark] .colab-df-convert:hover {\n",
              "      background-color: #434B5C;\n",
              "      box-shadow: 0px 1px 3px 1px rgba(0, 0, 0, 0.15);\n",
              "      filter: drop-shadow(0px 1px 2px rgba(0, 0, 0, 0.3));\n",
              "      fill: #FFFFFF;\n",
              "    }\n",
              "  </style>\n",
              "\n",
              "      <script>\n",
              "        const buttonEl =\n",
              "          document.querySelector('#df-5c91af6f-b471-4d14-8df1-f7d64dfbc15d button.colab-df-convert');\n",
              "        buttonEl.style.display =\n",
              "          google.colab.kernel.accessAllowed ? 'block' : 'none';\n",
              "\n",
              "        async function convertToInteractive(key) {\n",
              "          const element = document.querySelector('#df-5c91af6f-b471-4d14-8df1-f7d64dfbc15d');\n",
              "          const dataTable =\n",
              "            await google.colab.kernel.invokeFunction('convertToInteractive',\n",
              "                                                     [key], {});\n",
              "          if (!dataTable) return;\n",
              "\n",
              "          const docLinkHtml = 'Like what you see? Visit the ' +\n",
              "            '<a target=\"_blank\" href=https://colab.research.google.com/notebooks/data_table.ipynb>data table notebook</a>'\n",
              "            + ' to learn more about interactive tables.';\n",
              "          element.innerHTML = '';\n",
              "          dataTable['output_type'] = 'display_data';\n",
              "          await google.colab.output.renderOutput(dataTable, element);\n",
              "          const docLink = document.createElement('div');\n",
              "          docLink.innerHTML = docLinkHtml;\n",
              "          element.appendChild(docLink);\n",
              "        }\n",
              "      </script>\n",
              "    </div>\n",
              "  </div>\n",
              "  "
            ]
          },
          "metadata": {},
          "execution_count": 5
        }
      ]
    },
    {
      "cell_type": "code",
      "source": [
        "df.info()"
      ],
      "metadata": {
        "colab": {
          "base_uri": "https://localhost:8080/"
        },
        "id": "-RQ5UHniubun",
        "outputId": "9bb788a6-00a2-4ec2-9271-7f411ef9389e"
      },
      "execution_count": 6,
      "outputs": [
        {
          "output_type": "stream",
          "name": "stdout",
          "text": [
            "<class 'pandas.core.frame.DataFrame'>\n",
            "RangeIndex: 6330 entries, 0 to 6329\n",
            "Data columns (total 12 columns):\n",
            " #   Column                                                 Non-Null Count  Dtype  \n",
            "---  ------                                                 --------------  -----  \n",
            " 0   Rowid                                                  6330 non-null   int64  \n",
            " 1   Country                                                6330 non-null   object \n",
            " 2   State lgd code                                         6330 non-null   int64  \n",
            " 3   State                                                  6330 non-null   object \n",
            " 4   Year                                                   6330 non-null   int64  \n",
            " 5   Region-wise installation of electricity                1577 non-null   object \n",
            " 6   Energy value type ( potential, capacity, generation )  6330 non-null   object \n",
            " 7   Types of energy sources                                6330 non-null   object \n",
            " 8   Nature of energy sources                               5436 non-null   object \n",
            " 9   Types of usage (utility ,captive)                      4753 non-null   object \n",
            " 10  Type of energy sector                                  4753 non-null   object \n",
            " 11  Values for renewable electricity                       6330 non-null   float64\n",
            "dtypes: float64(1), int64(3), object(8)\n",
            "memory usage: 593.6+ KB\n"
          ]
        }
      ]
    },
    {
      "cell_type": "code",
      "source": [
        "x=df.isna().sum()   #df. isna(). sum() returns the number of missing values in each column.\n",
        "print(x)"
      ],
      "metadata": {
        "colab": {
          "base_uri": "https://localhost:8080/"
        },
        "id": "fMh3HHG7ulhn",
        "outputId": "4f826d63-4308-4a64-8998-88b502d80844"
      },
      "execution_count": 7,
      "outputs": [
        {
          "output_type": "stream",
          "name": "stdout",
          "text": [
            "Rowid                                                       0\n",
            "Country                                                     0\n",
            "State lgd code                                              0\n",
            "State                                                       0\n",
            "Year                                                        0\n",
            "Region-wise installation of electricity                  4753\n",
            "Energy value type ( potential, capacity, generation )       0\n",
            "Types of energy sources                                     0\n",
            "Nature of energy sources                                  894\n",
            "Types of usage (utility ,captive)                        1577\n",
            "Type of energy sector                                    1577\n",
            "Values for renewable electricity                            0\n",
            "dtype: int64\n"
          ]
        }
      ]
    },
    {
      "cell_type": "markdown",
      "source": [
        "So there are some null entries in our data. "
      ],
      "metadata": {
        "id": "uu7wM872upSF"
      }
    },
    {
      "cell_type": "code",
      "source": [
        "for col in df.columns.values:\n",
        "  unique_val = pd.unique(df[col])\n",
        "  print('Column ' + '\"'+ col+'\"'  + ' has ' + str(len(unique_val)) + ' unique values')"
      ],
      "metadata": {
        "colab": {
          "base_uri": "https://localhost:8080/"
        },
        "id": "mAsMqGVmuo9V",
        "outputId": "8ff0c36d-b4d1-4355-904d-1bc86001dc58"
      },
      "execution_count": 8,
      "outputs": [
        {
          "output_type": "stream",
          "name": "stdout",
          "text": [
            "Column \"Rowid\" has 6330 unique values\n",
            "Column \"Country\" has 1 unique values\n",
            "Column \"State lgd code\" has 36 unique values\n",
            "Column \"State\" has 36 unique values\n",
            "Column \"Year\" has 10 unique values\n",
            "Column \"Region-wise installation of electricity\" has 6 unique values\n",
            "Column \"Energy value type ( potential, capacity, generation )\" has 3 unique values\n",
            "Column \"Types of energy sources\" has 15 unique values\n",
            "Column \"Nature of energy sources\" has 3 unique values\n",
            "Column \"Types of usage (utility ,captive)\" has 3 unique values\n",
            "Column \"Type of energy sector\" has 6 unique values\n",
            "Column \"Values for renewable electricity\" has 3246 unique values\n"
          ]
        }
      ]
    },
    {
      "cell_type": "markdown",
      "source": [
        "# Filling the missing values"
      ],
      "metadata": {
        "id": "zmNXGKqftUq-"
      }
    },
    {
      "cell_type": "code",
      "source": [
        "df['Region-wise installation of electricity'].fillna(0,inplace=True)\n",
        "df['Nature of energy sources'].fillna(\"RENEWABLE\",inplace=True)\n",
        "df['Types of usage (utility ,captive)'].fillna(\"UTILITY\",inplace=True)\n",
        "df['Type of energy sector'].fillna(\"UTILITY-RE\",inplace=True)\n",
        "for i in range(len(df['Region-wise installation of electricity'])):\n",
        "  if df['Region-wise installation of electricity'][i]==0 :\n",
        "      df['Region-wise installation of electricity'][i]=df['Region-wise installation of electricity'][i-1]\n",
        "display(df)      "
      ],
      "metadata": {
        "colab": {
          "base_uri": "https://localhost:8080/",
          "height": 849
        },
        "id": "OBEp580Ztsvf",
        "outputId": "4e186f76-7a38-48c4-f180-53cc20dc1469"
      },
      "execution_count": 9,
      "outputs": [
        {
          "output_type": "stream",
          "name": "stderr",
          "text": [
            "/usr/local/lib/python3.7/dist-packages/ipykernel_launcher.py:7: SettingWithCopyWarning: \n",
            "A value is trying to be set on a copy of a slice from a DataFrame\n",
            "\n",
            "See the caveats in the documentation: https://pandas.pydata.org/pandas-docs/stable/user_guide/indexing.html#returning-a-view-versus-a-copy\n",
            "  import sys\n"
          ]
        },
        {
          "output_type": "display_data",
          "data": {
            "text/plain": [
              "      Rowid Country  State lgd code  \\\n",
              "0         1   India               1   \n",
              "1         2   India               1   \n",
              "2         3   India               1   \n",
              "3         4   India               1   \n",
              "4         5   India               1   \n",
              "...     ...     ...             ...   \n",
              "6325   6326   India              38   \n",
              "6326   6327   India              38   \n",
              "6327   6328   India              38   \n",
              "6328   6329   India              38   \n",
              "6329   6330   India              38   \n",
              "\n",
              "                                             State  Year  \\\n",
              "0                                Jammu And Kashmir  2011   \n",
              "1                                Jammu And Kashmir  2011   \n",
              "2                                Jammu And Kashmir  2011   \n",
              "3                                Jammu And Kashmir  2011   \n",
              "4                                Jammu And Kashmir  2011   \n",
              "...                                            ...   ...   \n",
              "6325  The Dadra And Nagar Haveli And Daman And Diu  2020   \n",
              "6326  The Dadra And Nagar Haveli And Daman And Diu  2020   \n",
              "6327  The Dadra And Nagar Haveli And Daman And Diu  2020   \n",
              "6328  The Dadra And Nagar Haveli And Daman And Diu  2020   \n",
              "6329  The Dadra And Nagar Haveli And Daman And Diu  2020   \n",
              "\n",
              "     Region-wise installation of electricity  \\\n",
              "0                                         NR   \n",
              "1                                         NR   \n",
              "2                                         NR   \n",
              "3                                         NR   \n",
              "4                                         NR   \n",
              "...                                      ...   \n",
              "6325                                      WR   \n",
              "6326                                      WR   \n",
              "6327                                      WR   \n",
              "6328                                      WR   \n",
              "6329                                      WR   \n",
              "\n",
              "     Energy value type ( potential, capacity, generation )  \\\n",
              "0                                              Capacity      \n",
              "1                                            Generation      \n",
              "2                                            Generation      \n",
              "3                                            Generation      \n",
              "4                                            Generation      \n",
              "...                                                 ...      \n",
              "6325                                         Generation      \n",
              "6326                                         Generation      \n",
              "6327                                         Generation      \n",
              "6328                                         Generation      \n",
              "6329                                         Generation      \n",
              "\n",
              "     Types of energy sources Nature of energy sources  \\\n",
              "0                SMALL HYDRO                RENEWABLE   \n",
              "1            BIOMASS-BAGASSE                RENEWABLE   \n",
              "2                       COAL            NON-RENEWABLE   \n",
              "3                     DIESEL            NON-RENEWABLE   \n",
              "4                      HYDRO            NON-RENEWABLE   \n",
              "...                      ...                      ...   \n",
              "6325             SMALL HYDRO                RENEWABLE   \n",
              "6326                   SOLAR                RENEWABLE   \n",
              "6327                   SOLAR                RENEWABLE   \n",
              "6328                    WIND                RENEWABLE   \n",
              "6329                    WIND                RENEWABLE   \n",
              "\n",
              "     Types of usage (utility ,captive) Type of energy sector  \\\n",
              "0                              UTILITY            UTILITY-RE   \n",
              "1                              UTILITY            UTILITY-RE   \n",
              "2                              CAPTIVE               CAPTIVE   \n",
              "3                              CAPTIVE               CAPTIVE   \n",
              "4                              CAPTIVE               CAPTIVE   \n",
              "...                                ...                   ...   \n",
              "6325                           UTILITY            UTILITY-RE   \n",
              "6326                           CAPTIVE               CAPTIVE   \n",
              "6327                           UTILITY            UTILITY-RE   \n",
              "6328                           CAPTIVE               CAPTIVE   \n",
              "6329                           UTILITY            UTILITY-RE   \n",
              "\n",
              "      Values for renewable electricity  \n",
              "0                           126.501442  \n",
              "1                             0.000000  \n",
              "2                             0.000000  \n",
              "3                             3.482140  \n",
              "4                             0.000000  \n",
              "...                                ...  \n",
              "6325                          0.000000  \n",
              "6326                          0.000000  \n",
              "6327                         28.017000  \n",
              "6328                          0.000000  \n",
              "6329                          0.000000  \n",
              "\n",
              "[6330 rows x 12 columns]"
            ],
            "text/html": [
              "\n",
              "  <div id=\"df-8e5d3716-5c59-4aec-ab5d-6cec7f186793\">\n",
              "    <div class=\"colab-df-container\">\n",
              "      <div>\n",
              "<style scoped>\n",
              "    .dataframe tbody tr th:only-of-type {\n",
              "        vertical-align: middle;\n",
              "    }\n",
              "\n",
              "    .dataframe tbody tr th {\n",
              "        vertical-align: top;\n",
              "    }\n",
              "\n",
              "    .dataframe thead th {\n",
              "        text-align: right;\n",
              "    }\n",
              "</style>\n",
              "<table border=\"1\" class=\"dataframe\">\n",
              "  <thead>\n",
              "    <tr style=\"text-align: right;\">\n",
              "      <th></th>\n",
              "      <th>Rowid</th>\n",
              "      <th>Country</th>\n",
              "      <th>State lgd code</th>\n",
              "      <th>State</th>\n",
              "      <th>Year</th>\n",
              "      <th>Region-wise installation of electricity</th>\n",
              "      <th>Energy value type ( potential, capacity, generation )</th>\n",
              "      <th>Types of energy sources</th>\n",
              "      <th>Nature of energy sources</th>\n",
              "      <th>Types of usage (utility ,captive)</th>\n",
              "      <th>Type of energy sector</th>\n",
              "      <th>Values for renewable electricity</th>\n",
              "    </tr>\n",
              "  </thead>\n",
              "  <tbody>\n",
              "    <tr>\n",
              "      <th>0</th>\n",
              "      <td>1</td>\n",
              "      <td>India</td>\n",
              "      <td>1</td>\n",
              "      <td>Jammu And Kashmir</td>\n",
              "      <td>2011</td>\n",
              "      <td>NR</td>\n",
              "      <td>Capacity</td>\n",
              "      <td>SMALL HYDRO</td>\n",
              "      <td>RENEWABLE</td>\n",
              "      <td>UTILITY</td>\n",
              "      <td>UTILITY-RE</td>\n",
              "      <td>126.501442</td>\n",
              "    </tr>\n",
              "    <tr>\n",
              "      <th>1</th>\n",
              "      <td>2</td>\n",
              "      <td>India</td>\n",
              "      <td>1</td>\n",
              "      <td>Jammu And Kashmir</td>\n",
              "      <td>2011</td>\n",
              "      <td>NR</td>\n",
              "      <td>Generation</td>\n",
              "      <td>BIOMASS-BAGASSE</td>\n",
              "      <td>RENEWABLE</td>\n",
              "      <td>UTILITY</td>\n",
              "      <td>UTILITY-RE</td>\n",
              "      <td>0.000000</td>\n",
              "    </tr>\n",
              "    <tr>\n",
              "      <th>2</th>\n",
              "      <td>3</td>\n",
              "      <td>India</td>\n",
              "      <td>1</td>\n",
              "      <td>Jammu And Kashmir</td>\n",
              "      <td>2011</td>\n",
              "      <td>NR</td>\n",
              "      <td>Generation</td>\n",
              "      <td>COAL</td>\n",
              "      <td>NON-RENEWABLE</td>\n",
              "      <td>CAPTIVE</td>\n",
              "      <td>CAPTIVE</td>\n",
              "      <td>0.000000</td>\n",
              "    </tr>\n",
              "    <tr>\n",
              "      <th>3</th>\n",
              "      <td>4</td>\n",
              "      <td>India</td>\n",
              "      <td>1</td>\n",
              "      <td>Jammu And Kashmir</td>\n",
              "      <td>2011</td>\n",
              "      <td>NR</td>\n",
              "      <td>Generation</td>\n",
              "      <td>DIESEL</td>\n",
              "      <td>NON-RENEWABLE</td>\n",
              "      <td>CAPTIVE</td>\n",
              "      <td>CAPTIVE</td>\n",
              "      <td>3.482140</td>\n",
              "    </tr>\n",
              "    <tr>\n",
              "      <th>4</th>\n",
              "      <td>5</td>\n",
              "      <td>India</td>\n",
              "      <td>1</td>\n",
              "      <td>Jammu And Kashmir</td>\n",
              "      <td>2011</td>\n",
              "      <td>NR</td>\n",
              "      <td>Generation</td>\n",
              "      <td>HYDRO</td>\n",
              "      <td>NON-RENEWABLE</td>\n",
              "      <td>CAPTIVE</td>\n",
              "      <td>CAPTIVE</td>\n",
              "      <td>0.000000</td>\n",
              "    </tr>\n",
              "    <tr>\n",
              "      <th>...</th>\n",
              "      <td>...</td>\n",
              "      <td>...</td>\n",
              "      <td>...</td>\n",
              "      <td>...</td>\n",
              "      <td>...</td>\n",
              "      <td>...</td>\n",
              "      <td>...</td>\n",
              "      <td>...</td>\n",
              "      <td>...</td>\n",
              "      <td>...</td>\n",
              "      <td>...</td>\n",
              "      <td>...</td>\n",
              "    </tr>\n",
              "    <tr>\n",
              "      <th>6325</th>\n",
              "      <td>6326</td>\n",
              "      <td>India</td>\n",
              "      <td>38</td>\n",
              "      <td>The Dadra And Nagar Haveli And Daman And Diu</td>\n",
              "      <td>2020</td>\n",
              "      <td>WR</td>\n",
              "      <td>Generation</td>\n",
              "      <td>SMALL HYDRO</td>\n",
              "      <td>RENEWABLE</td>\n",
              "      <td>UTILITY</td>\n",
              "      <td>UTILITY-RE</td>\n",
              "      <td>0.000000</td>\n",
              "    </tr>\n",
              "    <tr>\n",
              "      <th>6326</th>\n",
              "      <td>6327</td>\n",
              "      <td>India</td>\n",
              "      <td>38</td>\n",
              "      <td>The Dadra And Nagar Haveli And Daman And Diu</td>\n",
              "      <td>2020</td>\n",
              "      <td>WR</td>\n",
              "      <td>Generation</td>\n",
              "      <td>SOLAR</td>\n",
              "      <td>RENEWABLE</td>\n",
              "      <td>CAPTIVE</td>\n",
              "      <td>CAPTIVE</td>\n",
              "      <td>0.000000</td>\n",
              "    </tr>\n",
              "    <tr>\n",
              "      <th>6327</th>\n",
              "      <td>6328</td>\n",
              "      <td>India</td>\n",
              "      <td>38</td>\n",
              "      <td>The Dadra And Nagar Haveli And Daman And Diu</td>\n",
              "      <td>2020</td>\n",
              "      <td>WR</td>\n",
              "      <td>Generation</td>\n",
              "      <td>SOLAR</td>\n",
              "      <td>RENEWABLE</td>\n",
              "      <td>UTILITY</td>\n",
              "      <td>UTILITY-RE</td>\n",
              "      <td>28.017000</td>\n",
              "    </tr>\n",
              "    <tr>\n",
              "      <th>6328</th>\n",
              "      <td>6329</td>\n",
              "      <td>India</td>\n",
              "      <td>38</td>\n",
              "      <td>The Dadra And Nagar Haveli And Daman And Diu</td>\n",
              "      <td>2020</td>\n",
              "      <td>WR</td>\n",
              "      <td>Generation</td>\n",
              "      <td>WIND</td>\n",
              "      <td>RENEWABLE</td>\n",
              "      <td>CAPTIVE</td>\n",
              "      <td>CAPTIVE</td>\n",
              "      <td>0.000000</td>\n",
              "    </tr>\n",
              "    <tr>\n",
              "      <th>6329</th>\n",
              "      <td>6330</td>\n",
              "      <td>India</td>\n",
              "      <td>38</td>\n",
              "      <td>The Dadra And Nagar Haveli And Daman And Diu</td>\n",
              "      <td>2020</td>\n",
              "      <td>WR</td>\n",
              "      <td>Generation</td>\n",
              "      <td>WIND</td>\n",
              "      <td>RENEWABLE</td>\n",
              "      <td>UTILITY</td>\n",
              "      <td>UTILITY-RE</td>\n",
              "      <td>0.000000</td>\n",
              "    </tr>\n",
              "  </tbody>\n",
              "</table>\n",
              "<p>6330 rows × 12 columns</p>\n",
              "</div>\n",
              "      <button class=\"colab-df-convert\" onclick=\"convertToInteractive('df-8e5d3716-5c59-4aec-ab5d-6cec7f186793')\"\n",
              "              title=\"Convert this dataframe to an interactive table.\"\n",
              "              style=\"display:none;\">\n",
              "        \n",
              "  <svg xmlns=\"http://www.w3.org/2000/svg\" height=\"24px\"viewBox=\"0 0 24 24\"\n",
              "       width=\"24px\">\n",
              "    <path d=\"M0 0h24v24H0V0z\" fill=\"none\"/>\n",
              "    <path d=\"M18.56 5.44l.94 2.06.94-2.06 2.06-.94-2.06-.94-.94-2.06-.94 2.06-2.06.94zm-11 1L8.5 8.5l.94-2.06 2.06-.94-2.06-.94L8.5 2.5l-.94 2.06-2.06.94zm10 10l.94 2.06.94-2.06 2.06-.94-2.06-.94-.94-2.06-.94 2.06-2.06.94z\"/><path d=\"M17.41 7.96l-1.37-1.37c-.4-.4-.92-.59-1.43-.59-.52 0-1.04.2-1.43.59L10.3 9.45l-7.72 7.72c-.78.78-.78 2.05 0 2.83L4 21.41c.39.39.9.59 1.41.59.51 0 1.02-.2 1.41-.59l7.78-7.78 2.81-2.81c.8-.78.8-2.07 0-2.86zM5.41 20L4 18.59l7.72-7.72 1.47 1.35L5.41 20z\"/>\n",
              "  </svg>\n",
              "      </button>\n",
              "      \n",
              "  <style>\n",
              "    .colab-df-container {\n",
              "      display:flex;\n",
              "      flex-wrap:wrap;\n",
              "      gap: 12px;\n",
              "    }\n",
              "\n",
              "    .colab-df-convert {\n",
              "      background-color: #E8F0FE;\n",
              "      border: none;\n",
              "      border-radius: 50%;\n",
              "      cursor: pointer;\n",
              "      display: none;\n",
              "      fill: #1967D2;\n",
              "      height: 32px;\n",
              "      padding: 0 0 0 0;\n",
              "      width: 32px;\n",
              "    }\n",
              "\n",
              "    .colab-df-convert:hover {\n",
              "      background-color: #E2EBFA;\n",
              "      box-shadow: 0px 1px 2px rgba(60, 64, 67, 0.3), 0px 1px 3px 1px rgba(60, 64, 67, 0.15);\n",
              "      fill: #174EA6;\n",
              "    }\n",
              "\n",
              "    [theme=dark] .colab-df-convert {\n",
              "      background-color: #3B4455;\n",
              "      fill: #D2E3FC;\n",
              "    }\n",
              "\n",
              "    [theme=dark] .colab-df-convert:hover {\n",
              "      background-color: #434B5C;\n",
              "      box-shadow: 0px 1px 3px 1px rgba(0, 0, 0, 0.15);\n",
              "      filter: drop-shadow(0px 1px 2px rgba(0, 0, 0, 0.3));\n",
              "      fill: #FFFFFF;\n",
              "    }\n",
              "  </style>\n",
              "\n",
              "      <script>\n",
              "        const buttonEl =\n",
              "          document.querySelector('#df-8e5d3716-5c59-4aec-ab5d-6cec7f186793 button.colab-df-convert');\n",
              "        buttonEl.style.display =\n",
              "          google.colab.kernel.accessAllowed ? 'block' : 'none';\n",
              "\n",
              "        async function convertToInteractive(key) {\n",
              "          const element = document.querySelector('#df-8e5d3716-5c59-4aec-ab5d-6cec7f186793');\n",
              "          const dataTable =\n",
              "            await google.colab.kernel.invokeFunction('convertToInteractive',\n",
              "                                                     [key], {});\n",
              "          if (!dataTable) return;\n",
              "\n",
              "          const docLinkHtml = 'Like what you see? Visit the ' +\n",
              "            '<a target=\"_blank\" href=https://colab.research.google.com/notebooks/data_table.ipynb>data table notebook</a>'\n",
              "            + ' to learn more about interactive tables.';\n",
              "          element.innerHTML = '';\n",
              "          dataTable['output_type'] = 'display_data';\n",
              "          await google.colab.output.renderOutput(dataTable, element);\n",
              "          const docLink = document.createElement('div');\n",
              "          docLink.innerHTML = docLinkHtml;\n",
              "          element.appendChild(docLink);\n",
              "        }\n",
              "      </script>\n",
              "    </div>\n",
              "  </div>\n",
              "  "
            ]
          },
          "metadata": {}
        }
      ]
    },
    {
      "cell_type": "code",
      "source": [
        "x=df.isna().sum()   #df. isna(). sum() returns the number of missing values in each column.\n",
        "print(x)"
      ],
      "metadata": {
        "colab": {
          "base_uri": "https://localhost:8080/"
        },
        "id": "7BYjZ2FNvBjA",
        "outputId": "432f3407-c805-445a-a1cf-f7e9e9fac054"
      },
      "execution_count": 10,
      "outputs": [
        {
          "output_type": "stream",
          "name": "stdout",
          "text": [
            "Rowid                                                    0\n",
            "Country                                                  0\n",
            "State lgd code                                           0\n",
            "State                                                    0\n",
            "Year                                                     0\n",
            "Region-wise installation of electricity                  0\n",
            "Energy value type ( potential, capacity, generation )    0\n",
            "Types of energy sources                                  0\n",
            "Nature of energy sources                                 0\n",
            "Types of usage (utility ,captive)                        0\n",
            "Type of energy sector                                    0\n",
            "Values for renewable electricity                         0\n",
            "dtype: int64\n"
          ]
        }
      ]
    },
    {
      "cell_type": "markdown",
      "source": [
        "# Statewise analysis"
      ],
      "metadata": {
        "id": "t62IBXbdsuxA"
      }
    },
    {
      "cell_type": "code",
      "source": [
        "states=df['State'].unique()\n",
        "print(states)"
      ],
      "metadata": {
        "id": "mu22UR1ZsuxB"
      },
      "execution_count": null,
      "outputs": []
    },
    {
      "cell_type": "code",
      "source": [
        "df2 = df.groupby('State').apply(lambda x: x['Values for renewable electricity'].unique().sum())\n",
        "print(df2)"
      ],
      "metadata": {
        "colab": {
          "base_uri": "https://localhost:8080/"
        },
        "outputId": "92ef138b-0936-4688-c366-21c4e91c3ca0",
        "id": "lbeosStFsuxC"
      },
      "execution_count": null,
      "outputs": [
        {
          "output_type": "stream",
          "name": "stdout",
          "text": [
            "State\n",
            "Andaman And Nicobar Islands                     2.996858e+03\n",
            "Andhra Pradesh                                  1.038894e+06\n",
            "Arunachal Pradesh                               2.625466e+04\n",
            "Assam                                           8.112056e+04\n",
            "Bihar                                           2.397836e+05\n",
            "Chandigarh                                      2.071600e+02\n",
            "Chhattisgarh                                    1.099485e+06\n",
            "Delhi                                           8.479852e+04\n",
            "Goa                                             3.893262e+03\n",
            "Gujarat                                         1.579660e+06\n",
            "Haryana                                         2.663410e+05\n",
            "Himachal Pradesh                                4.084950e+05\n",
            "Jammu And Kashmir                               2.669299e+05\n",
            "Jharkhand                                       3.000221e+05\n",
            "Karnataka                                       9.805046e+05\n",
            "Kerala                                          9.977509e+04\n",
            "Ladakh                                          1.111922e+03\n",
            "Lakshadweep                                     4.908400e+01\n",
            "Madhya Pradesh                                  1.037855e+06\n",
            "Maharashtra                                     1.554429e+06\n",
            "Manipur                                         1.675011e+04\n",
            "Meghalaya                                       1.681253e+04\n",
            "Mizoram                                         1.005264e+04\n",
            "Nagaland                                        1.060793e+04\n",
            "Odisha                                          8.363596e+05\n",
            "Puducherry                                      5.045842e+03\n",
            "Punjab                                          3.059644e+05\n",
            "Rajasthan                                       9.839731e+05\n",
            "Sikkim                                          5.716014e+04\n",
            "Tamil Nadu                                      1.147196e+06\n",
            "Telangana                                       3.810024e+05\n",
            "The Dadra And Nagar Haveli And Daman And Diu    2.616330e+02\n",
            "Tripura                                         4.271248e+04\n",
            "Uttar Pradesh                                   1.309102e+06\n",
            "Uttarakhand                                     1.763312e+05\n",
            "West Bengal                                     7.282447e+05\n",
            "dtype: float64\n"
          ]
        }
      ]
    },
    {
      "cell_type": "code",
      "source": [
        "df1=df2.sort_values()\n",
        "print(df1)"
      ],
      "metadata": {
        "colab": {
          "base_uri": "https://localhost:8080/"
        },
        "outputId": "64894d7a-adf1-4bcd-ebc3-cda6900ff7c0",
        "id": "2RIbUvccsuxD"
      },
      "execution_count": null,
      "outputs": [
        {
          "output_type": "stream",
          "name": "stdout",
          "text": [
            "State\n",
            "Lakshadweep                                     4.908400e+01\n",
            "Chandigarh                                      2.071600e+02\n",
            "The Dadra And Nagar Haveli And Daman And Diu    2.616330e+02\n",
            "Ladakh                                          1.111922e+03\n",
            "Andaman And Nicobar Islands                     2.996858e+03\n",
            "Goa                                             3.893262e+03\n",
            "Puducherry                                      5.045842e+03\n",
            "Mizoram                                         1.005264e+04\n",
            "Nagaland                                        1.060793e+04\n",
            "Manipur                                         1.675011e+04\n",
            "Meghalaya                                       1.681253e+04\n",
            "Arunachal Pradesh                               2.625466e+04\n",
            "Tripura                                         4.271248e+04\n",
            "Sikkim                                          5.716014e+04\n",
            "Assam                                           8.112056e+04\n",
            "Delhi                                           8.479852e+04\n",
            "Kerala                                          9.977509e+04\n",
            "Uttarakhand                                     1.763312e+05\n",
            "Bihar                                           2.397836e+05\n",
            "Haryana                                         2.663410e+05\n",
            "Jammu And Kashmir                               2.669299e+05\n",
            "Jharkhand                                       3.000221e+05\n",
            "Punjab                                          3.059644e+05\n",
            "Telangana                                       3.810024e+05\n",
            "Himachal Pradesh                                4.084950e+05\n",
            "West Bengal                                     7.282447e+05\n",
            "Odisha                                          8.363596e+05\n",
            "Karnataka                                       9.805046e+05\n",
            "Rajasthan                                       9.839731e+05\n",
            "Madhya Pradesh                                  1.037855e+06\n",
            "Andhra Pradesh                                  1.038894e+06\n",
            "Chhattisgarh                                    1.099485e+06\n",
            "Tamil Nadu                                      1.147196e+06\n",
            "Uttar Pradesh                                   1.309102e+06\n",
            "Maharashtra                                     1.554429e+06\n",
            "Gujarat                                         1.579660e+06\n",
            "dtype: float64\n"
          ]
        }
      ]
    },
    {
      "cell_type": "code",
      "source": [
        "df1.plot(kind='bar', y='Values for renewable electricity',figsize=(15,8),ylabel='Values for renewable electricity (in MegaWatts)',color='red')"
      ],
      "metadata": {
        "colab": {
          "base_uri": "https://localhost:8080/",
          "height": 762
        },
        "outputId": "bd0694f4-9d20-453a-a576-e75bafff89db",
        "id": "Wg93uyI7suxD"
      },
      "execution_count": null,
      "outputs": [
        {
          "output_type": "execute_result",
          "data": {
            "text/plain": [
              "<matplotlib.axes._subplots.AxesSubplot at 0x7f41af7c33d0>"
            ]
          },
          "metadata": {},
          "execution_count": 15
        },
        {
          "output_type": "display_data",
          "data": {
            "text/plain": [
              "<Figure size 1080x576 with 1 Axes>"
            ],
            "image/png": "[encoded data removed]"
          },
          "metadata": {
            "needs_background": "light"
          }
        }
      ]
    },
    {
      "cell_type": "markdown",
      "source": [
        "# Energy source wise analysis"
      ],
      "metadata": {
        "id": "4nEH74oBsoBB"
      }
    },
    {
      "cell_type": "code",
      "source": [
        "dfe = df.groupby('Types of energy sources').apply(lambda x: x['Values for renewable electricity'].unique().sum()).sort_values()\n",
        "print(dfe)"
      ],
      "metadata": {
        "colab": {
          "base_uri": "https://localhost:8080/"
        },
        "outputId": "eeaabdec-44dd-4166-f3f6-1bbff6a01d77",
        "id": "TmPDbarfsoBS"
      },
      "execution_count": 18,
      "outputs": [
        {
          "output_type": "stream",
          "name": "stdout",
          "text": [
            "Types of energy sources\n",
            "NAPHTHA                      80.200\n",
            "RENEWABLES                 1362.783\n",
            "WASTE                      3204.092\n",
            "BIOMASS                   37297.300\n",
            "LIGNITE                   47877.180\n",
            "COGENERATION-BAGASSE      61293.450\n",
            "DIESEL                    79670.450\n",
            "BIOMASS-BAGASSE          121198.656\n",
            "SMALL HYDRO              137593.594\n",
            "NUCLEAR                  359709.050\n",
            "NATURAL GAS              780060.629\n",
            "SOLAR                   1014249.193\n",
            "HYDRO                   1284202.242\n",
            "WIND                    1655188.458\n",
            "COAL                    9514985.434\n",
            "dtype: float64\n"
          ]
        }
      ]
    },
    {
      "cell_type": "code",
      "source": [
        "dfe.plot(kind='bar', y='Values for renewable electricity',figsize=(15,8),ylabel='Values for renewable electricity (in MegaWatts)',color='purple')"
      ],
      "metadata": {
        "colab": {
          "base_uri": "https://localhost:8080/",
          "height": 644
        },
        "outputId": "e3ed6c2c-deca-4c11-8dd2-7104add4d4e9",
        "id": "EEDJxljmsoBU"
      },
      "execution_count": 19,
      "outputs": [
        {
          "output_type": "execute_result",
          "data": {
            "text/plain": [
              "<matplotlib.axes._subplots.AxesSubplot at 0x7f41af0eea90>"
            ]
          },
          "metadata": {},
          "execution_count": 19
        },
        {
          "output_type": "display_data",
          "data": {
            "text/plain": [
              "<Figure size 1080x576 with 1 Axes>"
            ],
            "image/png": "[encoded data removed]"
          },
          "metadata": {
            "needs_background": "light"
          }
        }
      ]
    },
    {
      "cell_type": "markdown",
      "source": [
        "# Yearwise Analysis"
      ],
      "metadata": {
        "id": "aFGwcTnQzyn1"
      }
    },
    {
      "cell_type": "code",
      "source": [
        "dfy = df.groupby('Year').apply(lambda x: x['Values for renewable electricity'].unique().sum())\n",
        "print(dfy)"
      ],
      "metadata": {
        "colab": {
          "base_uri": "https://localhost:8080/"
        },
        "id": "2o69o7BMz1k9",
        "outputId": "500f86a9-b6d4-4d63-de77-10256d30033a"
      },
      "execution_count": 16,
      "outputs": [
        {
          "output_type": "stream",
          "name": "stdout",
          "text": [
            "Year\n",
            "2011     979323.102\n",
            "2012     936552.310\n",
            "2013    1126249.886\n",
            "2014    1194642.695\n",
            "2015    2091337.856\n",
            "2016    1693230.463\n",
            "2017    2253870.357\n",
            "2018    2230840.195\n",
            "2019    2450917.483\n",
            "2020    3194859.435\n",
            "dtype: float64\n"
          ]
        }
      ]
    },
    {
      "cell_type": "code",
      "source": [
        "plt.plot(dfy,'red')\n",
        "plt.xlabel(\"Year\")\n",
        "plt.ylabel(\"Coal reserved quantity (in million tonnes)\")"
      ],
      "metadata": {
        "colab": {
          "base_uri": "https://localhost:8080/",
          "height": 307
        },
        "id": "L01QwvOM0ayl",
        "outputId": "2656dc8e-30c1-4e7e-89a6-a4e808802146"
      },
      "execution_count": 17,
      "outputs": [
        {
          "output_type": "execute_result",
          "data": {
            "text/plain": [
              "Text(0, 0.5, 'Coal reserved quantity (in million tonnes)')"
            ]
          },
          "metadata": {},
          "execution_count": 17
        },
        {
          "output_type": "display_data",
          "data": {
            "text/plain": [
              "<Figure size 432x288 with 1 Axes>"
            ],
            "image/png": "[encoded data removed]"
          },
          "metadata": {
            "needs_background": "light"
          }
        }
      ]
    },
    {
      "cell_type": "markdown",
      "source": [
        "# Analysis using Pie charts"
      ],
      "metadata": {
        "id": "mk02xtFm6sR9"
      }
    },
    {
      "cell_type": "code",
      "source": [
        "df.groupby(['Region-wise installation of electricity']).sum().plot(kind='pie', y='Values for renewable electricity',autopct='%1.0f%%',figsize=(10,10),xlabel=\"Region \",startangle=15)"
      ],
      "metadata": {
        "colab": {
          "base_uri": "https://localhost:8080/",
          "height": 592
        },
        "id": "Sf4nIyEN7IuG",
        "outputId": "47365007-cbbe-4a9d-c1e4-a0076ecac754"
      },
      "execution_count": 20,
      "outputs": [
        {
          "output_type": "execute_result",
          "data": {
            "text/plain": [
              "<matplotlib.axes._subplots.AxesSubplot at 0x7f41ae5f8b90>"
            ]
          },
          "metadata": {},
          "execution_count": 20
        },
        {
          "output_type": "display_data",
          "data": {
            "text/plain": [
              "<Figure size 720x720 with 1 Axes>"
            ],
            "image/png": "[encoded data removed]"
          },
          "metadata": {}
        }
      ]
    },
    {
      "cell_type": "code",
      "source": [
        "df.groupby(['Energy value type ( potential, capacity, generation )']).sum().plot(kind='pie', y='Values for renewable electricity',autopct='%1.0f%%',figsize=(10,10),xlabel=\"energy value type \")"
      ],
      "metadata": {
        "colab": {
          "base_uri": "https://localhost:8080/",
          "height": 592
        },
        "id": "9ynjvOnHUuD4",
        "outputId": "3deed3af-36d8-4a02-d4e3-01c46e0f996f"
      },
      "execution_count": 21,
      "outputs": [
        {
          "output_type": "execute_result",
          "data": {
            "text/plain": [
              "<matplotlib.axes._subplots.AxesSubplot at 0x7f41ae504190>"
            ]
          },
          "metadata": {},
          "execution_count": 21
        },
        {
          "output_type": "display_data",
          "data": {
            "text/plain": [
              "<Figure size 720x720 with 1 Axes>"
            ],
            "image/png": "[encoded data removed]"
          },
          "metadata": {}
        }
      ]
    },
    {
      "cell_type": "code",
      "source": [
        "df.groupby(['Nature of energy sources']).sum().plot(kind='pie', y='Values for renewable electricity',autopct='%1.0f%%',figsize=(10,10),ylabel=\"Nature of energy sources \",startangle=40)"
      ],
      "metadata": {
        "colab": {
          "base_uri": "https://localhost:8080/",
          "height": 592
        },
        "id": "lCBphnj4U7W3",
        "outputId": "1fcd9c92-4352-447f-fded-12738c7b8cc6"
      },
      "execution_count": 22,
      "outputs": [
        {
          "output_type": "execute_result",
          "data": {
            "text/plain": [
              "<matplotlib.axes._subplots.AxesSubplot at 0x7f41ae4ecf10>"
            ]
          },
          "metadata": {},
          "execution_count": 22
        },
        {
          "output_type": "display_data",
          "data": {
            "text/plain": [
              "<Figure size 720x720 with 1 Axes>"
            ],
            "image/png": "[encoded data removed]"
          },
          "metadata": {}
        }
      ]
    },
    {
      "cell_type": "code",
      "source": [
        "df.groupby(['Type of energy sector']).sum().plot(kind='pie', y='Values for renewable electricity',autopct='%1.0f%%',figsize=(10,10),ylabel=\"Type of energy sector \",startangle=0)"
      ],
      "metadata": {
        "colab": {
          "base_uri": "https://localhost:8080/",
          "height": 592
        },
        "id": "VzMnVKFVuY3j",
        "outputId": "e42f6499-120d-494f-b9bc-5e922cc76fde"
      },
      "execution_count": 25,
      "outputs": [
        {
          "output_type": "execute_result",
          "data": {
            "text/plain": [
              "<matplotlib.axes._subplots.AxesSubplot at 0x7f41ae3acd50>"
            ]
          },
          "metadata": {},
          "execution_count": 25
        },
        {
          "output_type": "display_data",
          "data": {
            "text/plain": [
              "<Figure size 720x720 with 1 Axes>"
            ],
            "image/png": "[encoded data removed]"
          },
          "metadata": {}
        }
      ]
    },
    {
      "cell_type": "code",
      "source": [
        "df.groupby(['Types of usage (utility ,captive)']).sum().plot(kind='pie', y='Values for renewable electricity',autopct='%1.0f%%',figsize=(10,10),ylabel=\"Types of usage \",startangle=0)"
      ],
      "metadata": {
        "colab": {
          "base_uri": "https://localhost:8080/",
          "height": 592
        },
        "id": "PNYCXpa_ur8I",
        "outputId": "a04e6449-23eb-4f12-c59c-0eb78269974c"
      },
      "execution_count": 26,
      "outputs": [
        {
          "output_type": "execute_result",
          "data": {
            "text/plain": [
              "<matplotlib.axes._subplots.AxesSubplot at 0x7f41af1ffe50>"
            ]
          },
          "metadata": {},
          "execution_count": 26
        },
        {
          "output_type": "display_data",
          "data": {
            "text/plain": [
              "<Figure size 720x720 with 1 Axes>"
            ],
            "image/png": "[encoded data removed]"
          },
          "metadata": {}
        }
      ]
    }
  ]
}