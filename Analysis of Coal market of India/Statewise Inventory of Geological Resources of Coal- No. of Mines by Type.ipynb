{
 "cells": [
  {
   "cell_type": "code",
   "execution_count": 1,
   "metadata": {},
   "outputs": [],
   "source": [
    "import pandas as pd\n",
    "import seaborn as sb\n",
    "import matplotlib.pyplot as plt\n",
    "import numpy as np\n",
    "import seaborn as sns\n",
    "import geopandas as gpd\n",
    "from shapely.geometry import Point\n",
    "sns.set_style('whitegrid')"
   ]
  },
  {
   "cell_type": "code",
   "execution_count": 2,
   "metadata": {},
   "outputs": [
    {
     "data": {
      "text/html": [
       "<div>\n",
       "<style scoped>\n",
       "    .dataframe tbody tr th:only-of-type {\n",
       "        vertical-align: middle;\n",
       "    }\n",
       "\n",
       "    .dataframe tbody tr th {\n",
       "        vertical-align: top;\n",
       "    }\n",
       "\n",
       "    .dataframe thead th {\n",
       "        text-align: right;\n",
       "    }\n",
       "</style>\n",
       "<table border=\"1\" class=\"dataframe\">\n",
       "  <thead>\n",
       "    <tr style=\"text-align: right;\">\n",
       "      <th></th>\n",
       "      <th>Rowid</th>\n",
       "      <th>Country</th>\n",
       "      <th>State lgd code</th>\n",
       "      <th>State</th>\n",
       "      <th>Year</th>\n",
       "      <th>Coal type</th>\n",
       "      <th>Open cast mines</th>\n",
       "      <th>Underground mines</th>\n",
       "      <th>Mixed mines</th>\n",
       "    </tr>\n",
       "  </thead>\n",
       "  <tbody>\n",
       "    <tr>\n",
       "      <th>0</th>\n",
       "      <td>1</td>\n",
       "      <td>India</td>\n",
       "      <td>1</td>\n",
       "      <td>Jammu And Kashmir</td>\n",
       "      <td>2019-20</td>\n",
       "      <td>Coal</td>\n",
       "      <td>0.0</td>\n",
       "      <td>1.951318</td>\n",
       "      <td>0.0</td>\n",
       "    </tr>\n",
       "    <tr>\n",
       "      <th>1</th>\n",
       "      <td>2</td>\n",
       "      <td>India</td>\n",
       "      <td>8</td>\n",
       "      <td>Rajasthan</td>\n",
       "      <td>2019-20</td>\n",
       "      <td>Lignite</td>\n",
       "      <td>5.0</td>\n",
       "      <td>NaN</td>\n",
       "      <td>NaN</td>\n",
       "    </tr>\n",
       "    <tr>\n",
       "      <th>2</th>\n",
       "      <td>3</td>\n",
       "      <td>India</td>\n",
       "      <td>9</td>\n",
       "      <td>Uttar Pradesh</td>\n",
       "      <td>2019-20</td>\n",
       "      <td>Coal</td>\n",
       "      <td>5.0</td>\n",
       "      <td>0.000000</td>\n",
       "      <td>0.0</td>\n",
       "    </tr>\n",
       "    <tr>\n",
       "      <th>3</th>\n",
       "      <td>4</td>\n",
       "      <td>India</td>\n",
       "      <td>12</td>\n",
       "      <td>Arunachal Pradesh</td>\n",
       "      <td>2019-20</td>\n",
       "      <td>Coal</td>\n",
       "      <td>0.0</td>\n",
       "      <td>0.000000</td>\n",
       "      <td>0.0</td>\n",
       "    </tr>\n",
       "    <tr>\n",
       "      <th>4</th>\n",
       "      <td>5</td>\n",
       "      <td>India</td>\n",
       "      <td>18</td>\n",
       "      <td>Assam</td>\n",
       "      <td>2019-20</td>\n",
       "      <td>Coal</td>\n",
       "      <td>2.0</td>\n",
       "      <td>1.000000</td>\n",
       "      <td>0.0</td>\n",
       "    </tr>\n",
       "    <tr>\n",
       "      <th>5</th>\n",
       "      <td>6</td>\n",
       "      <td>India</td>\n",
       "      <td>19</td>\n",
       "      <td>West Bengal</td>\n",
       "      <td>2019-20</td>\n",
       "      <td>Coal</td>\n",
       "      <td>17.0</td>\n",
       "      <td>43.000000</td>\n",
       "      <td>10.0</td>\n",
       "    </tr>\n",
       "    <tr>\n",
       "      <th>6</th>\n",
       "      <td>7</td>\n",
       "      <td>India</td>\n",
       "      <td>20</td>\n",
       "      <td>Jharkhand</td>\n",
       "      <td>2019-20</td>\n",
       "      <td>Coal</td>\n",
       "      <td>74.0</td>\n",
       "      <td>33.000000</td>\n",
       "      <td>12.0</td>\n",
       "    </tr>\n",
       "    <tr>\n",
       "      <th>7</th>\n",
       "      <td>8</td>\n",
       "      <td>India</td>\n",
       "      <td>21</td>\n",
       "      <td>Odisha</td>\n",
       "      <td>2019-20</td>\n",
       "      <td>Coal</td>\n",
       "      <td>21.0</td>\n",
       "      <td>8.000000</td>\n",
       "      <td>0.0</td>\n",
       "    </tr>\n",
       "    <tr>\n",
       "      <th>8</th>\n",
       "      <td>9</td>\n",
       "      <td>India</td>\n",
       "      <td>22</td>\n",
       "      <td>Chhattisgarh</td>\n",
       "      <td>2019-20</td>\n",
       "      <td>Coal</td>\n",
       "      <td>24.0</td>\n",
       "      <td>29.000000</td>\n",
       "      <td>1.0</td>\n",
       "    </tr>\n",
       "    <tr>\n",
       "      <th>9</th>\n",
       "      <td>10</td>\n",
       "      <td>India</td>\n",
       "      <td>23</td>\n",
       "      <td>Madhya Pradesh</td>\n",
       "      <td>2019-20</td>\n",
       "      <td>Coal</td>\n",
       "      <td>22.0</td>\n",
       "      <td>36.000000</td>\n",
       "      <td>2.0</td>\n",
       "    </tr>\n",
       "    <tr>\n",
       "      <th>10</th>\n",
       "      <td>11</td>\n",
       "      <td>India</td>\n",
       "      <td>24</td>\n",
       "      <td>Gujarat</td>\n",
       "      <td>2019-20</td>\n",
       "      <td>Lignite</td>\n",
       "      <td>10.0</td>\n",
       "      <td>NaN</td>\n",
       "      <td>NaN</td>\n",
       "    </tr>\n",
       "    <tr>\n",
       "      <th>11</th>\n",
       "      <td>12</td>\n",
       "      <td>India</td>\n",
       "      <td>27</td>\n",
       "      <td>Maharashtra</td>\n",
       "      <td>2019-20</td>\n",
       "      <td>Coal</td>\n",
       "      <td>38.0</td>\n",
       "      <td>16.000000</td>\n",
       "      <td>0.0</td>\n",
       "    </tr>\n",
       "    <tr>\n",
       "      <th>12</th>\n",
       "      <td>13</td>\n",
       "      <td>India</td>\n",
       "      <td>33</td>\n",
       "      <td>Tamil Nadu</td>\n",
       "      <td>2019-20</td>\n",
       "      <td>Lignite</td>\n",
       "      <td>3.0</td>\n",
       "      <td>NaN</td>\n",
       "      <td>NaN</td>\n",
       "    </tr>\n",
       "    <tr>\n",
       "      <th>13</th>\n",
       "      <td>14</td>\n",
       "      <td>India</td>\n",
       "      <td>36</td>\n",
       "      <td>Telangana</td>\n",
       "      <td>2019-20</td>\n",
       "      <td>Coal</td>\n",
       "      <td>19.0</td>\n",
       "      <td>27.000000</td>\n",
       "      <td>0.0</td>\n",
       "    </tr>\n",
       "    <tr>\n",
       "      <th>14</th>\n",
       "      <td>15</td>\n",
       "      <td>India</td>\n",
       "      <td>37</td>\n",
       "      <td>Ladakh</td>\n",
       "      <td>2019-20</td>\n",
       "      <td>Coal</td>\n",
       "      <td>0.0</td>\n",
       "      <td>0.048682</td>\n",
       "      <td>0.0</td>\n",
       "    </tr>\n",
       "  </tbody>\n",
       "</table>\n",
       "</div>"
      ],
      "text/plain": [
       "    Rowid Country  State lgd code              State     Year Coal type  \\\n",
       "0       1   India               1  Jammu And Kashmir  2019-20      Coal   \n",
       "1       2   India               8          Rajasthan  2019-20   Lignite   \n",
       "2       3   India               9      Uttar Pradesh  2019-20      Coal   \n",
       "3       4   India              12  Arunachal Pradesh  2019-20      Coal   \n",
       "4       5   India              18              Assam  2019-20      Coal   \n",
       "5       6   India              19        West Bengal  2019-20      Coal   \n",
       "6       7   India              20          Jharkhand  2019-20      Coal   \n",
       "7       8   India              21             Odisha  2019-20      Coal   \n",
       "8       9   India              22       Chhattisgarh  2019-20      Coal   \n",
       "9      10   India              23     Madhya Pradesh  2019-20      Coal   \n",
       "10     11   India              24            Gujarat  2019-20   Lignite   \n",
       "11     12   India              27        Maharashtra  2019-20      Coal   \n",
       "12     13   India              33         Tamil Nadu  2019-20   Lignite   \n",
       "13     14   India              36          Telangana  2019-20      Coal   \n",
       "14     15   India              37             Ladakh  2019-20      Coal   \n",
       "\n",
       "    Open cast mines  Underground mines  Mixed mines  \n",
       "0               0.0           1.951318          0.0  \n",
       "1               5.0                NaN          NaN  \n",
       "2               5.0           0.000000          0.0  \n",
       "3               0.0           0.000000          0.0  \n",
       "4               2.0           1.000000          0.0  \n",
       "5              17.0          43.000000         10.0  \n",
       "6              74.0          33.000000         12.0  \n",
       "7              21.0           8.000000          0.0  \n",
       "8              24.0          29.000000          1.0  \n",
       "9              22.0          36.000000          2.0  \n",
       "10             10.0                NaN          NaN  \n",
       "11             38.0          16.000000          0.0  \n",
       "12              3.0                NaN          NaN  \n",
       "13             19.0          27.000000          0.0  \n",
       "14              0.0           0.048682          0.0  "
      ]
     },
     "metadata": {},
     "output_type": "display_data"
    }
   ],
   "source": [
    "df=pd.read_csv('Statewise Inventory of Geological Resources of Coal- No. of Mines by Type.csv')\n",
    "display(df)"
   ]
  },
  {
   "cell_type": "code",
   "execution_count": 3,
   "metadata": {},
   "outputs": [
    {
     "name": "stdout",
     "output_type": "stream",
     "text": [
      "<class 'pandas.core.frame.DataFrame'>\n",
      "RangeIndex: 15 entries, 0 to 14\n",
      "Data columns (total 9 columns):\n",
      " #   Column             Non-Null Count  Dtype  \n",
      "---  ------             --------------  -----  \n",
      " 0   Rowid              15 non-null     int64  \n",
      " 1   Country            15 non-null     object \n",
      " 2   State lgd code     15 non-null     int64  \n",
      " 3   State              15 non-null     object \n",
      " 4   Year               15 non-null     object \n",
      " 5   Coal type          15 non-null     object \n",
      " 6   Open cast mines    15 non-null     float64\n",
      " 7   Underground mines  12 non-null     float64\n",
      " 8   Mixed mines        12 non-null     float64\n",
      "dtypes: float64(3), int64(2), object(4)\n",
      "memory usage: 1.2+ KB\n"
     ]
    }
   ],
   "source": [
    "df.info()"
   ]
  },
  {
   "cell_type": "code",
   "execution_count": 4,
   "metadata": {},
   "outputs": [
    {
     "data": {
      "text/html": [
       "<div>\n",
       "<style scoped>\n",
       "    .dataframe tbody tr th:only-of-type {\n",
       "        vertical-align: middle;\n",
       "    }\n",
       "\n",
       "    .dataframe tbody tr th {\n",
       "        vertical-align: top;\n",
       "    }\n",
       "\n",
       "    .dataframe thead th {\n",
       "        text-align: right;\n",
       "    }\n",
       "</style>\n",
       "<table border=\"1\" class=\"dataframe\">\n",
       "  <thead>\n",
       "    <tr style=\"text-align: right;\">\n",
       "      <th></th>\n",
       "      <th>Rowid</th>\n",
       "      <th>State lgd code</th>\n",
       "      <th>Open cast mines</th>\n",
       "      <th>Underground mines</th>\n",
       "      <th>Mixed mines</th>\n",
       "    </tr>\n",
       "  </thead>\n",
       "  <tbody>\n",
       "    <tr>\n",
       "      <th>count</th>\n",
       "      <td>15.000000</td>\n",
       "      <td>15.000000</td>\n",
       "      <td>15.000000</td>\n",
       "      <td>12.000000</td>\n",
       "      <td>12.000000</td>\n",
       "    </tr>\n",
       "    <tr>\n",
       "      <th>mean</th>\n",
       "      <td>8.000000</td>\n",
       "      <td>20.666667</td>\n",
       "      <td>16.000000</td>\n",
       "      <td>16.250000</td>\n",
       "      <td>2.083333</td>\n",
       "    </tr>\n",
       "    <tr>\n",
       "      <th>std</th>\n",
       "      <td>4.472136</td>\n",
       "      <td>10.286376</td>\n",
       "      <td>19.628696</td>\n",
       "      <td>16.404157</td>\n",
       "      <td>4.231018</td>\n",
       "    </tr>\n",
       "    <tr>\n",
       "      <th>min</th>\n",
       "      <td>1.000000</td>\n",
       "      <td>1.000000</td>\n",
       "      <td>0.000000</td>\n",
       "      <td>0.000000</td>\n",
       "      <td>0.000000</td>\n",
       "    </tr>\n",
       "    <tr>\n",
       "      <th>25%</th>\n",
       "      <td>4.500000</td>\n",
       "      <td>15.000000</td>\n",
       "      <td>2.500000</td>\n",
       "      <td>0.762171</td>\n",
       "      <td>0.000000</td>\n",
       "    </tr>\n",
       "    <tr>\n",
       "      <th>50%</th>\n",
       "      <td>8.000000</td>\n",
       "      <td>21.000000</td>\n",
       "      <td>10.000000</td>\n",
       "      <td>12.000000</td>\n",
       "      <td>0.000000</td>\n",
       "    </tr>\n",
       "    <tr>\n",
       "      <th>75%</th>\n",
       "      <td>11.500000</td>\n",
       "      <td>25.500000</td>\n",
       "      <td>21.500000</td>\n",
       "      <td>30.000000</td>\n",
       "      <td>1.250000</td>\n",
       "    </tr>\n",
       "    <tr>\n",
       "      <th>max</th>\n",
       "      <td>15.000000</td>\n",
       "      <td>37.000000</td>\n",
       "      <td>74.000000</td>\n",
       "      <td>43.000000</td>\n",
       "      <td>12.000000</td>\n",
       "    </tr>\n",
       "  </tbody>\n",
       "</table>\n",
       "</div>"
      ],
      "text/plain": [
       "           Rowid  State lgd code  Open cast mines  Underground mines  \\\n",
       "count  15.000000       15.000000        15.000000          12.000000   \n",
       "mean    8.000000       20.666667        16.000000          16.250000   \n",
       "std     4.472136       10.286376        19.628696          16.404157   \n",
       "min     1.000000        1.000000         0.000000           0.000000   \n",
       "25%     4.500000       15.000000         2.500000           0.762171   \n",
       "50%     8.000000       21.000000        10.000000          12.000000   \n",
       "75%    11.500000       25.500000        21.500000          30.000000   \n",
       "max    15.000000       37.000000        74.000000          43.000000   \n",
       "\n",
       "       Mixed mines  \n",
       "count    12.000000  \n",
       "mean      2.083333  \n",
       "std       4.231018  \n",
       "min       0.000000  \n",
       "25%       0.000000  \n",
       "50%       0.000000  \n",
       "75%       1.250000  \n",
       "max      12.000000  "
      ]
     },
     "execution_count": 4,
     "metadata": {},
     "output_type": "execute_result"
    }
   ],
   "source": [
    "df.describe()"
   ]
  },
  {
   "cell_type": "code",
   "execution_count": 5,
   "metadata": {},
   "outputs": [
    {
     "name": "stdout",
     "output_type": "stream",
     "text": [
      "Rowid                0\n",
      "Country              0\n",
      "State lgd code       0\n",
      "State                0\n",
      "Year                 0\n",
      "Coal type            0\n",
      "Open cast mines      0\n",
      "Underground mines    3\n",
      "Mixed mines          3\n",
      "dtype: int64\n"
     ]
    }
   ],
   "source": [
    "x=df.isna().sum()   #df. isna(). sum() returns the number of missing values in each column.\n",
    "print(x)"
   ]
  },
  {
   "cell_type": "markdown",
   "metadata": {},
   "source": [
    "There are missing values in the data"
   ]
  },
  {
   "cell_type": "code",
   "execution_count": 6,
   "metadata": {},
   "outputs": [
    {
     "name": "stdout",
     "output_type": "stream",
     "text": [
      "Column \"Rowid\" has 15 unique values\n",
      "Column \"Country\" has 1 unique values\n",
      "Column \"State lgd code\" has 15 unique values\n",
      "Column \"State\" has 15 unique values\n",
      "Column \"Year\" has 1 unique values\n",
      "Column \"Coal type\" has 2 unique values\n",
      "Column \"Open cast mines\" has 12 unique values\n",
      "Column \"Underground mines\" has 12 unique values\n",
      "Column \"Mixed mines\" has 6 unique values\n"
     ]
    }
   ],
   "source": [
    "for col in df.columns.values:\n",
    "  unique_val = pd.unique(df[col])\n",
    "  print('Column ' + '\"'+ col+'\"'  + ' has ' + str(len(unique_val)) + ' unique values')"
   ]
  },
  {
   "cell_type": "code",
   "execution_count": 7,
   "metadata": {},
   "outputs": [
    {
     "name": "stdout",
     "output_type": "stream",
     "text": [
      "['Jammu And Kashmir' 'Rajasthan' 'Uttar Pradesh' 'Arunachal Pradesh'\n",
      " 'Assam' 'West Bengal' 'Jharkhand' 'Odisha' 'Chhattisgarh'\n",
      " 'Madhya Pradesh' 'Gujarat' 'Maharashtra' 'Tamil Nadu' 'Telangana'\n",
      " 'Ladakh']\n"
     ]
    }
   ],
   "source": [
    "states=df['State'].unique()\n",
    "print(states)"
   ]
  },
  {
   "cell_type": "code",
   "execution_count": 9,
   "metadata": {},
   "outputs": [
    {
     "name": "stdout",
     "output_type": "stream",
     "text": [
      "State\n",
      "Arunachal Pradesh     0.0\n",
      "Assam                 2.0\n",
      "Chhattisgarh         24.0\n",
      "Gujarat              10.0\n",
      "Jammu And Kashmir     0.0\n",
      "Jharkhand            74.0\n",
      "Ladakh                0.0\n",
      "Madhya Pradesh       22.0\n",
      "Maharashtra          38.0\n",
      "Odisha               21.0\n",
      "Rajasthan             5.0\n",
      "Tamil Nadu            3.0\n",
      "Telangana            19.0\n",
      "Uttar Pradesh         5.0\n",
      "West Bengal          17.0\n",
      "dtype: float64\n"
     ]
    }
   ],
   "source": [
    "df2 = df.groupby('State').apply(lambda x: x['Open cast mines'].unique().sum())\n",
    "print(df2)"
   ]
  },
  {
   "cell_type": "code",
   "execution_count": 10,
   "metadata": {},
   "outputs": [
    {
     "name": "stdout",
     "output_type": "stream",
     "text": [
      "State\n",
      "Arunachal Pradesh     0.0\n",
      "Jammu And Kashmir     0.0\n",
      "Ladakh                0.0\n",
      "Assam                 2.0\n",
      "Tamil Nadu            3.0\n",
      "Rajasthan             5.0\n",
      "Uttar Pradesh         5.0\n",
      "Gujarat              10.0\n",
      "West Bengal          17.0\n",
      "Telangana            19.0\n",
      "Odisha               21.0\n",
      "Madhya Pradesh       22.0\n",
      "Chhattisgarh         24.0\n",
      "Maharashtra          38.0\n",
      "Jharkhand            74.0\n",
      "dtype: float64\n"
     ]
    }
   ],
   "source": [
    "df1=df2.sort_values()\n",
    "print(df1)"
   ]
  },
  {
   "cell_type": "markdown",
   "metadata": {},
   "source": [
    "Open-pit mining, also known as opencast mining, is a surface mining technique that extracts minerals from an open pit in the ground. Courtesy:Google"
   ]
  },
  {
   "cell_type": "code",
   "execution_count": 11,
   "metadata": {},
   "outputs": [
    {
     "data": {
      "text/plain": [
       "<AxesSubplot:xlabel='State', ylabel='Open Cast Mines'>"
      ]
     },
     "execution_count": 11,
     "metadata": {},
     "output_type": "execute_result"
    },
    {
     "data": {
      "image/png": "[encoded data removed]",
      "text/plain": [
       "<Figure size 1500x800 with 1 Axes>"
      ]
     },
     "metadata": {},
     "output_type": "display_data"
    }
   ],
   "source": [
    "df1.plot(kind='bar', y='Coal Produced',figsize=(15,8),ylabel='Open Cast Mines',color='red')"
   ]
  },
  {
   "cell_type": "code",
   "execution_count": 13,
   "metadata": {},
   "outputs": [
    {
     "name": "stdout",
     "output_type": "stream",
     "text": [
      "State\n",
      "Arunachal Pradesh     0.0\n",
      "Assam                 2.0\n",
      "Chhattisgarh         24.0\n",
      "Gujarat              10.0\n",
      "Jammu And Kashmir     0.0\n",
      "Jharkhand            74.0\n",
      "Ladakh                0.0\n",
      "Madhya Pradesh       22.0\n",
      "Maharashtra          38.0\n",
      "Odisha               21.0\n",
      "Rajasthan             5.0\n",
      "Tamil Nadu            3.0\n",
      "Telangana            19.0\n",
      "Uttar Pradesh         5.0\n",
      "West Bengal          17.0\n",
      "dtype: float64\n"
     ]
    }
   ],
   "source": [
    "dfy = df.groupby('State').apply(lambda x: x['Open cast mines'].unique().sum())\n",
    "print(dfy)"
   ]
  },
  {
   "cell_type": "code",
   "execution_count": 14,
   "metadata": {},
   "outputs": [
    {
     "data": {
      "text/plain": [
       "Text(0, 0.5, 'Open Cast Mines')"
      ]
     },
     "execution_count": 14,
     "metadata": {},
     "output_type": "execute_result"
    },
    {
     "data": {
      "image/png": "[encoded data removed]",
      "text/plain": [
       "<Figure size 640x480 with 1 Axes>"
      ]
     },
     "metadata": {},
     "output_type": "display_data"
    }
   ],
   "source": [
    "plt.plot(dfy,'red')\n",
    "plt.xlabel(\"State\")\n",
    "plt.ylabel(\"Open Cast Mines\")"
   ]
  },
  {
   "cell_type": "code",
   "execution_count": 15,
   "metadata": {},
   "outputs": [
    {
     "name": "stdout",
     "output_type": "stream",
     "text": [
      "Coal type\n",
      "Coal       Jammu And KashmirUttar PradeshArunachal Prades...\n",
      "Lignite                           RajasthanGujaratTamil Nadu\n",
      "dtype: object\n",
      "\n",
      "\n"
     ]
    }
   ],
   "source": [
    "dfs = df.groupby('Coal type').apply(lambda x: x['State'].unique().sum())\n",
    "print(dfs)\n",
    "print('\\n')\n",
    "\n",
    "# dfs2 = df.groupby('Coal type').apply(lambda x: x['Qualtity of coal produced'].unique().sum())\n",
    "# print(dfs2)"
   ]
  },
  {
   "cell_type": "code",
   "execution_count": null,
   "metadata": {},
   "outputs": [],
   "source": []
  }
 ],
 "metadata": {
  "kernelspec": {
   "display_name": "Python 3.10.7 64-bit",
   "language": "python",
   "name": "python3"
  },
  "language_info": {
   "codemirror_mode": {
    "name": "ipython",
    "version": 3
   },
   "file_extension": ".py",
   "mimetype": "text/x-python",
   "name": "python",
   "nbconvert_exporter": "python",
   "pygments_lexer": "ipython3",
   "version": "3.10.7"
  },
  "orig_nbformat": 4,
  "vscode": {
   "interpreter": {
    "hash": "26de051ba29f2982a8de78e945f0abaf191376122a1563185a90213a26c5da77"
   }
  }
 },
 "nbformat": 4,
 "nbformat_minor": 2
}
