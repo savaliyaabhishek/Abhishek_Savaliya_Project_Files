{
  "nbformat": 4,
  "nbformat_minor": 0,
  "metadata": {
    "colab": {
      "provenance": [],
      "collapsed_sections": []
    },
    "kernelspec": {
      "name": "python3",
      "display_name": "Python 3"
    },
    "language_info": {
      "name": "python"
    }
  },
  "cells": [
    {
      "cell_type": "code",
      "source": [
        "import numpy as np\n",
        "import matplotlib.pyplot as plt\n",
        "import cmath \n",
        "f = open(\"65.txt\", \"r\")\n",
        "  \n",
        "data = f.read()\n",
        "  \n",
        "samples = data.split(\"\\n\")\n",
        "f.close()\n",
        "com_sam = []\n",
        "real = []\n",
        "imag = []\n",
        "for i in range(0,len(samples)):\n",
        "    com_sam.append(complex(samples[i]))\n",
        "    \n",
        "for i in range(0,len(com_sam)):\n",
        "    real.append(com_sam[i].real)\n",
        "    imag.append(com_sam[i].imag)\n",
        "\n",
        "i = np.arange(0,len(imag))\n",
        "# print(com_sam)   \n",
        "#print(data_into_list)\n",
        "plt.plot(i,real,'black')\n",
        "# plt.plot(real,imag)\n",
        "# print(samples)\n",
        "\n",
        "g = open(\"88.txt\", \"r\")\n",
        "\n",
        "data = g.read()\n",
        "  \n",
        "samples = data.split(\"\\n\")\n",
        "f.close()\n",
        "com_sam = []\n",
        "real = []\n",
        "imag = []\n",
        "for i in range(0,len(samples)):\n",
        "    com_sam.append(complex(samples[i]))\n",
        "    \n",
        "for i in range(0,len(com_sam)):\n",
        "    real.append(com_sam[i].real)\n",
        "    imag.append(com_sam[i].imag)\n",
        "\n",
        "i = np.arange(0,len(imag))\n",
        "# print(com_sam)   \n",
        "#print(data_into_list)\n",
        "plt.plot(i,real,'red')\n",
        "# plt.plot(real,imag)\n",
        "# print(samples)\n",
        "\n",
        "\n",
        "g = open(\"65.txt\", \"r\")\n",
        "\n",
        "data = g.read()\n",
        "  \n",
        "samples = data.split(\"\\n\")\n",
        "f.close()\n",
        "com_sam = []\n",
        "real = []\n",
        "imag = []\n",
        "for i in range(0,len(samples)):\n",
        "    com_sam.append(complex(samples[i]))\n",
        "    \n",
        "for i in range(0,len(com_sam)):\n",
        "    real.append(com_sam[i].real)\n",
        "    imag.append(com_sam[i].imag)\n",
        "\n",
        "i = np.arange(0,len(imag))\n",
        "# print(com_sam)   \n",
        "#print(data_into_list)\n",
        "plt.plot(i,real,'blue')\n",
        "# plt.plot(real,imag)\n",
        "# print(samples)"
      ],
      "metadata": {
        "colab": {
          "base_uri": "https://localhost:8080/",
          "height": 282
        },
        "id": "qrIyCgVR5HLv",
        "outputId": "b58fe029-1581-489e-ca7e-45847d8ec02c"
      },
      "execution_count": null,
      "outputs": [
        {
          "output_type": "execute_result",
          "data": {
            "text/plain": [
              "[<matplotlib.lines.Line2D at 0x7fb87e7322d0>]"
            ]
          },
          "metadata": {},
          "execution_count": 2
        },
        {
          "output_type": "display_data",
          "data": {
            "text/plain": [
              "<Figure size 432x288 with 1 Axes>"
            ],
            "image/png": "[encoded data removed]"
          },
          "metadata": {
            "needs_background": "light"
          }
        }
      ]
    },
    {
      "cell_type": "markdown",
      "source": [
        "Hence 88.txt is my left neighbour and since my sequence ends at zero I am rightmost member of the sequence. So I have no right neighbour."
      ],
      "metadata": {
        "id": "-M7nW1TJcVxi"
      }
    }
  ]
}